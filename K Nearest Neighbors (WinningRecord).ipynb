{
  "nbformat": 4,
  "nbformat_minor": 0,
  "metadata": {
    "colab": {
      "provenance": []
    },
    "kernelspec": {
      "name": "python3",
      "display_name": "Python 3"
    },
    "language_info": {
      "name": "python"
    }
  },
  "cells": [
    {
      "cell_type": "code",
      "execution_count": null,
      "metadata": {
        "id": "qjyFpyyXDCpB"
      },
      "outputs": [],
      "source": [
        "import pandas as pd\n",
        "import numpy as np\n",
        "import matplotlib.pyplot as plt\n",
        "import seaborn as sns\n",
        "from sklearn.model_selection import train_test_split, StratifiedKFold, cross_val_predict\n",
        "from sklearn.metrics import confusion_matrix, classification_report, accuracy_score\n",
        "from sklearn.neighbors import KNeighborsClassifier\n",
        "from sklearn.model_selection import KFold, cross_val_score, validation_curve, StratifiedShuffleSplit\n",
        "from sklearn import metrics"
      ]
    },
    {
      "cell_type": "code",
      "source": [
        "# The three datasets created during the feature selection process are uploaded. \n",
        "# Each dataset contains a different ordering of the feature variables based on their importance.\n",
        "\n",
        "featuresMIC = pd.read_csv('featuresRankedMIC.csv')\n",
        "featuresFC = pd.read_csv('featuresRankedFC.csv')\n",
        "featuresRFC = pd.read_csv('featuresRankedRFC.csv')"
      ],
      "metadata": {
        "id": "_djPe-ucDbvS"
      },
      "execution_count": null,
      "outputs": []
    },
    {
      "cell_type": "markdown",
      "source": [
        "# Mutual Information Gain"
      ],
      "metadata": {
        "id": "yVLGV32rDgV0"
      }
    },
    {
      "cell_type": "code",
      "source": [
        "# The top 20 features will be selected from each dataset for machine learning.\n",
        "\n",
        "X = featuresMIC.iloc[:,0:20]\n",
        "y = featuresMIC['WinningRecord']"
      ],
      "metadata": {
        "id": "KfsYQI8ODf5C"
      },
      "execution_count": null,
      "outputs": []
    },
    {
      "cell_type": "code",
      "source": [
        "featuresMIC.iloc[:,0:20].head()"
      ],
      "metadata": {
        "colab": {
          "base_uri": "https://localhost:8080/",
          "height": 305
        },
        "id": "No5cBZzMgfba",
        "outputId": "879f7a77-74cf-48dc-b760-34a3411b7506"
      },
      "execution_count": null,
      "outputs": [
        {
          "output_type": "execute_result",
          "data": {
            "text/plain": [
              "       ERA+  OPS+      RA/G        SV      1Run  Under500      BB_P       H_P  \\\n",
              "0  0.173913  0.44  0.477612  0.302094  0.559387  0.402703  0.429180  0.622353   \n",
              "1  0.637681  0.32  0.000000  0.194577  0.390805  0.389189  0.154861  0.181001   \n",
              "2  0.231884  0.56  0.300995  0.265422  0.641762  0.385135  0.429180  0.464920   \n",
              "3  0.275362  0.36  0.161692  0.100396  0.618774  0.271622  0.688073  0.159225   \n",
              "4  0.594203  0.46  0.208955  0.390013  0.392720  0.528378  0.204570  0.482468   \n",
              "\n",
              "        R/G  #a-tA-S    DefEff      HR_P    BatAge        BB        WP  \\\n",
              "0  0.339394     0.45  0.602041  0.418914  0.292135  0.465585  0.687796   \n",
              "1  0.133333     0.65  1.000000  0.123964  0.460674  0.410213  0.262041   \n",
              "2  0.363636     0.75  0.581633  0.189573  0.483146  0.440077  0.221357   \n",
              "3  0.000000     0.40  0.867347  0.142855  0.505618  0.021753  0.435667   \n",
              "4  0.442424     0.60  0.663265  0.233241  0.606742  0.540521  0.218771   \n",
              "\n",
              "         HR       SOS        IP      Rtot       IBB  \n",
              "0  0.380797  0.545455  0.678982  0.391473  0.288005  \n",
              "1  0.213898  0.454545  0.697641  0.841085  0.380978  \n",
              "2  0.303797  0.454545  0.710241  0.372093  0.322774  \n",
              "3  0.126699  0.454545  0.680184  0.569767  0.343635  \n",
              "4  0.335165  0.363636  0.752545  0.441860  0.520958  "
            ],
            "text/html": [
              "\n",
              "  <div id=\"df-5fff3d66-5e6d-41e7-9c55-9c939c663540\">\n",
              "    <div class=\"colab-df-container\">\n",
              "      <div>\n",
              "<style scoped>\n",
              "    .dataframe tbody tr th:only-of-type {\n",
              "        vertical-align: middle;\n",
              "    }\n",
              "\n",
              "    .dataframe tbody tr th {\n",
              "        vertical-align: top;\n",
              "    }\n",
              "\n",
              "    .dataframe thead th {\n",
              "        text-align: right;\n",
              "    }\n",
              "</style>\n",
              "<table border=\"1\" class=\"dataframe\">\n",
              "  <thead>\n",
              "    <tr style=\"text-align: right;\">\n",
              "      <th></th>\n",
              "      <th>ERA+</th>\n",
              "      <th>OPS+</th>\n",
              "      <th>RA/G</th>\n",
              "      <th>SV</th>\n",
              "      <th>1Run</th>\n",
              "      <th>Under500</th>\n",
              "      <th>BB_P</th>\n",
              "      <th>H_P</th>\n",
              "      <th>R/G</th>\n",
              "      <th>#a-tA-S</th>\n",
              "      <th>DefEff</th>\n",
              "      <th>HR_P</th>\n",
              "      <th>BatAge</th>\n",
              "      <th>BB</th>\n",
              "      <th>WP</th>\n",
              "      <th>HR</th>\n",
              "      <th>SOS</th>\n",
              "      <th>IP</th>\n",
              "      <th>Rtot</th>\n",
              "      <th>IBB</th>\n",
              "    </tr>\n",
              "  </thead>\n",
              "  <tbody>\n",
              "    <tr>\n",
              "      <th>0</th>\n",
              "      <td>0.173913</td>\n",
              "      <td>0.44</td>\n",
              "      <td>0.477612</td>\n",
              "      <td>0.302094</td>\n",
              "      <td>0.559387</td>\n",
              "      <td>0.402703</td>\n",
              "      <td>0.429180</td>\n",
              "      <td>0.622353</td>\n",
              "      <td>0.339394</td>\n",
              "      <td>0.45</td>\n",
              "      <td>0.602041</td>\n",
              "      <td>0.418914</td>\n",
              "      <td>0.292135</td>\n",
              "      <td>0.465585</td>\n",
              "      <td>0.687796</td>\n",
              "      <td>0.380797</td>\n",
              "      <td>0.545455</td>\n",
              "      <td>0.678982</td>\n",
              "      <td>0.391473</td>\n",
              "      <td>0.288005</td>\n",
              "    </tr>\n",
              "    <tr>\n",
              "      <th>1</th>\n",
              "      <td>0.637681</td>\n",
              "      <td>0.32</td>\n",
              "      <td>0.000000</td>\n",
              "      <td>0.194577</td>\n",
              "      <td>0.390805</td>\n",
              "      <td>0.389189</td>\n",
              "      <td>0.154861</td>\n",
              "      <td>0.181001</td>\n",
              "      <td>0.133333</td>\n",
              "      <td>0.65</td>\n",
              "      <td>1.000000</td>\n",
              "      <td>0.123964</td>\n",
              "      <td>0.460674</td>\n",
              "      <td>0.410213</td>\n",
              "      <td>0.262041</td>\n",
              "      <td>0.213898</td>\n",
              "      <td>0.454545</td>\n",
              "      <td>0.697641</td>\n",
              "      <td>0.841085</td>\n",
              "      <td>0.380978</td>\n",
              "    </tr>\n",
              "    <tr>\n",
              "      <th>2</th>\n",
              "      <td>0.231884</td>\n",
              "      <td>0.56</td>\n",
              "      <td>0.300995</td>\n",
              "      <td>0.265422</td>\n",
              "      <td>0.641762</td>\n",
              "      <td>0.385135</td>\n",
              "      <td>0.429180</td>\n",
              "      <td>0.464920</td>\n",
              "      <td>0.363636</td>\n",
              "      <td>0.75</td>\n",
              "      <td>0.581633</td>\n",
              "      <td>0.189573</td>\n",
              "      <td>0.483146</td>\n",
              "      <td>0.440077</td>\n",
              "      <td>0.221357</td>\n",
              "      <td>0.303797</td>\n",
              "      <td>0.454545</td>\n",
              "      <td>0.710241</td>\n",
              "      <td>0.372093</td>\n",
              "      <td>0.322774</td>\n",
              "    </tr>\n",
              "    <tr>\n",
              "      <th>3</th>\n",
              "      <td>0.275362</td>\n",
              "      <td>0.36</td>\n",
              "      <td>0.161692</td>\n",
              "      <td>0.100396</td>\n",
              "      <td>0.618774</td>\n",
              "      <td>0.271622</td>\n",
              "      <td>0.688073</td>\n",
              "      <td>0.159225</td>\n",
              "      <td>0.000000</td>\n",
              "      <td>0.40</td>\n",
              "      <td>0.867347</td>\n",
              "      <td>0.142855</td>\n",
              "      <td>0.505618</td>\n",
              "      <td>0.021753</td>\n",
              "      <td>0.435667</td>\n",
              "      <td>0.126699</td>\n",
              "      <td>0.454545</td>\n",
              "      <td>0.680184</td>\n",
              "      <td>0.569767</td>\n",
              "      <td>0.343635</td>\n",
              "    </tr>\n",
              "    <tr>\n",
              "      <th>4</th>\n",
              "      <td>0.594203</td>\n",
              "      <td>0.46</td>\n",
              "      <td>0.208955</td>\n",
              "      <td>0.390013</td>\n",
              "      <td>0.392720</td>\n",
              "      <td>0.528378</td>\n",
              "      <td>0.204570</td>\n",
              "      <td>0.482468</td>\n",
              "      <td>0.442424</td>\n",
              "      <td>0.60</td>\n",
              "      <td>0.663265</td>\n",
              "      <td>0.233241</td>\n",
              "      <td>0.606742</td>\n",
              "      <td>0.540521</td>\n",
              "      <td>0.218771</td>\n",
              "      <td>0.335165</td>\n",
              "      <td>0.363636</td>\n",
              "      <td>0.752545</td>\n",
              "      <td>0.441860</td>\n",
              "      <td>0.520958</td>\n",
              "    </tr>\n",
              "  </tbody>\n",
              "</table>\n",
              "</div>\n",
              "      <button class=\"colab-df-convert\" onclick=\"convertToInteractive('df-5fff3d66-5e6d-41e7-9c55-9c939c663540')\"\n",
              "              title=\"Convert this dataframe to an interactive table.\"\n",
              "              style=\"display:none;\">\n",
              "        \n",
              "  <svg xmlns=\"http://www.w3.org/2000/svg\" height=\"24px\"viewBox=\"0 0 24 24\"\n",
              "       width=\"24px\">\n",
              "    <path d=\"M0 0h24v24H0V0z\" fill=\"none\"/>\n",
              "    <path d=\"M18.56 5.44l.94 2.06.94-2.06 2.06-.94-2.06-.94-.94-2.06-.94 2.06-2.06.94zm-11 1L8.5 8.5l.94-2.06 2.06-.94-2.06-.94L8.5 2.5l-.94 2.06-2.06.94zm10 10l.94 2.06.94-2.06 2.06-.94-2.06-.94-.94-2.06-.94 2.06-2.06.94z\"/><path d=\"M17.41 7.96l-1.37-1.37c-.4-.4-.92-.59-1.43-.59-.52 0-1.04.2-1.43.59L10.3 9.45l-7.72 7.72c-.78.78-.78 2.05 0 2.83L4 21.41c.39.39.9.59 1.41.59.51 0 1.02-.2 1.41-.59l7.78-7.78 2.81-2.81c.8-.78.8-2.07 0-2.86zM5.41 20L4 18.59l7.72-7.72 1.47 1.35L5.41 20z\"/>\n",
              "  </svg>\n",
              "      </button>\n",
              "      \n",
              "  <style>\n",
              "    .colab-df-container {\n",
              "      display:flex;\n",
              "      flex-wrap:wrap;\n",
              "      gap: 12px;\n",
              "    }\n",
              "\n",
              "    .colab-df-convert {\n",
              "      background-color: #E8F0FE;\n",
              "      border: none;\n",
              "      border-radius: 50%;\n",
              "      cursor: pointer;\n",
              "      display: none;\n",
              "      fill: #1967D2;\n",
              "      height: 32px;\n",
              "      padding: 0 0 0 0;\n",
              "      width: 32px;\n",
              "    }\n",
              "\n",
              "    .colab-df-convert:hover {\n",
              "      background-color: #E2EBFA;\n",
              "      box-shadow: 0px 1px 2px rgba(60, 64, 67, 0.3), 0px 1px 3px 1px rgba(60, 64, 67, 0.15);\n",
              "      fill: #174EA6;\n",
              "    }\n",
              "\n",
              "    [theme=dark] .colab-df-convert {\n",
              "      background-color: #3B4455;\n",
              "      fill: #D2E3FC;\n",
              "    }\n",
              "\n",
              "    [theme=dark] .colab-df-convert:hover {\n",
              "      background-color: #434B5C;\n",
              "      box-shadow: 0px 1px 3px 1px rgba(0, 0, 0, 0.15);\n",
              "      filter: drop-shadow(0px 1px 2px rgba(0, 0, 0, 0.3));\n",
              "      fill: #FFFFFF;\n",
              "    }\n",
              "  </style>\n",
              "\n",
              "      <script>\n",
              "        const buttonEl =\n",
              "          document.querySelector('#df-5fff3d66-5e6d-41e7-9c55-9c939c663540 button.colab-df-convert');\n",
              "        buttonEl.style.display =\n",
              "          google.colab.kernel.accessAllowed ? 'block' : 'none';\n",
              "\n",
              "        async function convertToInteractive(key) {\n",
              "          const element = document.querySelector('#df-5fff3d66-5e6d-41e7-9c55-9c939c663540');\n",
              "          const dataTable =\n",
              "            await google.colab.kernel.invokeFunction('convertToInteractive',\n",
              "                                                     [key], {});\n",
              "          if (!dataTable) return;\n",
              "\n",
              "          const docLinkHtml = 'Like what you see? Visit the ' +\n",
              "            '<a target=\"_blank\" href=https://colab.research.google.com/notebooks/data_table.ipynb>data table notebook</a>'\n",
              "            + ' to learn more about interactive tables.';\n",
              "          element.innerHTML = '';\n",
              "          dataTable['output_type'] = 'display_data';\n",
              "          await google.colab.output.renderOutput(dataTable, element);\n",
              "          const docLink = document.createElement('div');\n",
              "          docLink.innerHTML = docLinkHtml;\n",
              "          element.appendChild(docLink);\n",
              "        }\n",
              "      </script>\n",
              "    </div>\n",
              "  </div>\n",
              "  "
            ]
          },
          "metadata": {},
          "execution_count": 4
        }
      ]
    },
    {
      "cell_type": "code",
      "source": [
        "# A stratified train-test split is performed on the dataset, with 80% of the data assigned to training set and 20% assigned to testing set.\n",
        "\n",
        "X_train, X_test, y_train, y_test = train_test_split(X, y, test_size=0.2, random_state=1, stratify=y)"
      ],
      "metadata": {
        "id": "B3tLEX9IDulL"
      },
      "execution_count": null,
      "outputs": []
    },
    {
      "cell_type": "code",
      "source": [
        "# Parameters for KNN algorithm \n",
        "\n",
        "KNNmetrics = ['manhattan','minkowski','euclidean']\n",
        "n_neighbors = np.arange(1,30,2)"
      ],
      "metadata": {
        "id": "tu77KHQsD1hd"
      },
      "execution_count": null,
      "outputs": []
    },
    {
      "cell_type": "code",
      "source": [
        "# 10-fold cross validation is performed on the training set for parameter tuning.\n",
        "# The manhattan, minkowski, and euclidean distance metrics are assessed for accuracy\n",
        "\n",
        "train_scores, valid_scores = validation_curve(KNeighborsClassifier(), X_train, y_train, param_name=\"metric\", param_range=KNNmetrics, scoring='accuracy', cv=10)\n",
        "train_scores_mean = np.mean(train_scores, axis=1)\n",
        "valid_scores_mean = np.mean(valid_scores, axis=1)\n",
        "\n",
        "print(valid_scores_mean)\n",
        "plt.title(\"Validation Curve with K Nearest Neighbors\")\n",
        "plt.xlabel(\"Metric\")\n",
        "plt.ylabel(\"Accuracy\")\n",
        "plt.plot(KNNmetrics, train_scores_mean, label=\"train accuracy\")\n",
        "plt.plot(KNNmetrics, valid_scores_mean, label=\"validation accuracy\")\n",
        "\n",
        "plt.legend()\n",
        "plt.show()"
      ],
      "metadata": {
        "colab": {
          "base_uri": "https://localhost:8080/",
          "height": 312
        },
        "id": "ejQ-YE6YD5K9",
        "outputId": "e931adc8-61a6-4af3-e41c-d10e90bcf307"
      },
      "execution_count": null,
      "outputs": [
        {
          "output_type": "stream",
          "name": "stdout",
          "text": [
            "[0.90055502 0.89518179 0.89518179]\n"
          ]
        },
        {
          "output_type": "display_data",
          "data": {
            "text/plain": [
              "<Figure size 432x288 with 1 Axes>"
            ],
            "image/png": "[encoded data removed]"
          },
          "metadata": {
            "needs_background": "light"
          }
        }
      ]
    },
    {
      "cell_type": "code",
      "source": [
        "# Manhattan distance metric appears to perform best on the training set and validation set.\n",
        "# The n_neighbors parameter is tested next for model accuracy. \n",
        "\n",
        "train_scores, valid_scores = validation_curve(KNeighborsClassifier(metric='manhattan'), X_train, y_train, param_name=\"n_neighbors\", param_range=n_neighbors, scoring='accuracy', cv=10)\n",
        "train_scores_mean = np.mean(train_scores, axis=1)\n",
        "valid_scores_mean = np.mean(valid_scores, axis=1)\n",
        "\n",
        "print(valid_scores_mean)\n",
        "plt.title(\"Validation Curve with K Nearest Neighbors\")\n",
        "plt.xlabel(\"n_neighbors\")\n",
        "plt.ylabel(\"Accuracy\")\n",
        "plt.xticks(np.arange(1,30,step=2))\n",
        "plt.plot(n_neighbors, train_scores_mean, label=\"train accuracy\")\n",
        "plt.plot(n_neighbors, valid_scores_mean, label=\"validation accuracy\")\n",
        "\n",
        "plt.legend()\n",
        "plt.show()"
      ],
      "metadata": {
        "colab": {
          "base_uri": "https://localhost:8080/",
          "height": 348
        },
        "id": "Ndljy3bYFwM8",
        "outputId": "b66bc57b-93f7-4d5b-a764-9b3c4686fcd7"
      },
      "execution_count": null,
      "outputs": [
        {
          "output_type": "stream",
          "name": "stdout",
          "text": [
            "[0.85484234 0.89337999 0.90055502 0.90591216 0.90591216 0.89785232\n",
            " 0.90679698 0.90679698 0.90948359 0.91574968 0.91932111 0.92111486\n",
            " 0.92382561 0.92561133 0.92291667]\n"
          ]
        },
        {
          "output_type": "display_data",
          "data": {
            "text/plain": [
              "<Figure size 432x288 with 1 Axes>"
            ],
            "image/png": "[encoded data removed]"
          },
          "metadata": {
            "needs_background": "light"
          }
        }
      ]
    },
    {
      "cell_type": "code",
      "source": [
        "# The standard deviation is evaluated for each value of K\n",
        "\n",
        "train_scores, valid_scores = validation_curve(KNeighborsClassifier(metric='manhattan'), X_train, y_train, param_name=\"n_neighbors\", param_range=n_neighbors, scoring='accuracy', cv=10)\n",
        "train_scores_std = np.std(train_scores, axis=1)\n",
        "valid_scores_std = np.std(valid_scores, axis=1)\n",
        "\n",
        "print(valid_scores_std)\n",
        "plt.title(\"Validation Curve with K Nearest Neighbors\")\n",
        "plt.xlabel(\"n_neighbors\")\n",
        "plt.ylabel(\"Std. Deviation\")\n",
        "plt.xticks(np.arange(1,30,step=2))\n",
        "plt.plot(n_neighbors, train_scores_std, label=\"train std. deviation\")\n",
        "plt.plot(n_neighbors, valid_scores_std, label=\"validation std. deviation\")\n",
        "\n",
        "plt.legend()\n",
        "plt.show()"
      ],
      "metadata": {
        "colab": {
          "base_uri": "https://localhost:8080/",
          "height": 348
        },
        "id": "oT9ZeFaaEPpI",
        "outputId": "fcb28f60-dd1c-4a2f-ebca-dce4a4467121"
      },
      "execution_count": null,
      "outputs": [
        {
          "output_type": "stream",
          "name": "stdout",
          "text": [
            "[0.02917315 0.02789745 0.03137717 0.03381187 0.0295232  0.02635259\n",
            " 0.02018439 0.02061058 0.01949552 0.01980004 0.0238262  0.02084718\n",
            " 0.01806564 0.01507868 0.01850869]\n"
          ]
        },
        {
          "output_type": "display_data",
          "data": {
            "text/plain": [
              "<Figure size 432x288 with 1 Axes>"
            ],
            "image/png": "[encoded data removed]"
          },
          "metadata": {
            "needs_background": "light"
          }
        }
      ]
    },
    {
      "cell_type": "code",
      "source": [
        "KNN = KNeighborsClassifier(n_neighbors=25, metric='manhattan')\n",
        "KNN.fit(X_train, y_train)\n",
        "y_pred = KNN.predict(X_test)\n",
        "cm = metrics.confusion_matrix(y_test, y_pred)"
      ],
      "metadata": {
        "id": "t-PlySITEjnK"
      },
      "execution_count": null,
      "outputs": []
    },
    {
      "cell_type": "code",
      "source": [
        "plt.figure(figsize=(5,5))\n",
        "sns.heatmap(cm, annot=True, fmt=\".0f\", linewidths=.5, square = True, cmap = 'Blues_r');\n",
        "plt.ylabel('Actual label');\n",
        "plt.xlabel('Predicted label');\n",
        "all_sample_title = 'Accuracy Score: {0}'.format(round(accuracy_score(y_test, y_pred),3))\n",
        "plt.title(all_sample_title, size = 15);"
      ],
      "metadata": {
        "colab": {
          "base_uri": "https://localhost:8080/",
          "height": 309
        },
        "id": "J5NoscUInY11",
        "outputId": "3a324ca1-173a-42ed-dae6-3d63d3819dc0"
      },
      "execution_count": null,
      "outputs": [
        {
          "output_type": "display_data",
          "data": {
            "text/plain": [
              "<Figure size 360x360 with 2 Axes>"
            ],
            "image/png": "[encoded data removed]"
          },
          "metadata": {
            "needs_background": "light"
          }
        }
      ]
    },
    {
      "cell_type": "code",
      "source": [
        "tn, fp, fn, tp=cm.ravel()\n",
        "print (\"TP: \", tp,\"\\n\" \"FP: \",fp,\"\\n\" \"TN: \", tn,\"\\n\" \"FN: \",fn)\n",
        "print()\n",
        "print(classification_report(y_test, y_pred))"
      ],
      "metadata": {
        "colab": {
          "base_uri": "https://localhost:8080/"
        },
        "id": "eaajUCKVXKpU",
        "outputId": "614c4353-770f-48e1-a14d-73037ff1e528"
      },
      "execution_count": null,
      "outputs": [
        {
          "output_type": "stream",
          "name": "stdout",
          "text": [
            "TP:  126 \n",
            "FP:  11 \n",
            "TN:  125 \n",
            "FN:  18\n",
            "\n",
            "              precision    recall  f1-score   support\n",
            "\n",
            "           0       0.87      0.92      0.90       136\n",
            "           1       0.92      0.88      0.90       144\n",
            "\n",
            "    accuracy                           0.90       280\n",
            "   macro avg       0.90      0.90      0.90       280\n",
            "weighted avg       0.90      0.90      0.90       280\n",
            "\n"
          ]
        }
      ]
    },
    {
      "cell_type": "markdown",
      "source": [
        "# ANOVA F-test"
      ],
      "metadata": {
        "id": "hFdSiIaLOt46"
      }
    },
    {
      "cell_type": "code",
      "source": [
        "# The above process is now repeated for the top 20 features as selected by the ANOVA F-test selection algorithm.\n",
        "\n",
        "X = featuresFC.iloc[:,0:20]\n",
        "y = featuresFC['WinningRecord']"
      ],
      "metadata": {
        "id": "rm39K5ccOvs7"
      },
      "execution_count": null,
      "outputs": []
    },
    {
      "cell_type": "code",
      "source": [
        "featuresFC.iloc[:,0:20].head()"
      ],
      "metadata": {
        "colab": {
          "base_uri": "https://localhost:8080/",
          "height": 305
        },
        "id": "aXy9sw_6feMi",
        "outputId": "ed1f7a70-f187-417d-abe1-e0aa62deebee"
      },
      "execution_count": null,
      "outputs": [
        {
          "output_type": "execute_result",
          "data": {
            "text/plain": [
              "       ERA+      RA/G  OPS+      1Run       H_P        SV      BB_P  #a-tA-S  \\\n",
              "0  0.173913  0.477612  0.44  0.559387  0.622353  0.302094  0.429180     0.45   \n",
              "1  0.637681  0.000000  0.32  0.390805  0.181001  0.194577  0.154861     0.65   \n",
              "2  0.231884  0.300995  0.56  0.641762  0.464920  0.265422  0.429180     0.75   \n",
              "3  0.275362  0.161692  0.36  0.618774  0.159225  0.100396  0.688073     0.40   \n",
              "4  0.594203  0.208955  0.46  0.392720  0.482468  0.390013  0.204570     0.60   \n",
              "\n",
              "        R/G    DefEff      Rtot  Under500        IP        BB      PAge  \\\n",
              "0  0.339394  0.602041  0.391473  0.402703  0.678982  0.465585  0.405941   \n",
              "1  0.133333  1.000000  0.841085  0.389189  0.697641  0.410213  0.465347   \n",
              "2  0.363636  0.581633  0.372093  0.385135  0.710241  0.440077  0.475248   \n",
              "3  0.000000  0.867347  0.569767  0.271622  0.680184  0.021753  0.336634   \n",
              "4  0.442424  0.663265  0.441860  0.528378  0.752545  0.540521  0.455446   \n",
              "\n",
              "         PA       IBB    BatAge      HR_P        SF  \n",
              "0  0.594126  0.288005  0.292135  0.418914  0.358281  \n",
              "1  0.356231  0.380978  0.460674  0.123964  0.398932  \n",
              "2  0.523644  0.322774  0.483146  0.189573  0.538171  \n",
              "3  0.279588  0.343635  0.505618  0.142855  0.124424  \n",
              "4  0.566620  0.520958  0.606742  0.233241  0.443268  "
            ],
            "text/html": [
              "\n",
              "  <div id=\"df-a33bcbf0-819d-4f06-97a1-6675c5057aea\">\n",
              "    <div class=\"colab-df-container\">\n",
              "      <div>\n",
              "<style scoped>\n",
              "    .dataframe tbody tr th:only-of-type {\n",
              "        vertical-align: middle;\n",
              "    }\n",
              "\n",
              "    .dataframe tbody tr th {\n",
              "        vertical-align: top;\n",
              "    }\n",
              "\n",
              "    .dataframe thead th {\n",
              "        text-align: right;\n",
              "    }\n",
              "</style>\n",
              "<table border=\"1\" class=\"dataframe\">\n",
              "  <thead>\n",
              "    <tr style=\"text-align: right;\">\n",
              "      <th></th>\n",
              "      <th>ERA+</th>\n",
              "      <th>RA/G</th>\n",
              "      <th>OPS+</th>\n",
              "      <th>1Run</th>\n",
              "      <th>H_P</th>\n",
              "      <th>SV</th>\n",
              "      <th>BB_P</th>\n",
              "      <th>#a-tA-S</th>\n",
              "      <th>R/G</th>\n",
              "      <th>DefEff</th>\n",
              "      <th>Rtot</th>\n",
              "      <th>Under500</th>\n",
              "      <th>IP</th>\n",
              "      <th>BB</th>\n",
              "      <th>PAge</th>\n",
              "      <th>PA</th>\n",
              "      <th>IBB</th>\n",
              "      <th>BatAge</th>\n",
              "      <th>HR_P</th>\n",
              "      <th>SF</th>\n",
              "    </tr>\n",
              "  </thead>\n",
              "  <tbody>\n",
              "    <tr>\n",
              "      <th>0</th>\n",
              "      <td>0.173913</td>\n",
              "      <td>0.477612</td>\n",
              "      <td>0.44</td>\n",
              "      <td>0.559387</td>\n",
              "      <td>0.622353</td>\n",
              "      <td>0.302094</td>\n",
              "      <td>0.429180</td>\n",
              "      <td>0.45</td>\n",
              "      <td>0.339394</td>\n",
              "      <td>0.602041</td>\n",
              "      <td>0.391473</td>\n",
              "      <td>0.402703</td>\n",
              "      <td>0.678982</td>\n",
              "      <td>0.465585</td>\n",
              "      <td>0.405941</td>\n",
              "      <td>0.594126</td>\n",
              "      <td>0.288005</td>\n",
              "      <td>0.292135</td>\n",
              "      <td>0.418914</td>\n",
              "      <td>0.358281</td>\n",
              "    </tr>\n",
              "    <tr>\n",
              "      <th>1</th>\n",
              "      <td>0.637681</td>\n",
              "      <td>0.000000</td>\n",
              "      <td>0.32</td>\n",
              "      <td>0.390805</td>\n",
              "      <td>0.181001</td>\n",
              "      <td>0.194577</td>\n",
              "      <td>0.154861</td>\n",
              "      <td>0.65</td>\n",
              "      <td>0.133333</td>\n",
              "      <td>1.000000</td>\n",
              "      <td>0.841085</td>\n",
              "      <td>0.389189</td>\n",
              "      <td>0.697641</td>\n",
              "      <td>0.410213</td>\n",
              "      <td>0.465347</td>\n",
              "      <td>0.356231</td>\n",
              "      <td>0.380978</td>\n",
              "      <td>0.460674</td>\n",
              "      <td>0.123964</td>\n",
              "      <td>0.398932</td>\n",
              "    </tr>\n",
              "    <tr>\n",
              "      <th>2</th>\n",
              "      <td>0.231884</td>\n",
              "      <td>0.300995</td>\n",
              "      <td>0.56</td>\n",
              "      <td>0.641762</td>\n",
              "      <td>0.464920</td>\n",
              "      <td>0.265422</td>\n",
              "      <td>0.429180</td>\n",
              "      <td>0.75</td>\n",
              "      <td>0.363636</td>\n",
              "      <td>0.581633</td>\n",
              "      <td>0.372093</td>\n",
              "      <td>0.385135</td>\n",
              "      <td>0.710241</td>\n",
              "      <td>0.440077</td>\n",
              "      <td>0.475248</td>\n",
              "      <td>0.523644</td>\n",
              "      <td>0.322774</td>\n",
              "      <td>0.483146</td>\n",
              "      <td>0.189573</td>\n",
              "      <td>0.538171</td>\n",
              "    </tr>\n",
              "    <tr>\n",
              "      <th>3</th>\n",
              "      <td>0.275362</td>\n",
              "      <td>0.161692</td>\n",
              "      <td>0.36</td>\n",
              "      <td>0.618774</td>\n",
              "      <td>0.159225</td>\n",
              "      <td>0.100396</td>\n",
              "      <td>0.688073</td>\n",
              "      <td>0.40</td>\n",
              "      <td>0.000000</td>\n",
              "      <td>0.867347</td>\n",
              "      <td>0.569767</td>\n",
              "      <td>0.271622</td>\n",
              "      <td>0.680184</td>\n",
              "      <td>0.021753</td>\n",
              "      <td>0.336634</td>\n",
              "      <td>0.279588</td>\n",
              "      <td>0.343635</td>\n",
              "      <td>0.505618</td>\n",
              "      <td>0.142855</td>\n",
              "      <td>0.124424</td>\n",
              "    </tr>\n",
              "    <tr>\n",
              "      <th>4</th>\n",
              "      <td>0.594203</td>\n",
              "      <td>0.208955</td>\n",
              "      <td>0.46</td>\n",
              "      <td>0.392720</td>\n",
              "      <td>0.482468</td>\n",
              "      <td>0.390013</td>\n",
              "      <td>0.204570</td>\n",
              "      <td>0.60</td>\n",
              "      <td>0.442424</td>\n",
              "      <td>0.663265</td>\n",
              "      <td>0.441860</td>\n",
              "      <td>0.528378</td>\n",
              "      <td>0.752545</td>\n",
              "      <td>0.540521</td>\n",
              "      <td>0.455446</td>\n",
              "      <td>0.566620</td>\n",
              "      <td>0.520958</td>\n",
              "      <td>0.606742</td>\n",
              "      <td>0.233241</td>\n",
              "      <td>0.443268</td>\n",
              "    </tr>\n",
              "  </tbody>\n",
              "</table>\n",
              "</div>\n",
              "      <button class=\"colab-df-convert\" onclick=\"convertToInteractive('df-a33bcbf0-819d-4f06-97a1-6675c5057aea')\"\n",
              "              title=\"Convert this dataframe to an interactive table.\"\n",
              "              style=\"display:none;\">\n",
              "        \n",
              "  <svg xmlns=\"http://www.w3.org/2000/svg\" height=\"24px\"viewBox=\"0 0 24 24\"\n",
              "       width=\"24px\">\n",
              "    <path d=\"M0 0h24v24H0V0z\" fill=\"none\"/>\n",
              "    <path d=\"M18.56 5.44l.94 2.06.94-2.06 2.06-.94-2.06-.94-.94-2.06-.94 2.06-2.06.94zm-11 1L8.5 8.5l.94-2.06 2.06-.94-2.06-.94L8.5 2.5l-.94 2.06-2.06.94zm10 10l.94 2.06.94-2.06 2.06-.94-2.06-.94-.94-2.06-.94 2.06-2.06.94z\"/><path d=\"M17.41 7.96l-1.37-1.37c-.4-.4-.92-.59-1.43-.59-.52 0-1.04.2-1.43.59L10.3 9.45l-7.72 7.72c-.78.78-.78 2.05 0 2.83L4 21.41c.39.39.9.59 1.41.59.51 0 1.02-.2 1.41-.59l7.78-7.78 2.81-2.81c.8-.78.8-2.07 0-2.86zM5.41 20L4 18.59l7.72-7.72 1.47 1.35L5.41 20z\"/>\n",
              "  </svg>\n",
              "      </button>\n",
              "      \n",
              "  <style>\n",
              "    .colab-df-container {\n",
              "      display:flex;\n",
              "      flex-wrap:wrap;\n",
              "      gap: 12px;\n",
              "    }\n",
              "\n",
              "    .colab-df-convert {\n",
              "      background-color: #E8F0FE;\n",
              "      border: none;\n",
              "      border-radius: 50%;\n",
              "      cursor: pointer;\n",
              "      display: none;\n",
              "      fill: #1967D2;\n",
              "      height: 32px;\n",
              "      padding: 0 0 0 0;\n",
              "      width: 32px;\n",
              "    }\n",
              "\n",
              "    .colab-df-convert:hover {\n",
              "      background-color: #E2EBFA;\n",
              "      box-shadow: 0px 1px 2px rgba(60, 64, 67, 0.3), 0px 1px 3px 1px rgba(60, 64, 67, 0.15);\n",
              "      fill: #174EA6;\n",
              "    }\n",
              "\n",
              "    [theme=dark] .colab-df-convert {\n",
              "      background-color: #3B4455;\n",
              "      fill: #D2E3FC;\n",
              "    }\n",
              "\n",
              "    [theme=dark] .colab-df-convert:hover {\n",
              "      background-color: #434B5C;\n",
              "      box-shadow: 0px 1px 3px 1px rgba(0, 0, 0, 0.15);\n",
              "      filter: drop-shadow(0px 1px 2px rgba(0, 0, 0, 0.3));\n",
              "      fill: #FFFFFF;\n",
              "    }\n",
              "  </style>\n",
              "\n",
              "      <script>\n",
              "        const buttonEl =\n",
              "          document.querySelector('#df-a33bcbf0-819d-4f06-97a1-6675c5057aea button.colab-df-convert');\n",
              "        buttonEl.style.display =\n",
              "          google.colab.kernel.accessAllowed ? 'block' : 'none';\n",
              "\n",
              "        async function convertToInteractive(key) {\n",
              "          const element = document.querySelector('#df-a33bcbf0-819d-4f06-97a1-6675c5057aea');\n",
              "          const dataTable =\n",
              "            await google.colab.kernel.invokeFunction('convertToInteractive',\n",
              "                                                     [key], {});\n",
              "          if (!dataTable) return;\n",
              "\n",
              "          const docLinkHtml = 'Like what you see? Visit the ' +\n",
              "            '<a target=\"_blank\" href=https://colab.research.google.com/notebooks/data_table.ipynb>data table notebook</a>'\n",
              "            + ' to learn more about interactive tables.';\n",
              "          element.innerHTML = '';\n",
              "          dataTable['output_type'] = 'display_data';\n",
              "          await google.colab.output.renderOutput(dataTable, element);\n",
              "          const docLink = document.createElement('div');\n",
              "          docLink.innerHTML = docLinkHtml;\n",
              "          element.appendChild(docLink);\n",
              "        }\n",
              "      </script>\n",
              "    </div>\n",
              "  </div>\n",
              "  "
            ]
          },
          "metadata": {},
          "execution_count": 14
        }
      ]
    },
    {
      "cell_type": "code",
      "source": [
        "X_train, X_test, y_train, y_test = train_test_split(X, y, test_size=0.2, random_state=1, stratify=y)"
      ],
      "metadata": {
        "id": "B5GDoWiDO0_T"
      },
      "execution_count": null,
      "outputs": []
    },
    {
      "cell_type": "code",
      "source": [
        "train_scores, valid_scores = validation_curve(KNeighborsClassifier(), X_train, y_train, param_name=\"metric\", param_range=KNNmetrics, scoring='accuracy', cv=10)\n",
        "train_scores_mean = np.mean(train_scores, axis=1)\n",
        "valid_scores_mean = np.mean(valid_scores, axis=1)\n",
        "\n",
        "print(valid_scores_mean)\n",
        "plt.title(\"Validation Curve with K Nearest Neighbors\")\n",
        "plt.xlabel(\"Metric\")\n",
        "plt.ylabel(\"Accuracy\")\n",
        "plt.plot(KNNmetrics, train_scores_mean, label=\"train accuracy\")\n",
        "plt.plot(KNNmetrics, valid_scores_mean, label=\"validation accuracy\")\n",
        "\n",
        "plt.legend()\n",
        "plt.show()"
      ],
      "metadata": {
        "colab": {
          "base_uri": "https://localhost:8080/",
          "height": 312
        },
        "id": "E47kZtAlO4fD",
        "outputId": "a6307041-6681-4225-d0b2-87e08509fdf9"
      },
      "execution_count": null,
      "outputs": [
        {
          "output_type": "stream",
          "name": "stdout",
          "text": [
            "[0.8933639 0.8880148 0.8880148]\n"
          ]
        },
        {
          "output_type": "display_data",
          "data": {
            "text/plain": [
              "<Figure size 432x288 with 1 Axes>"
            ],
            "image/png": "[encoded data removed]"
          },
          "metadata": {
            "needs_background": "light"
          }
        }
      ]
    },
    {
      "cell_type": "code",
      "source": [
        "train_scores, valid_scores = validation_curve(KNeighborsClassifier(metric='manhattan'), X_train, y_train, param_name=\"n_neighbors\", param_range=n_neighbors, scoring='accuracy', cv=10)\n",
        "train_scores_mean = np.mean(train_scores, axis=1)\n",
        "valid_scores_mean = np.mean(valid_scores, axis=1)\n",
        "\n",
        "print(valid_scores_mean)\n",
        "plt.title(\"Validation Curve with K Nearest Neighbors\")\n",
        "plt.xlabel(\"n_neighbors\")\n",
        "plt.ylabel(\"Accuracy\")\n",
        "plt.xticks(np.arange(1,30,step=2))\n",
        "plt.plot(n_neighbors, train_scores_mean, label=\"train accuracy\")\n",
        "plt.plot(n_neighbors, valid_scores_mean, label=\"validation accuracy\")\n",
        "\n",
        "plt.legend()\n",
        "plt.show()"
      ],
      "metadata": {
        "colab": {
          "base_uri": "https://localhost:8080/",
          "height": 348
        },
        "id": "EcnP_JFjPA51",
        "outputId": "178fecc8-17c9-4232-a93a-7c45608a1406"
      },
      "execution_count": null,
      "outputs": [
        {
          "output_type": "stream",
          "name": "stdout",
          "text": [
            "[0.86379505 0.88441924 0.8933639  0.88980051 0.89785232 0.90230051\n",
            " 0.90232465 0.90500322 0.90499517 0.91213803 0.91124517 0.91125322\n",
            " 0.91124517 0.90944337 0.91034427]\n"
          ]
        },
        {
          "output_type": "display_data",
          "data": {
            "text/plain": [
              "<Figure size 432x288 with 1 Axes>"
            ],
            "image/png": "[encoded data removed]"
          },
          "metadata": {
            "needs_background": "light"
          }
        }
      ]
    },
    {
      "cell_type": "code",
      "source": [
        "train_scores, valid_scores = validation_curve(KNeighborsClassifier(metric='manhattan'), X_train, y_train, param_name=\"n_neighbors\", param_range=n_neighbors, scoring='accuracy', cv=10)\n",
        "train_scores_std = np.std(train_scores, axis=1)\n",
        "valid_scores_std = np.std(valid_scores, axis=1)\n",
        "\n",
        "print(valid_scores_std)\n",
        "plt.title(\"Validation Curve with K Nearest Neighbors\")\n",
        "plt.xlabel(\"n_neighbors\")\n",
        "plt.ylabel(\"Std. Deviation\")\n",
        "plt.xticks(np.arange(1,30,step=2))\n",
        "plt.plot(n_neighbors, train_scores_std, label=\"train std. deviation\")\n",
        "plt.plot(n_neighbors, valid_scores_std, label=\"validation std. deviation\")\n",
        "\n",
        "plt.legend()\n",
        "plt.show()"
      ],
      "metadata": {
        "colab": {
          "base_uri": "https://localhost:8080/",
          "height": 348
        },
        "id": "898LlK6JPEjl",
        "outputId": "42237506-a5ab-4e78-af21-6a3e1a6746f8"
      },
      "execution_count": null,
      "outputs": [
        {
          "output_type": "stream",
          "name": "stdout",
          "text": [
            "[0.03024712 0.0242586  0.03034205 0.03227753 0.02840147 0.03554162\n",
            " 0.03748231 0.03503088 0.03686598 0.04077803 0.03713405 0.03818651\n",
            " 0.03182461 0.03286589 0.03041107]\n"
          ]
        },
        {
          "output_type": "display_data",
          "data": {
            "text/plain": [
              "<Figure size 432x288 with 1 Axes>"
            ],
            "image/png": "[encoded data removed]"
          },
          "metadata": {
            "needs_background": "light"
          }
        }
      ]
    },
    {
      "cell_type": "code",
      "source": [
        "KNN = KNeighborsClassifier(n_neighbors=19, metric='manhattan')\n",
        "KNN.fit(X_train, y_train)\n",
        "y_pred = KNN.predict(X_test)\n",
        "cm = metrics.confusion_matrix(y_test, y_pred)"
      ],
      "metadata": {
        "id": "6jFvFkCGPZcI"
      },
      "execution_count": null,
      "outputs": []
    },
    {
      "cell_type": "code",
      "source": [
        "plt.figure(figsize=(5,5))\n",
        "sns.heatmap(cm, annot=True, fmt=\".0f\", linewidths=.5, square = True, cmap = 'Blues_r');\n",
        "plt.ylabel('Actual label');\n",
        "plt.xlabel('Predicted label');\n",
        "all_sample_title = 'Accuracy Score: {0}'.format(round(accuracy_score(y_test, y_pred),3))\n",
        "plt.title(all_sample_title, size = 15);"
      ],
      "metadata": {
        "colab": {
          "base_uri": "https://localhost:8080/",
          "height": 309
        },
        "id": "rD1VT5e8ofZF",
        "outputId": "386f4f0f-d1d5-4275-be73-8a881f0c4186"
      },
      "execution_count": null,
      "outputs": [
        {
          "output_type": "display_data",
          "data": {
            "text/plain": [
              "<Figure size 360x360 with 2 Axes>"
            ],
            "image/png": "[encoded data removed]"
          },
          "metadata": {
            "needs_background": "light"
          }
        }
      ]
    },
    {
      "cell_type": "code",
      "source": [
        "tn, fp, fn, tp=cm.ravel()\n",
        "print (\"TP: \", tp,\"\\n\" \"FP: \",fp,\"\\n\" \"TN: \", tn,\"\\n\" \"FN: \",fn)\n",
        "print()\n",
        "print(classification_report(y_test, y_pred))"
      ],
      "metadata": {
        "colab": {
          "base_uri": "https://localhost:8080/"
        },
        "id": "OXzDNexW0y7B",
        "outputId": "bba03daf-5b0a-4c71-cd42-6373a2bee824"
      },
      "execution_count": null,
      "outputs": [
        {
          "output_type": "stream",
          "name": "stdout",
          "text": [
            "TP:  128 \n",
            "FP:  10 \n",
            "TN:  126 \n",
            "FN:  16\n",
            "\n",
            "              precision    recall  f1-score   support\n",
            "\n",
            "           0       0.89      0.93      0.91       136\n",
            "           1       0.93      0.89      0.91       144\n",
            "\n",
            "    accuracy                           0.91       280\n",
            "   macro avg       0.91      0.91      0.91       280\n",
            "weighted avg       0.91      0.91      0.91       280\n",
            "\n"
          ]
        }
      ]
    },
    {
      "cell_type": "markdown",
      "source": [
        "# Random Forest"
      ],
      "metadata": {
        "id": "JOBRY_xJQX2A"
      }
    },
    {
      "cell_type": "code",
      "source": [
        "# The above process is now repeated for the top 20 features as selected by the Random Forest selection algorithm.\n",
        "\n",
        "X = featuresRFC.iloc[:,0:20]\n",
        "y = featuresRFC['WinningRecord']"
      ],
      "metadata": {
        "id": "Tr4LIaZPQXa_"
      },
      "execution_count": null,
      "outputs": []
    },
    {
      "cell_type": "code",
      "source": [
        "featuresRFC.iloc[:,0:20].head()"
      ],
      "metadata": {
        "colab": {
          "base_uri": "https://localhost:8080/",
          "height": 305
        },
        "id": "Kmgisw2HfgZD",
        "outputId": "abe5885a-a16a-4f2b-d151-5f6cf22eb365"
      },
      "execution_count": null,
      "outputs": [
        {
          "output_type": "execute_result",
          "data": {
            "text/plain": [
              "       ERA+  OPS+      RA/G       R/G      1Run        SV       H_P      BB_P  \\\n",
              "0  0.173913  0.44  0.477612  0.339394  0.559387  0.302094  0.622353  0.429180   \n",
              "1  0.637681  0.32  0.000000  0.133333  0.390805  0.194577  0.181001  0.154861   \n",
              "2  0.231884  0.56  0.300995  0.363636  0.641762  0.265422  0.464920  0.429180   \n",
              "3  0.275362  0.36  0.161692  0.000000  0.618774  0.100396  0.159225  0.688073   \n",
              "4  0.594203  0.46  0.208955  0.442424  0.392720  0.390013  0.482468  0.204570   \n",
              "\n",
              "   #a-tA-S  Under500    DefEff      Rtot        PA        IP        BB  \\\n",
              "0     0.45  0.402703  0.602041  0.391473  0.594126  0.678982  0.465585   \n",
              "1     0.65  0.389189  1.000000  0.841085  0.356231  0.697641  0.410213   \n",
              "2     0.75  0.385135  0.581633  0.372093  0.523644  0.710241  0.440077   \n",
              "3     0.40  0.271622  0.867347  0.569767  0.279588  0.680184  0.021753   \n",
              "4     0.60  0.528378  0.663265  0.441860  0.566620  0.752545  0.540521   \n",
              "\n",
              "       PAge      HR_P        HR    BatAge       IBB  \n",
              "0  0.405941  0.418914  0.380797  0.292135  0.288005  \n",
              "1  0.465347  0.123964  0.213898  0.460674  0.380978  \n",
              "2  0.475248  0.189573  0.303797  0.483146  0.322774  \n",
              "3  0.336634  0.142855  0.126699  0.505618  0.343635  \n",
              "4  0.455446  0.233241  0.335165  0.606742  0.520958  "
            ],
            "text/html": [
              "\n",
              "  <div id=\"df-834fa9c6-83ad-46c2-b034-b59ce0ff9e33\">\n",
              "    <div class=\"colab-df-container\">\n",
              "      <div>\n",
              "<style scoped>\n",
              "    .dataframe tbody tr th:only-of-type {\n",
              "        vertical-align: middle;\n",
              "    }\n",
              "\n",
              "    .dataframe tbody tr th {\n",
              "        vertical-align: top;\n",
              "    }\n",
              "\n",
              "    .dataframe thead th {\n",
              "        text-align: right;\n",
              "    }\n",
              "</style>\n",
              "<table border=\"1\" class=\"dataframe\">\n",
              "  <thead>\n",
              "    <tr style=\"text-align: right;\">\n",
              "      <th></th>\n",
              "      <th>ERA+</th>\n",
              "      <th>OPS+</th>\n",
              "      <th>RA/G</th>\n",
              "      <th>R/G</th>\n",
              "      <th>1Run</th>\n",
              "      <th>SV</th>\n",
              "      <th>H_P</th>\n",
              "      <th>BB_P</th>\n",
              "      <th>#a-tA-S</th>\n",
              "      <th>Under500</th>\n",
              "      <th>DefEff</th>\n",
              "      <th>Rtot</th>\n",
              "      <th>PA</th>\n",
              "      <th>IP</th>\n",
              "      <th>BB</th>\n",
              "      <th>PAge</th>\n",
              "      <th>HR_P</th>\n",
              "      <th>HR</th>\n",
              "      <th>BatAge</th>\n",
              "      <th>IBB</th>\n",
              "    </tr>\n",
              "  </thead>\n",
              "  <tbody>\n",
              "    <tr>\n",
              "      <th>0</th>\n",
              "      <td>0.173913</td>\n",
              "      <td>0.44</td>\n",
              "      <td>0.477612</td>\n",
              "      <td>0.339394</td>\n",
              "      <td>0.559387</td>\n",
              "      <td>0.302094</td>\n",
              "      <td>0.622353</td>\n",
              "      <td>0.429180</td>\n",
              "      <td>0.45</td>\n",
              "      <td>0.402703</td>\n",
              "      <td>0.602041</td>\n",
              "      <td>0.391473</td>\n",
              "      <td>0.594126</td>\n",
              "      <td>0.678982</td>\n",
              "      <td>0.465585</td>\n",
              "      <td>0.405941</td>\n",
              "      <td>0.418914</td>\n",
              "      <td>0.380797</td>\n",
              "      <td>0.292135</td>\n",
              "      <td>0.288005</td>\n",
              "    </tr>\n",
              "    <tr>\n",
              "      <th>1</th>\n",
              "      <td>0.637681</td>\n",
              "      <td>0.32</td>\n",
              "      <td>0.000000</td>\n",
              "      <td>0.133333</td>\n",
              "      <td>0.390805</td>\n",
              "      <td>0.194577</td>\n",
              "      <td>0.181001</td>\n",
              "      <td>0.154861</td>\n",
              "      <td>0.65</td>\n",
              "      <td>0.389189</td>\n",
              "      <td>1.000000</td>\n",
              "      <td>0.841085</td>\n",
              "      <td>0.356231</td>\n",
              "      <td>0.697641</td>\n",
              "      <td>0.410213</td>\n",
              "      <td>0.465347</td>\n",
              "      <td>0.123964</td>\n",
              "      <td>0.213898</td>\n",
              "      <td>0.460674</td>\n",
              "      <td>0.380978</td>\n",
              "    </tr>\n",
              "    <tr>\n",
              "      <th>2</th>\n",
              "      <td>0.231884</td>\n",
              "      <td>0.56</td>\n",
              "      <td>0.300995</td>\n",
              "      <td>0.363636</td>\n",
              "      <td>0.641762</td>\n",
              "      <td>0.265422</td>\n",
              "      <td>0.464920</td>\n",
              "      <td>0.429180</td>\n",
              "      <td>0.75</td>\n",
              "      <td>0.385135</td>\n",
              "      <td>0.581633</td>\n",
              "      <td>0.372093</td>\n",
              "      <td>0.523644</td>\n",
              "      <td>0.710241</td>\n",
              "      <td>0.440077</td>\n",
              "      <td>0.475248</td>\n",
              "      <td>0.189573</td>\n",
              "      <td>0.303797</td>\n",
              "      <td>0.483146</td>\n",
              "      <td>0.322774</td>\n",
              "    </tr>\n",
              "    <tr>\n",
              "      <th>3</th>\n",
              "      <td>0.275362</td>\n",
              "      <td>0.36</td>\n",
              "      <td>0.161692</td>\n",
              "      <td>0.000000</td>\n",
              "      <td>0.618774</td>\n",
              "      <td>0.100396</td>\n",
              "      <td>0.159225</td>\n",
              "      <td>0.688073</td>\n",
              "      <td>0.40</td>\n",
              "      <td>0.271622</td>\n",
              "      <td>0.867347</td>\n",
              "      <td>0.569767</td>\n",
              "      <td>0.279588</td>\n",
              "      <td>0.680184</td>\n",
              "      <td>0.021753</td>\n",
              "      <td>0.336634</td>\n",
              "      <td>0.142855</td>\n",
              "      <td>0.126699</td>\n",
              "      <td>0.505618</td>\n",
              "      <td>0.343635</td>\n",
              "    </tr>\n",
              "    <tr>\n",
              "      <th>4</th>\n",
              "      <td>0.594203</td>\n",
              "      <td>0.46</td>\n",
              "      <td>0.208955</td>\n",
              "      <td>0.442424</td>\n",
              "      <td>0.392720</td>\n",
              "      <td>0.390013</td>\n",
              "      <td>0.482468</td>\n",
              "      <td>0.204570</td>\n",
              "      <td>0.60</td>\n",
              "      <td>0.528378</td>\n",
              "      <td>0.663265</td>\n",
              "      <td>0.441860</td>\n",
              "      <td>0.566620</td>\n",
              "      <td>0.752545</td>\n",
              "      <td>0.540521</td>\n",
              "      <td>0.455446</td>\n",
              "      <td>0.233241</td>\n",
              "      <td>0.335165</td>\n",
              "      <td>0.606742</td>\n",
              "      <td>0.520958</td>\n",
              "    </tr>\n",
              "  </tbody>\n",
              "</table>\n",
              "</div>\n",
              "      <button class=\"colab-df-convert\" onclick=\"convertToInteractive('df-834fa9c6-83ad-46c2-b034-b59ce0ff9e33')\"\n",
              "              title=\"Convert this dataframe to an interactive table.\"\n",
              "              style=\"display:none;\">\n",
              "        \n",
              "  <svg xmlns=\"http://www.w3.org/2000/svg\" height=\"24px\"viewBox=\"0 0 24 24\"\n",
              "       width=\"24px\">\n",
              "    <path d=\"M0 0h24v24H0V0z\" fill=\"none\"/>\n",
              "    <path d=\"M18.56 5.44l.94 2.06.94-2.06 2.06-.94-2.06-.94-.94-2.06-.94 2.06-2.06.94zm-11 1L8.5 8.5l.94-2.06 2.06-.94-2.06-.94L8.5 2.5l-.94 2.06-2.06.94zm10 10l.94 2.06.94-2.06 2.06-.94-2.06-.94-.94-2.06-.94 2.06-2.06.94z\"/><path d=\"M17.41 7.96l-1.37-1.37c-.4-.4-.92-.59-1.43-.59-.52 0-1.04.2-1.43.59L10.3 9.45l-7.72 7.72c-.78.78-.78 2.05 0 2.83L4 21.41c.39.39.9.59 1.41.59.51 0 1.02-.2 1.41-.59l7.78-7.78 2.81-2.81c.8-.78.8-2.07 0-2.86zM5.41 20L4 18.59l7.72-7.72 1.47 1.35L5.41 20z\"/>\n",
              "  </svg>\n",
              "      </button>\n",
              "      \n",
              "  <style>\n",
              "    .colab-df-container {\n",
              "      display:flex;\n",
              "      flex-wrap:wrap;\n",
              "      gap: 12px;\n",
              "    }\n",
              "\n",
              "    .colab-df-convert {\n",
              "      background-color: #E8F0FE;\n",
              "      border: none;\n",
              "      border-radius: 50%;\n",
              "      cursor: pointer;\n",
              "      display: none;\n",
              "      fill: #1967D2;\n",
              "      height: 32px;\n",
              "      padding: 0 0 0 0;\n",
              "      width: 32px;\n",
              "    }\n",
              "\n",
              "    .colab-df-convert:hover {\n",
              "      background-color: #E2EBFA;\n",
              "      box-shadow: 0px 1px 2px rgba(60, 64, 67, 0.3), 0px 1px 3px 1px rgba(60, 64, 67, 0.15);\n",
              "      fill: #174EA6;\n",
              "    }\n",
              "\n",
              "    [theme=dark] .colab-df-convert {\n",
              "      background-color: #3B4455;\n",
              "      fill: #D2E3FC;\n",
              "    }\n",
              "\n",
              "    [theme=dark] .colab-df-convert:hover {\n",
              "      background-color: #434B5C;\n",
              "      box-shadow: 0px 1px 3px 1px rgba(0, 0, 0, 0.15);\n",
              "      filter: drop-shadow(0px 1px 2px rgba(0, 0, 0, 0.3));\n",
              "      fill: #FFFFFF;\n",
              "    }\n",
              "  </style>\n",
              "\n",
              "      <script>\n",
              "        const buttonEl =\n",
              "          document.querySelector('#df-834fa9c6-83ad-46c2-b034-b59ce0ff9e33 button.colab-df-convert');\n",
              "        buttonEl.style.display =\n",
              "          google.colab.kernel.accessAllowed ? 'block' : 'none';\n",
              "\n",
              "        async function convertToInteractive(key) {\n",
              "          const element = document.querySelector('#df-834fa9c6-83ad-46c2-b034-b59ce0ff9e33');\n",
              "          const dataTable =\n",
              "            await google.colab.kernel.invokeFunction('convertToInteractive',\n",
              "                                                     [key], {});\n",
              "          if (!dataTable) return;\n",
              "\n",
              "          const docLinkHtml = 'Like what you see? Visit the ' +\n",
              "            '<a target=\"_blank\" href=https://colab.research.google.com/notebooks/data_table.ipynb>data table notebook</a>'\n",
              "            + ' to learn more about interactive tables.';\n",
              "          element.innerHTML = '';\n",
              "          dataTable['output_type'] = 'display_data';\n",
              "          await google.colab.output.renderOutput(dataTable, element);\n",
              "          const docLink = document.createElement('div');\n",
              "          docLink.innerHTML = docLinkHtml;\n",
              "          element.appendChild(docLink);\n",
              "        }\n",
              "      </script>\n",
              "    </div>\n",
              "  </div>\n",
              "  "
            ]
          },
          "metadata": {},
          "execution_count": 23
        }
      ]
    },
    {
      "cell_type": "code",
      "source": [
        "X_train, X_test, y_train, y_test = train_test_split(X, y, test_size=0.2, random_state=1, stratify=y)"
      ],
      "metadata": {
        "id": "nKnNzJepQfLo"
      },
      "execution_count": null,
      "outputs": []
    },
    {
      "cell_type": "code",
      "source": [
        "train_scores, valid_scores = validation_curve(KNeighborsClassifier(), X_train, y_train, param_name=\"metric\", param_range=KNNmetrics, scoring='accuracy', cv=10)\n",
        "train_scores_mean = np.mean(train_scores, axis=1)\n",
        "valid_scores_mean = np.mean(valid_scores, axis=1)\n",
        "\n",
        "print(valid_scores_mean)\n",
        "plt.title(\"Validation Curve with K Nearest Neighbors\")\n",
        "plt.xlabel(\"Metric\")\n",
        "plt.ylabel(\"Accuracy\")\n",
        "plt.plot(KNNmetrics, train_scores_mean, label=\"train accuracy\")\n",
        "plt.plot(KNNmetrics, valid_scores_mean, label=\"validation accuracy\")\n",
        "\n",
        "plt.legend()\n",
        "plt.show()"
      ],
      "metadata": {
        "colab": {
          "base_uri": "https://localhost:8080/",
          "height": 312
        },
        "id": "yDsa6eJlQhe5",
        "outputId": "ed324420-d9a7-4385-8be1-2d5080a61591"
      },
      "execution_count": null,
      "outputs": [
        {
          "output_type": "stream",
          "name": "stdout",
          "text": [
            "[0.90497909 0.90237291 0.90237291]\n"
          ]
        },
        {
          "output_type": "display_data",
          "data": {
            "text/plain": [
              "<Figure size 432x288 with 1 Axes>"
            ],
            "image/png": "[encoded data removed]"
          },
          "metadata": {
            "needs_background": "light"
          }
        }
      ]
    },
    {
      "cell_type": "code",
      "source": [
        "train_scores, valid_scores = validation_curve(KNeighborsClassifier(metric='manhattan'), X_train, y_train, param_name=\"n_neighbors\", param_range=n_neighbors, scoring='accuracy', cv=10)\n",
        "train_scores_mean = np.mean(train_scores, axis=1)\n",
        "valid_scores_mean = np.mean(valid_scores, axis=1)\n",
        "\n",
        "print(valid_scores_mean)\n",
        "plt.title(\"Validation Curve with K Nearest Neighbors\")\n",
        "plt.xlabel(\"n_neighbors\")\n",
        "plt.ylabel(\"Accuracy\")\n",
        "plt.xticks(np.arange(1,30,step=2))\n",
        "plt.plot(n_neighbors, train_scores_mean, label=\"train accuracy\")\n",
        "plt.plot(n_neighbors, valid_scores_mean, label=\"validation accuracy\")\n",
        "\n",
        "plt.legend()\n",
        "plt.show()"
      ],
      "metadata": {
        "colab": {
          "base_uri": "https://localhost:8080/",
          "height": 348
        },
        "id": "wE-0XUK-Qmzp",
        "outputId": "129b7653-1d75-48bc-d268-f61bc67fdf30"
      },
      "execution_count": null,
      "outputs": [
        {
          "output_type": "stream",
          "name": "stdout",
          "text": [
            "[0.85036197 0.88712194 0.90497909 0.90409427 0.90679698 0.90590412\n",
            " 0.91216216 0.90769788 0.91216216 0.91125322 0.91574968 0.91843629\n",
            " 0.91574163 0.91395592 0.91303893]\n"
          ]
        },
        {
          "output_type": "display_data",
          "data": {
            "text/plain": [
              "<Figure size 432x288 with 1 Axes>"
            ],
            "image/png": "[encoded data removed]"
          },
          "metadata": {
            "needs_background": "light"
          }
        }
      ]
    },
    {
      "cell_type": "code",
      "source": [
        "train_scores, valid_scores = validation_curve(KNeighborsClassifier(metric='manhattan'), X_train, y_train, param_name=\"n_neighbors\", param_range=n_neighbors, scoring='accuracy', cv=10)\n",
        "train_scores_std = np.std(train_scores, axis=1)\n",
        "valid_scores_std = np.std(valid_scores, axis=1)\n",
        "\n",
        "print(valid_scores_std)\n",
        "plt.title(\"Validation Curve with K Nearest Neighbors\")\n",
        "plt.xlabel(\"n_neighbors\")\n",
        "plt.ylabel(\"Std. Deviation\")\n",
        "plt.xticks(np.arange(1,30,step=2))\n",
        "plt.plot(n_neighbors, train_scores_std, label=\"train std. deviation\")\n",
        "plt.plot(n_neighbors, valid_scores_std, label=\"validation std. deviation\")\n",
        "\n",
        "plt.legend()\n",
        "plt.show()"
      ],
      "metadata": {
        "id": "vQG9OB8xQs5r",
        "outputId": "d75f7ad1-4b42-4809-a5b7-7012ad11f93b",
        "colab": {
          "base_uri": "https://localhost:8080/",
          "height": 348
        }
      },
      "execution_count": null,
      "outputs": [
        {
          "output_type": "stream",
          "name": "stdout",
          "text": [
            "[0.02726307 0.02360006 0.02460746 0.026372   0.02978538 0.02759581\n",
            " 0.02999964 0.02840803 0.02977636 0.02742374 0.02670632 0.02618986\n",
            " 0.02702883 0.02730062 0.03012542]\n"
          ]
        },
        {
          "output_type": "display_data",
          "data": {
            "text/plain": [
              "<Figure size 432x288 with 1 Axes>"
            ],
            "image/png": "[encoded data removed]"
          },
          "metadata": {
            "needs_background": "light"
          }
        }
      ]
    },
    {
      "cell_type": "code",
      "source": [
        "KNN = KNeighborsClassifier(n_neighbors=23, metric='manhattan')\n",
        "KNN.fit(X_train, y_train)\n",
        "y_pred = KNN.predict(X_test)\n",
        "cm = metrics.confusion_matrix(y_test, y_pred)"
      ],
      "metadata": {
        "id": "TkLbzLghAIE4"
      },
      "execution_count": null,
      "outputs": []
    },
    {
      "cell_type": "code",
      "source": [
        "plt.figure(figsize=(5,5))\n",
        "sns.heatmap(cm, annot=True, fmt=\".0f\", linewidths=.5, square = True, cmap = 'Blues_r');\n",
        "plt.ylabel('Actual label');\n",
        "plt.xlabel('Predicted label');\n",
        "all_sample_title = 'Accuracy Score: {0}'.format(round(accuracy_score(y_test, y_pred),3))\n",
        "plt.title(all_sample_title, size = 15);"
      ],
      "metadata": {
        "colab": {
          "base_uri": "https://localhost:8080/",
          "height": 309
        },
        "id": "vc5zYjKnp5_5",
        "outputId": "138be0be-07f1-4b81-8a29-8ec0bc7cd8fa"
      },
      "execution_count": null,
      "outputs": [
        {
          "output_type": "display_data",
          "data": {
            "text/plain": [
              "<Figure size 360x360 with 2 Axes>"
            ],
            "image/png": "[encoded data removed]"
          },
          "metadata": {
            "needs_background": "light"
          }
        }
      ]
    },
    {
      "cell_type": "code",
      "source": [
        "tn, fp, fn, tp=cm.ravel()\n",
        "print (\"TP: \", tp,\"\\n\" \"FP: \",fp,\"\\n\" \"TN: \", tn,\"\\n\" \"FN: \",fn)\n",
        "print()\n",
        "print(classification_report(y_test, y_pred))"
      ],
      "metadata": {
        "colab": {
          "base_uri": "https://localhost:8080/"
        },
        "id": "ekV8up5S1M5r",
        "outputId": "593dca69-0cbb-4764-d9aa-2ab6f1b118f0"
      },
      "execution_count": null,
      "outputs": [
        {
          "output_type": "stream",
          "name": "stdout",
          "text": [
            "TP:  130 \n",
            "FP:  9 \n",
            "TN:  127 \n",
            "FN:  14\n",
            "\n",
            "              precision    recall  f1-score   support\n",
            "\n",
            "           0       0.90      0.93      0.92       136\n",
            "           1       0.94      0.90      0.92       144\n",
            "\n",
            "    accuracy                           0.92       280\n",
            "   macro avg       0.92      0.92      0.92       280\n",
            "weighted avg       0.92      0.92      0.92       280\n",
            "\n"
          ]
        }
      ]
    }
  ]
}

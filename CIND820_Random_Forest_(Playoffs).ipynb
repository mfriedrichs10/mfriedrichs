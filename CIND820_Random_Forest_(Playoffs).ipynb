{
  "nbformat": 4,
  "nbformat_minor": 0,
  "metadata": {
    "colab": {
      "provenance": []
    },
    "kernelspec": {
      "name": "python3",
      "display_name": "Python 3"
    },
    "language_info": {
      "name": "python"
    }
  },
  "cells": [
    {
      "cell_type": "code",
      "execution_count": null,
      "metadata": {
        "id": "qjyFpyyXDCpB"
      },
      "outputs": [],
      "source": [
        "import pandas as pd\n",
        "import numpy as np\n",
        "import matplotlib.pyplot as plt\n",
        "import seaborn as sns\n",
        "from sklearn.model_selection import train_test_split, StratifiedKFold, cross_val_predict\n",
        "from sklearn.metrics import confusion_matrix, classification_report, f1_score\n",
        "from sklearn.ensemble import RandomForestClassifier\n",
        "from sklearn.model_selection import KFold, cross_val_score, validation_curve, StratifiedShuffleSplit\n",
        "from sklearn import metrics"
      ]
    },
    {
      "cell_type": "code",
      "source": [
        "featuresMIC = pd.read_csv('featuresRankedMIC_550.csv')\n",
        "featuresFC = pd.read_csv('featuresRankedFC_550.csv')\n",
        "featuresRFC = pd.read_csv('featuresRankedRFC_550.csv')"
      ],
      "metadata": {
        "id": "_djPe-ucDbvS"
      },
      "execution_count": null,
      "outputs": []
    },
    {
      "cell_type": "markdown",
      "source": [
        "# Mutual Information Gain"
      ],
      "metadata": {
        "id": "yVLGV32rDgV0"
      }
    },
    {
      "cell_type": "code",
      "source": [
        "X = featuresMIC.iloc[:,0:20]\n",
        "y = featuresMIC['Playoffs']"
      ],
      "metadata": {
        "id": "KfsYQI8ODf5C"
      },
      "execution_count": null,
      "outputs": []
    },
    {
      "cell_type": "code",
      "source": [
        "featuresMIC.iloc[:,0:20].head()"
      ],
      "metadata": {
        "colab": {
          "base_uri": "https://localhost:8080/",
          "height": 305
        },
        "id": "LlpjgoDpITuD",
        "outputId": "f6d3887f-2874-492a-9016-517bf454840c"
      },
      "execution_count": null,
      "outputs": [
        {
          "output_type": "execute_result",
          "data": {
            "text/plain": [
              "       ERA+  OPS+      RA/G      1Run        SV       R/G      BB_P  #a-tA-S  \\\n",
              "0  0.173913  0.44  0.477612  0.559387  0.302094  0.339394  0.429180     0.45   \n",
              "1  0.637681  0.32  0.000000  0.390805  0.194577  0.133333  0.154861     0.65   \n",
              "2  0.231884  0.56  0.300995  0.641762  0.265422  0.363636  0.429180     0.75   \n",
              "3  0.275362  0.36  0.161692  0.618774  0.100396  0.000000  0.688073     0.40   \n",
              "4  0.594203  0.46  0.208955  0.392720  0.390013  0.442424  0.204570     0.60   \n",
              "\n",
              "   Under500    DefEff        PA      Rtot       H_P       SOS        WP  \\\n",
              "0  0.402703  0.602041  0.594126  0.391473  0.622353  0.545455  0.687796   \n",
              "1  0.389189  1.000000  0.356231  0.841085  0.181001  0.454545  0.262041   \n",
              "2  0.385135  0.581633  0.523644  0.372093  0.464920  0.454545  0.221357   \n",
              "3  0.271622  0.867347  0.279588  0.569767  0.159225  0.454545  0.435667   \n",
              "4  0.528378  0.663265  0.566620  0.441860  0.482468  0.363636  0.218771   \n",
              "\n",
              "       PAge        2B        BB       LOB      HR_P  \n",
              "0  0.405941  0.151402  0.465585  0.695640  0.418914  \n",
              "1  0.465347  0.191710  0.410213  0.400425  0.123964  \n",
              "2  0.475248  0.361411  0.440077  0.555105  0.189573  \n",
              "3  0.336634  0.078143  0.021753  0.387544  0.142855  \n",
              "4  0.455446  0.242631  0.540521  0.517147  0.233241  "
            ],
            "text/html": [
              "\n",
              "  <div id=\"df-4c85d805-d891-430e-b6e4-8b884ac34113\">\n",
              "    <div class=\"colab-df-container\">\n",
              "      <div>\n",
              "<style scoped>\n",
              "    .dataframe tbody tr th:only-of-type {\n",
              "        vertical-align: middle;\n",
              "    }\n",
              "\n",
              "    .dataframe tbody tr th {\n",
              "        vertical-align: top;\n",
              "    }\n",
              "\n",
              "    .dataframe thead th {\n",
              "        text-align: right;\n",
              "    }\n",
              "</style>\n",
              "<table border=\"1\" class=\"dataframe\">\n",
              "  <thead>\n",
              "    <tr style=\"text-align: right;\">\n",
              "      <th></th>\n",
              "      <th>ERA+</th>\n",
              "      <th>OPS+</th>\n",
              "      <th>RA/G</th>\n",
              "      <th>1Run</th>\n",
              "      <th>SV</th>\n",
              "      <th>R/G</th>\n",
              "      <th>BB_P</th>\n",
              "      <th>#a-tA-S</th>\n",
              "      <th>Under500</th>\n",
              "      <th>DefEff</th>\n",
              "      <th>PA</th>\n",
              "      <th>Rtot</th>\n",
              "      <th>H_P</th>\n",
              "      <th>SOS</th>\n",
              "      <th>WP</th>\n",
              "      <th>PAge</th>\n",
              "      <th>2B</th>\n",
              "      <th>BB</th>\n",
              "      <th>LOB</th>\n",
              "      <th>HR_P</th>\n",
              "    </tr>\n",
              "  </thead>\n",
              "  <tbody>\n",
              "    <tr>\n",
              "      <th>0</th>\n",
              "      <td>0.173913</td>\n",
              "      <td>0.44</td>\n",
              "      <td>0.477612</td>\n",
              "      <td>0.559387</td>\n",
              "      <td>0.302094</td>\n",
              "      <td>0.339394</td>\n",
              "      <td>0.429180</td>\n",
              "      <td>0.45</td>\n",
              "      <td>0.402703</td>\n",
              "      <td>0.602041</td>\n",
              "      <td>0.594126</td>\n",
              "      <td>0.391473</td>\n",
              "      <td>0.622353</td>\n",
              "      <td>0.545455</td>\n",
              "      <td>0.687796</td>\n",
              "      <td>0.405941</td>\n",
              "      <td>0.151402</td>\n",
              "      <td>0.465585</td>\n",
              "      <td>0.695640</td>\n",
              "      <td>0.418914</td>\n",
              "    </tr>\n",
              "    <tr>\n",
              "      <th>1</th>\n",
              "      <td>0.637681</td>\n",
              "      <td>0.32</td>\n",
              "      <td>0.000000</td>\n",
              "      <td>0.390805</td>\n",
              "      <td>0.194577</td>\n",
              "      <td>0.133333</td>\n",
              "      <td>0.154861</td>\n",
              "      <td>0.65</td>\n",
              "      <td>0.389189</td>\n",
              "      <td>1.000000</td>\n",
              "      <td>0.356231</td>\n",
              "      <td>0.841085</td>\n",
              "      <td>0.181001</td>\n",
              "      <td>0.454545</td>\n",
              "      <td>0.262041</td>\n",
              "      <td>0.465347</td>\n",
              "      <td>0.191710</td>\n",
              "      <td>0.410213</td>\n",
              "      <td>0.400425</td>\n",
              "      <td>0.123964</td>\n",
              "    </tr>\n",
              "    <tr>\n",
              "      <th>2</th>\n",
              "      <td>0.231884</td>\n",
              "      <td>0.56</td>\n",
              "      <td>0.300995</td>\n",
              "      <td>0.641762</td>\n",
              "      <td>0.265422</td>\n",
              "      <td>0.363636</td>\n",
              "      <td>0.429180</td>\n",
              "      <td>0.75</td>\n",
              "      <td>0.385135</td>\n",
              "      <td>0.581633</td>\n",
              "      <td>0.523644</td>\n",
              "      <td>0.372093</td>\n",
              "      <td>0.464920</td>\n",
              "      <td>0.454545</td>\n",
              "      <td>0.221357</td>\n",
              "      <td>0.475248</td>\n",
              "      <td>0.361411</td>\n",
              "      <td>0.440077</td>\n",
              "      <td>0.555105</td>\n",
              "      <td>0.189573</td>\n",
              "    </tr>\n",
              "    <tr>\n",
              "      <th>3</th>\n",
              "      <td>0.275362</td>\n",
              "      <td>0.36</td>\n",
              "      <td>0.161692</td>\n",
              "      <td>0.618774</td>\n",
              "      <td>0.100396</td>\n",
              "      <td>0.000000</td>\n",
              "      <td>0.688073</td>\n",
              "      <td>0.40</td>\n",
              "      <td>0.271622</td>\n",
              "      <td>0.867347</td>\n",
              "      <td>0.279588</td>\n",
              "      <td>0.569767</td>\n",
              "      <td>0.159225</td>\n",
              "      <td>0.454545</td>\n",
              "      <td>0.435667</td>\n",
              "      <td>0.336634</td>\n",
              "      <td>0.078143</td>\n",
              "      <td>0.021753</td>\n",
              "      <td>0.387544</td>\n",
              "      <td>0.142855</td>\n",
              "    </tr>\n",
              "    <tr>\n",
              "      <th>4</th>\n",
              "      <td>0.594203</td>\n",
              "      <td>0.46</td>\n",
              "      <td>0.208955</td>\n",
              "      <td>0.392720</td>\n",
              "      <td>0.390013</td>\n",
              "      <td>0.442424</td>\n",
              "      <td>0.204570</td>\n",
              "      <td>0.60</td>\n",
              "      <td>0.528378</td>\n",
              "      <td>0.663265</td>\n",
              "      <td>0.566620</td>\n",
              "      <td>0.441860</td>\n",
              "      <td>0.482468</td>\n",
              "      <td>0.363636</td>\n",
              "      <td>0.218771</td>\n",
              "      <td>0.455446</td>\n",
              "      <td>0.242631</td>\n",
              "      <td>0.540521</td>\n",
              "      <td>0.517147</td>\n",
              "      <td>0.233241</td>\n",
              "    </tr>\n",
              "  </tbody>\n",
              "</table>\n",
              "</div>\n",
              "      <button class=\"colab-df-convert\" onclick=\"convertToInteractive('df-4c85d805-d891-430e-b6e4-8b884ac34113')\"\n",
              "              title=\"Convert this dataframe to an interactive table.\"\n",
              "              style=\"display:none;\">\n",
              "        \n",
              "  <svg xmlns=\"http://www.w3.org/2000/svg\" height=\"24px\"viewBox=\"0 0 24 24\"\n",
              "       width=\"24px\">\n",
              "    <path d=\"M0 0h24v24H0V0z\" fill=\"none\"/>\n",
              "    <path d=\"M18.56 5.44l.94 2.06.94-2.06 2.06-.94-2.06-.94-.94-2.06-.94 2.06-2.06.94zm-11 1L8.5 8.5l.94-2.06 2.06-.94-2.06-.94L8.5 2.5l-.94 2.06-2.06.94zm10 10l.94 2.06.94-2.06 2.06-.94-2.06-.94-.94-2.06-.94 2.06-2.06.94z\"/><path d=\"M17.41 7.96l-1.37-1.37c-.4-.4-.92-.59-1.43-.59-.52 0-1.04.2-1.43.59L10.3 9.45l-7.72 7.72c-.78.78-.78 2.05 0 2.83L4 21.41c.39.39.9.59 1.41.59.51 0 1.02-.2 1.41-.59l7.78-7.78 2.81-2.81c.8-.78.8-2.07 0-2.86zM5.41 20L4 18.59l7.72-7.72 1.47 1.35L5.41 20z\"/>\n",
              "  </svg>\n",
              "      </button>\n",
              "      \n",
              "  <style>\n",
              "    .colab-df-container {\n",
              "      display:flex;\n",
              "      flex-wrap:wrap;\n",
              "      gap: 12px;\n",
              "    }\n",
              "\n",
              "    .colab-df-convert {\n",
              "      background-color: #E8F0FE;\n",
              "      border: none;\n",
              "      border-radius: 50%;\n",
              "      cursor: pointer;\n",
              "      display: none;\n",
              "      fill: #1967D2;\n",
              "      height: 32px;\n",
              "      padding: 0 0 0 0;\n",
              "      width: 32px;\n",
              "    }\n",
              "\n",
              "    .colab-df-convert:hover {\n",
              "      background-color: #E2EBFA;\n",
              "      box-shadow: 0px 1px 2px rgba(60, 64, 67, 0.3), 0px 1px 3px 1px rgba(60, 64, 67, 0.15);\n",
              "      fill: #174EA6;\n",
              "    }\n",
              "\n",
              "    [theme=dark] .colab-df-convert {\n",
              "      background-color: #3B4455;\n",
              "      fill: #D2E3FC;\n",
              "    }\n",
              "\n",
              "    [theme=dark] .colab-df-convert:hover {\n",
              "      background-color: #434B5C;\n",
              "      box-shadow: 0px 1px 3px 1px rgba(0, 0, 0, 0.15);\n",
              "      filter: drop-shadow(0px 1px 2px rgba(0, 0, 0, 0.3));\n",
              "      fill: #FFFFFF;\n",
              "    }\n",
              "  </style>\n",
              "\n",
              "      <script>\n",
              "        const buttonEl =\n",
              "          document.querySelector('#df-4c85d805-d891-430e-b6e4-8b884ac34113 button.colab-df-convert');\n",
              "        buttonEl.style.display =\n",
              "          google.colab.kernel.accessAllowed ? 'block' : 'none';\n",
              "\n",
              "        async function convertToInteractive(key) {\n",
              "          const element = document.querySelector('#df-4c85d805-d891-430e-b6e4-8b884ac34113');\n",
              "          const dataTable =\n",
              "            await google.colab.kernel.invokeFunction('convertToInteractive',\n",
              "                                                     [key], {});\n",
              "          if (!dataTable) return;\n",
              "\n",
              "          const docLinkHtml = 'Like what you see? Visit the ' +\n",
              "            '<a target=\"_blank\" href=https://colab.research.google.com/notebooks/data_table.ipynb>data table notebook</a>'\n",
              "            + ' to learn more about interactive tables.';\n",
              "          element.innerHTML = '';\n",
              "          dataTable['output_type'] = 'display_data';\n",
              "          await google.colab.output.renderOutput(dataTable, element);\n",
              "          const docLink = document.createElement('div');\n",
              "          docLink.innerHTML = docLinkHtml;\n",
              "          element.appendChild(docLink);\n",
              "        }\n",
              "      </script>\n",
              "    </div>\n",
              "  </div>\n",
              "  "
            ]
          },
          "metadata": {},
          "execution_count": 31
        }
      ]
    },
    {
      "cell_type": "code",
      "source": [
        "X_train, X_test, y_train, y_test = train_test_split(X, y, test_size=0.2, random_state=1, stratify=y)"
      ],
      "metadata": {
        "id": "B3tLEX9IDulL"
      },
      "execution_count": null,
      "outputs": []
    },
    {
      "cell_type": "code",
      "source": [
        "n_estimators = np.arange(10,105,5)"
      ],
      "metadata": {
        "id": "tu77KHQsD1hd"
      },
      "execution_count": null,
      "outputs": []
    },
    {
      "cell_type": "code",
      "source": [
        "train_scores, valid_scores = validation_curve(RandomForestClassifier(random_state=1), X_train, y_train, param_name=\"n_estimators\", param_range=n_estimators, scoring='f1', cv=10)\n",
        "train_scores_mean = np.mean(train_scores, axis=1)\n",
        "valid_scores_mean = np.mean(valid_scores, axis=1)\n",
        "\n",
        "print(valid_scores_mean)\n",
        "plt.title(\"Validation Curve with Random Forest\")\n",
        "plt.xlabel(\"n_estimators\")\n",
        "plt.ylabel(\"F1 Score\")\n",
        "plt.xticks(np.arange(10,105,step=5))\n",
        "plt.plot(n_estimators, train_scores_mean, label=\"train f1\")\n",
        "plt.plot(n_estimators, valid_scores_mean, label=\"validation f1\")\n",
        "\n",
        "plt.legend()\n",
        "plt.show()"
      ],
      "metadata": {
        "colab": {
          "base_uri": "https://localhost:8080/",
          "height": 365
        },
        "id": "ejQ-YE6YD5K9",
        "outputId": "23c04d46-7290-4649-bd72-6d7f7355ea26"
      },
      "execution_count": null,
      "outputs": [
        {
          "output_type": "stream",
          "name": "stdout",
          "text": [
            "[0.72709696 0.77451802 0.78577794 0.80138221 0.79396098 0.80135448\n",
            " 0.81224439 0.81048299 0.80654699 0.81671196 0.80313006 0.80964252\n",
            " 0.81030621 0.80171985 0.80666674 0.80462619 0.80534236 0.80754204\n",
            " 0.80807864]\n"
          ]
        },
        {
          "output_type": "display_data",
          "data": {
            "text/plain": [
              "<Figure size 432x288 with 1 Axes>"
            ],
            "image/png": "[encoded data removed]"
          },
          "metadata": {
            "needs_background": "light"
          }
        }
      ]
    },
    {
      "cell_type": "code",
      "source": [
        "train_scores, valid_scores = validation_curve(RandomForestClassifier(random_state=1), X_train, y_train, param_name=\"n_estimators\", param_range=n_estimators, scoring='f1', cv=10)\n",
        "train_scores_std = np.std(train_scores, axis=1)\n",
        "valid_scores_std = np.std(valid_scores, axis=1)\n",
        "\n",
        "print(valid_scores_std)\n",
        "plt.title(\"Validation Curve with Random Forest\")\n",
        "plt.xlabel(\"n_estimators\")\n",
        "plt.ylabel(\"Std. Deviation\")\n",
        "plt.xticks(np.arange(10,105,step=5))\n",
        "plt.plot(n_estimators, train_scores_std, label=\"train std. deviation\")\n",
        "plt.plot(n_estimators, valid_scores_std, label=\"validation std. deviation\")\n",
        "\n",
        "plt.legend()\n",
        "plt.show()"
      ],
      "metadata": {
        "colab": {
          "base_uri": "https://localhost:8080/",
          "height": 365
        },
        "id": "Ndljy3bYFwM8",
        "outputId": "5a62e9c3-1177-4959-db24-387b54a17630"
      },
      "execution_count": null,
      "outputs": [
        {
          "output_type": "stream",
          "name": "stdout",
          "text": [
            "[0.09893717 0.06475081 0.0764921  0.07648663 0.08151771 0.08627151\n",
            " 0.08778752 0.09073355 0.07895281 0.06795139 0.07545484 0.06241328\n",
            " 0.06721315 0.07429631 0.07146142 0.07066385 0.07171814 0.07613502\n",
            " 0.06771855]\n"
          ]
        },
        {
          "output_type": "display_data",
          "data": {
            "text/plain": [
              "<Figure size 432x288 with 1 Axes>"
            ],
            "image/png": "[encoded data removed]"
          },
          "metadata": {
            "needs_background": "light"
          }
        }
      ]
    },
    {
      "cell_type": "code",
      "source": [
        "RF = RandomForestClassifier(random_state=1, n_estimators=100)\n",
        "RF.fit(X_train, y_train)\n",
        "y_pred = RF.predict(X_test)\n",
        "cm = metrics.confusion_matrix(y_test, y_pred)"
      ],
      "metadata": {
        "id": "t-PlySITEjnK"
      },
      "execution_count": null,
      "outputs": []
    },
    {
      "cell_type": "code",
      "source": [
        "plt.figure(figsize=(5,5))\n",
        "sns.heatmap(cm, annot=True, fmt=\".0f\", linewidths=.5, square = True, cmap = 'Blues_r');\n",
        "plt.ylabel('Actual label');\n",
        "plt.xlabel('Predicted label');\n",
        "all_sample_title = 'F1 Score: {0}'.format(round(f1_score(y_test, y_pred),3))\n",
        "plt.title(all_sample_title, size = 15);"
      ],
      "metadata": {
        "colab": {
          "base_uri": "https://localhost:8080/",
          "height": 312
        },
        "id": "M9QuOcUGglf-",
        "outputId": "349e6465-db19-4751-cd60-44e384be4749"
      },
      "execution_count": null,
      "outputs": [
        {
          "output_type": "display_data",
          "data": {
            "text/plain": [
              "<Figure size 360x360 with 2 Axes>"
            ],
            "image/png": "[encoded data removed]"
          },
          "metadata": {
            "needs_background": "light"
          }
        }
      ]
    },
    {
      "cell_type": "code",
      "source": [
        "tn, fp, fn, tp=cm.ravel()\n",
        "print (\"TP: \", tp,\"\\n\" \"FP: \",fp,\"\\n\" \"TN: \", tn,\"\\n\" \"FN: \",fn)\n",
        "print()\n",
        "print(classification_report(y_test, y_pred))"
      ],
      "metadata": {
        "colab": {
          "base_uri": "https://localhost:8080/"
        },
        "id": "CZXIBPMWcq7L",
        "outputId": "ad62a7cc-f5d3-4be2-a3e0-e6fe18c197fc"
      },
      "execution_count": null,
      "outputs": [
        {
          "output_type": "stream",
          "name": "stdout",
          "text": [
            "TP:  56 \n",
            "FP:  7 \n",
            "TN:  201 \n",
            "FN:  16\n",
            "\n",
            "              precision    recall  f1-score   support\n",
            "\n",
            "           0       0.93      0.97      0.95       208\n",
            "           1       0.89      0.78      0.83        72\n",
            "\n",
            "    accuracy                           0.92       280\n",
            "   macro avg       0.91      0.87      0.89       280\n",
            "weighted avg       0.92      0.92      0.92       280\n",
            "\n"
          ]
        }
      ]
    },
    {
      "cell_type": "markdown",
      "source": [
        "# ANOVA F-test"
      ],
      "metadata": {
        "id": "hFdSiIaLOt46"
      }
    },
    {
      "cell_type": "code",
      "source": [
        "X = featuresFC.iloc[:,0:20]\n",
        "y = featuresFC['Playoffs']"
      ],
      "metadata": {
        "id": "rm39K5ccOvs7"
      },
      "execution_count": null,
      "outputs": []
    },
    {
      "cell_type": "code",
      "source": [
        "featuresFC.iloc[:,0:20].head()"
      ],
      "metadata": {
        "colab": {
          "base_uri": "https://localhost:8080/",
          "height": 305
        },
        "id": "Z3PNMTb2J0BW",
        "outputId": "1eb6cf65-f156-48e8-8998-bd53c5819444"
      },
      "execution_count": null,
      "outputs": [
        {
          "output_type": "execute_result",
          "data": {
            "text/plain": [
              "       ERA+  OPS+      RA/G       R/G      1Run        SV       H_P  #a-tA-S  \\\n",
              "0  0.173913  0.44  0.477612  0.339394  0.559387  0.302094  0.622353     0.45   \n",
              "1  0.637681  0.32  0.000000  0.133333  0.390805  0.194577  0.181001     0.65   \n",
              "2  0.231884  0.56  0.300995  0.363636  0.641762  0.265422  0.464920     0.75   \n",
              "3  0.275362  0.36  0.161692  0.000000  0.618774  0.100396  0.159225     0.40   \n",
              "4  0.594203  0.46  0.208955  0.442424  0.392720  0.390013  0.482468     0.60   \n",
              "\n",
              "       BB_P        BB      Rtot    DefEff        PA  Under500        HR  \\\n",
              "0  0.429180  0.465585  0.391473  0.602041  0.594126  0.402703  0.380797   \n",
              "1  0.154861  0.410213  0.841085  1.000000  0.356231  0.389189  0.213898   \n",
              "2  0.429180  0.440077  0.372093  0.581633  0.523644  0.385135  0.303797   \n",
              "3  0.688073  0.021753  0.569767  0.867347  0.279588  0.271622  0.126699   \n",
              "4  0.204570  0.540521  0.441860  0.663265  0.566620  0.528378  0.335165   \n",
              "\n",
              "         SF         E        IP       SOS     IBB_P  \n",
              "0  0.358281  0.743973  0.678982  0.545455  0.495551  \n",
              "1  0.398932  0.349282  0.697641  0.454545  0.471563  \n",
              "2  0.538171  0.558574  0.710241  0.454545  0.441491  \n",
              "3  0.124424  0.444482  0.680184  0.454545  0.477531  \n",
              "4  0.443268  0.566802  0.752545  0.363636  0.501326  "
            ],
            "text/html": [
              "\n",
              "  <div id=\"df-87c8e321-33e9-4e1e-b3c2-987df4d666eb\">\n",
              "    <div class=\"colab-df-container\">\n",
              "      <div>\n",
              "<style scoped>\n",
              "    .dataframe tbody tr th:only-of-type {\n",
              "        vertical-align: middle;\n",
              "    }\n",
              "\n",
              "    .dataframe tbody tr th {\n",
              "        vertical-align: top;\n",
              "    }\n",
              "\n",
              "    .dataframe thead th {\n",
              "        text-align: right;\n",
              "    }\n",
              "</style>\n",
              "<table border=\"1\" class=\"dataframe\">\n",
              "  <thead>\n",
              "    <tr style=\"text-align: right;\">\n",
              "      <th></th>\n",
              "      <th>ERA+</th>\n",
              "      <th>OPS+</th>\n",
              "      <th>RA/G</th>\n",
              "      <th>R/G</th>\n",
              "      <th>1Run</th>\n",
              "      <th>SV</th>\n",
              "      <th>H_P</th>\n",
              "      <th>#a-tA-S</th>\n",
              "      <th>BB_P</th>\n",
              "      <th>BB</th>\n",
              "      <th>Rtot</th>\n",
              "      <th>DefEff</th>\n",
              "      <th>PA</th>\n",
              "      <th>Under500</th>\n",
              "      <th>HR</th>\n",
              "      <th>SF</th>\n",
              "      <th>E</th>\n",
              "      <th>IP</th>\n",
              "      <th>SOS</th>\n",
              "      <th>IBB_P</th>\n",
              "    </tr>\n",
              "  </thead>\n",
              "  <tbody>\n",
              "    <tr>\n",
              "      <th>0</th>\n",
              "      <td>0.173913</td>\n",
              "      <td>0.44</td>\n",
              "      <td>0.477612</td>\n",
              "      <td>0.339394</td>\n",
              "      <td>0.559387</td>\n",
              "      <td>0.302094</td>\n",
              "      <td>0.622353</td>\n",
              "      <td>0.45</td>\n",
              "      <td>0.429180</td>\n",
              "      <td>0.465585</td>\n",
              "      <td>0.391473</td>\n",
              "      <td>0.602041</td>\n",
              "      <td>0.594126</td>\n",
              "      <td>0.402703</td>\n",
              "      <td>0.380797</td>\n",
              "      <td>0.358281</td>\n",
              "      <td>0.743973</td>\n",
              "      <td>0.678982</td>\n",
              "      <td>0.545455</td>\n",
              "      <td>0.495551</td>\n",
              "    </tr>\n",
              "    <tr>\n",
              "      <th>1</th>\n",
              "      <td>0.637681</td>\n",
              "      <td>0.32</td>\n",
              "      <td>0.000000</td>\n",
              "      <td>0.133333</td>\n",
              "      <td>0.390805</td>\n",
              "      <td>0.194577</td>\n",
              "      <td>0.181001</td>\n",
              "      <td>0.65</td>\n",
              "      <td>0.154861</td>\n",
              "      <td>0.410213</td>\n",
              "      <td>0.841085</td>\n",
              "      <td>1.000000</td>\n",
              "      <td>0.356231</td>\n",
              "      <td>0.389189</td>\n",
              "      <td>0.213898</td>\n",
              "      <td>0.398932</td>\n",
              "      <td>0.349282</td>\n",
              "      <td>0.697641</td>\n",
              "      <td>0.454545</td>\n",
              "      <td>0.471563</td>\n",
              "    </tr>\n",
              "    <tr>\n",
              "      <th>2</th>\n",
              "      <td>0.231884</td>\n",
              "      <td>0.56</td>\n",
              "      <td>0.300995</td>\n",
              "      <td>0.363636</td>\n",
              "      <td>0.641762</td>\n",
              "      <td>0.265422</td>\n",
              "      <td>0.464920</td>\n",
              "      <td>0.75</td>\n",
              "      <td>0.429180</td>\n",
              "      <td>0.440077</td>\n",
              "      <td>0.372093</td>\n",
              "      <td>0.581633</td>\n",
              "      <td>0.523644</td>\n",
              "      <td>0.385135</td>\n",
              "      <td>0.303797</td>\n",
              "      <td>0.538171</td>\n",
              "      <td>0.558574</td>\n",
              "      <td>0.710241</td>\n",
              "      <td>0.454545</td>\n",
              "      <td>0.441491</td>\n",
              "    </tr>\n",
              "    <tr>\n",
              "      <th>3</th>\n",
              "      <td>0.275362</td>\n",
              "      <td>0.36</td>\n",
              "      <td>0.161692</td>\n",
              "      <td>0.000000</td>\n",
              "      <td>0.618774</td>\n",
              "      <td>0.100396</td>\n",
              "      <td>0.159225</td>\n",
              "      <td>0.40</td>\n",
              "      <td>0.688073</td>\n",
              "      <td>0.021753</td>\n",
              "      <td>0.569767</td>\n",
              "      <td>0.867347</td>\n",
              "      <td>0.279588</td>\n",
              "      <td>0.271622</td>\n",
              "      <td>0.126699</td>\n",
              "      <td>0.124424</td>\n",
              "      <td>0.444482</td>\n",
              "      <td>0.680184</td>\n",
              "      <td>0.454545</td>\n",
              "      <td>0.477531</td>\n",
              "    </tr>\n",
              "    <tr>\n",
              "      <th>4</th>\n",
              "      <td>0.594203</td>\n",
              "      <td>0.46</td>\n",
              "      <td>0.208955</td>\n",
              "      <td>0.442424</td>\n",
              "      <td>0.392720</td>\n",
              "      <td>0.390013</td>\n",
              "      <td>0.482468</td>\n",
              "      <td>0.60</td>\n",
              "      <td>0.204570</td>\n",
              "      <td>0.540521</td>\n",
              "      <td>0.441860</td>\n",
              "      <td>0.663265</td>\n",
              "      <td>0.566620</td>\n",
              "      <td>0.528378</td>\n",
              "      <td>0.335165</td>\n",
              "      <td>0.443268</td>\n",
              "      <td>0.566802</td>\n",
              "      <td>0.752545</td>\n",
              "      <td>0.363636</td>\n",
              "      <td>0.501326</td>\n",
              "    </tr>\n",
              "  </tbody>\n",
              "</table>\n",
              "</div>\n",
              "      <button class=\"colab-df-convert\" onclick=\"convertToInteractive('df-87c8e321-33e9-4e1e-b3c2-987df4d666eb')\"\n",
              "              title=\"Convert this dataframe to an interactive table.\"\n",
              "              style=\"display:none;\">\n",
              "        \n",
              "  <svg xmlns=\"http://www.w3.org/2000/svg\" height=\"24px\"viewBox=\"0 0 24 24\"\n",
              "       width=\"24px\">\n",
              "    <path d=\"M0 0h24v24H0V0z\" fill=\"none\"/>\n",
              "    <path d=\"M18.56 5.44l.94 2.06.94-2.06 2.06-.94-2.06-.94-.94-2.06-.94 2.06-2.06.94zm-11 1L8.5 8.5l.94-2.06 2.06-.94-2.06-.94L8.5 2.5l-.94 2.06-2.06.94zm10 10l.94 2.06.94-2.06 2.06-.94-2.06-.94-.94-2.06-.94 2.06-2.06.94z\"/><path d=\"M17.41 7.96l-1.37-1.37c-.4-.4-.92-.59-1.43-.59-.52 0-1.04.2-1.43.59L10.3 9.45l-7.72 7.72c-.78.78-.78 2.05 0 2.83L4 21.41c.39.39.9.59 1.41.59.51 0 1.02-.2 1.41-.59l7.78-7.78 2.81-2.81c.8-.78.8-2.07 0-2.86zM5.41 20L4 18.59l7.72-7.72 1.47 1.35L5.41 20z\"/>\n",
              "  </svg>\n",
              "      </button>\n",
              "      \n",
              "  <style>\n",
              "    .colab-df-container {\n",
              "      display:flex;\n",
              "      flex-wrap:wrap;\n",
              "      gap: 12px;\n",
              "    }\n",
              "\n",
              "    .colab-df-convert {\n",
              "      background-color: #E8F0FE;\n",
              "      border: none;\n",
              "      border-radius: 50%;\n",
              "      cursor: pointer;\n",
              "      display: none;\n",
              "      fill: #1967D2;\n",
              "      height: 32px;\n",
              "      padding: 0 0 0 0;\n",
              "      width: 32px;\n",
              "    }\n",
              "\n",
              "    .colab-df-convert:hover {\n",
              "      background-color: #E2EBFA;\n",
              "      box-shadow: 0px 1px 2px rgba(60, 64, 67, 0.3), 0px 1px 3px 1px rgba(60, 64, 67, 0.15);\n",
              "      fill: #174EA6;\n",
              "    }\n",
              "\n",
              "    [theme=dark] .colab-df-convert {\n",
              "      background-color: #3B4455;\n",
              "      fill: #D2E3FC;\n",
              "    }\n",
              "\n",
              "    [theme=dark] .colab-df-convert:hover {\n",
              "      background-color: #434B5C;\n",
              "      box-shadow: 0px 1px 3px 1px rgba(0, 0, 0, 0.15);\n",
              "      filter: drop-shadow(0px 1px 2px rgba(0, 0, 0, 0.3));\n",
              "      fill: #FFFFFF;\n",
              "    }\n",
              "  </style>\n",
              "\n",
              "      <script>\n",
              "        const buttonEl =\n",
              "          document.querySelector('#df-87c8e321-33e9-4e1e-b3c2-987df4d666eb button.colab-df-convert');\n",
              "        buttonEl.style.display =\n",
              "          google.colab.kernel.accessAllowed ? 'block' : 'none';\n",
              "\n",
              "        async function convertToInteractive(key) {\n",
              "          const element = document.querySelector('#df-87c8e321-33e9-4e1e-b3c2-987df4d666eb');\n",
              "          const dataTable =\n",
              "            await google.colab.kernel.invokeFunction('convertToInteractive',\n",
              "                                                     [key], {});\n",
              "          if (!dataTable) return;\n",
              "\n",
              "          const docLinkHtml = 'Like what you see? Visit the ' +\n",
              "            '<a target=\"_blank\" href=https://colab.research.google.com/notebooks/data_table.ipynb>data table notebook</a>'\n",
              "            + ' to learn more about interactive tables.';\n",
              "          element.innerHTML = '';\n",
              "          dataTable['output_type'] = 'display_data';\n",
              "          await google.colab.output.renderOutput(dataTable, element);\n",
              "          const docLink = document.createElement('div');\n",
              "          docLink.innerHTML = docLinkHtml;\n",
              "          element.appendChild(docLink);\n",
              "        }\n",
              "      </script>\n",
              "    </div>\n",
              "  </div>\n",
              "  "
            ]
          },
          "metadata": {},
          "execution_count": 61
        }
      ]
    },
    {
      "cell_type": "code",
      "source": [
        "X_train, X_test, y_train, y_test = train_test_split(X, y, test_size=0.2, random_state=1, stratify=y)"
      ],
      "metadata": {
        "id": "B5GDoWiDO0_T"
      },
      "execution_count": null,
      "outputs": []
    },
    {
      "cell_type": "code",
      "source": [
        "train_scores, valid_scores = validation_curve(RandomForestClassifier(random_state=1), X_train, y_train, param_name=\"n_estimators\", param_range=n_estimators, scoring='f1', cv=10)\n",
        "train_scores_mean = np.mean(train_scores, axis=1)\n",
        "valid_scores_mean = np.mean(valid_scores, axis=1)\n",
        "\n",
        "print(valid_scores_mean)\n",
        "plt.title(\"Validation Curve with Random Forest\")\n",
        "plt.xlabel(\"n_estimators\")\n",
        "plt.ylabel(\"F1 Score\")\n",
        "plt.xticks(np.arange(10,105,step=5))\n",
        "plt.plot(n_estimators, train_scores_mean, label=\"train F1\")\n",
        "plt.plot(n_estimators, valid_scores_mean, label=\"validation F1\")\n",
        "\n",
        "plt.legend()\n",
        "plt.show()"
      ],
      "metadata": {
        "colab": {
          "base_uri": "https://localhost:8080/",
          "height": 365
        },
        "id": "E47kZtAlO4fD",
        "outputId": "8c918a38-8bb8-43f8-eaf1-83c2f439bf3a"
      },
      "execution_count": null,
      "outputs": [
        {
          "output_type": "stream",
          "name": "stdout",
          "text": [
            "[0.74389622 0.7795246  0.77958606 0.80092258 0.79224219 0.78623199\n",
            " 0.78787656 0.79781815 0.79226751 0.79914508 0.80206373 0.80240211\n",
            " 0.80504349 0.8040459  0.80025461 0.80632611 0.80609527 0.80830148\n",
            " 0.80408189]\n"
          ]
        },
        {
          "output_type": "display_data",
          "data": {
            "text/plain": [
              "<Figure size 432x288 with 1 Axes>"
            ],
            "image/png": "[encoded data removed]"
          },
          "metadata": {
            "needs_background": "light"
          }
        }
      ]
    },
    {
      "cell_type": "code",
      "source": [
        "train_scores, valid_scores = validation_curve(RandomForestClassifier(random_state=1), X_train, y_train, param_name=\"n_estimators\", param_range=n_estimators, scoring='f1', cv=10)\n",
        "train_scores_std = np.std(train_scores, axis=1)\n",
        "valid_scores_std = np.std(valid_scores, axis=1)\n",
        "\n",
        "print(valid_scores_std)\n",
        "plt.title(\"Validation Curve with Random Forest\")\n",
        "plt.xlabel(\"n_estimators\")\n",
        "plt.ylabel(\"Std. Deviation\")\n",
        "plt.xticks(np.arange(10,105,step=5))\n",
        "plt.plot(n_estimators, train_scores_std, label=\"train std. deviation\")\n",
        "plt.plot(n_estimators, valid_scores_std, label=\"validation std. deviation\")\n",
        "\n",
        "plt.legend()\n",
        "plt.show()"
      ],
      "metadata": {
        "colab": {
          "base_uri": "https://localhost:8080/",
          "height": 365
        },
        "id": "EcnP_JFjPA51",
        "outputId": "7c762c3b-5089-40bf-c214-1ed3a019298b"
      },
      "execution_count": null,
      "outputs": [
        {
          "output_type": "stream",
          "name": "stdout",
          "text": [
            "[0.0727835  0.08262158 0.06983619 0.06956043 0.0791565  0.06946607\n",
            " 0.07043088 0.0700737  0.07430854 0.06859519 0.06673675 0.066847\n",
            " 0.07534981 0.07197964 0.07725169 0.06655199 0.07277599 0.06466768\n",
            " 0.06827151]\n"
          ]
        },
        {
          "output_type": "display_data",
          "data": {
            "text/plain": [
              "<Figure size 432x288 with 1 Axes>"
            ],
            "image/png": "[encoded data removed]"
          },
          "metadata": {
            "needs_background": "light"
          }
        }
      ]
    },
    {
      "cell_type": "code",
      "source": [
        "RF = RandomForestClassifier(random_state=1, n_estimators=95)\n",
        "RF.fit(X_train, y_train)\n",
        "y_pred = RF.predict(X_test)\n",
        "cm = metrics.confusion_matrix(y_test, y_pred)"
      ],
      "metadata": {
        "id": "6jFvFkCGPZcI"
      },
      "execution_count": null,
      "outputs": []
    },
    {
      "cell_type": "code",
      "source": [
        "plt.figure(figsize=(5,5))\n",
        "sns.heatmap(cm, annot=True, fmt=\".0f\", linewidths=.5, square = True, cmap = 'Blues_r');\n",
        "plt.ylabel('Actual label');\n",
        "plt.xlabel('Predicted label');\n",
        "all_sample_title = 'F1 Score: {0}'.format(round(f1_score(y_test, y_pred),3))\n",
        "plt.title(all_sample_title, size = 15);"
      ],
      "metadata": {
        "colab": {
          "base_uri": "https://localhost:8080/",
          "height": 313
        },
        "id": "Al2cDcpzPeAI",
        "outputId": "33e513c4-cb0e-442d-a906-7c64939b8014"
      },
      "execution_count": null,
      "outputs": [
        {
          "output_type": "display_data",
          "data": {
            "text/plain": [
              "<Figure size 360x360 with 2 Axes>"
            ],
            "image/png": "[encoded data removed]"
          },
          "metadata": {
            "needs_background": "light"
          }
        }
      ]
    },
    {
      "cell_type": "code",
      "source": [
        "tn, fp, fn, tp=cm.ravel()\n",
        "print (\"TP: \", tp,\"\\n\" \"FP: \",fp,\"\\n\" \"TN: \", tn,\"\\n\" \"FN: \",fn)\n",
        "print()\n",
        "print(classification_report(y_test, y_pred))"
      ],
      "metadata": {
        "colab": {
          "base_uri": "https://localhost:8080/"
        },
        "id": "mcub2Yaqco3q",
        "outputId": "7bec2714-e034-465d-eb13-ca42e0751c7e"
      },
      "execution_count": null,
      "outputs": [
        {
          "output_type": "stream",
          "name": "stdout",
          "text": [
            "TP:  56 \n",
            "FP:  8 \n",
            "TN:  200 \n",
            "FN:  16\n",
            "\n",
            "              precision    recall  f1-score   support\n",
            "\n",
            "           0       0.93      0.96      0.94       208\n",
            "           1       0.88      0.78      0.82        72\n",
            "\n",
            "    accuracy                           0.91       280\n",
            "   macro avg       0.90      0.87      0.88       280\n",
            "weighted avg       0.91      0.91      0.91       280\n",
            "\n"
          ]
        }
      ]
    },
    {
      "cell_type": "markdown",
      "source": [
        "# Random Forest"
      ],
      "metadata": {
        "id": "JOBRY_xJQX2A"
      }
    },
    {
      "cell_type": "code",
      "source": [
        "X = featuresRFC.iloc[:,0:20]\n",
        "y = featuresRFC['Playoffs']"
      ],
      "metadata": {
        "id": "Tr4LIaZPQXa_"
      },
      "execution_count": null,
      "outputs": []
    },
    {
      "cell_type": "code",
      "source": [
        "featuresRFC.iloc[:,0:20].head()"
      ],
      "metadata": {
        "colab": {
          "base_uri": "https://localhost:8080/",
          "height": 305
        },
        "id": "ggC955NUJ2Oe",
        "outputId": "9030aac8-460a-4b16-cd6e-2c1322530d38"
      },
      "execution_count": null,
      "outputs": [
        {
          "output_type": "execute_result",
          "data": {
            "text/plain": [
              "       ERA+      RA/G      1Run       R/G  OPS+        SV       H_P      BB_P  \\\n",
              "0  0.173913  0.477612  0.559387  0.339394  0.44  0.302094  0.622353  0.429180   \n",
              "1  0.637681  0.000000  0.390805  0.133333  0.32  0.194577  0.181001  0.154861   \n",
              "2  0.231884  0.300995  0.641762  0.363636  0.56  0.265422  0.464920  0.429180   \n",
              "3  0.275362  0.161692  0.618774  0.000000  0.36  0.100396  0.159225  0.688073   \n",
              "4  0.594203  0.208955  0.392720  0.442424  0.46  0.390013  0.482468  0.204570   \n",
              "\n",
              "         BB    DefEff      Rtot        HR  #a-tA-S        IP       SOS  \\\n",
              "0  0.465585  0.602041  0.391473  0.380797     0.45  0.678982  0.545455   \n",
              "1  0.410213  1.000000  0.841085  0.213898     0.65  0.697641  0.454545   \n",
              "2  0.440077  0.581633  0.372093  0.303797     0.75  0.710241  0.454545   \n",
              "3  0.021753  0.867347  0.569767  0.126699     0.40  0.680184  0.454545   \n",
              "4  0.540521  0.663265  0.441860  0.335165     0.60  0.752545  0.363636   \n",
              "\n",
              "         PA      HR_P        SF        2B  Under500  \n",
              "0  0.594126  0.418914  0.358281  0.151402  0.402703  \n",
              "1  0.356231  0.123964  0.398932  0.191710  0.389189  \n",
              "2  0.523644  0.189573  0.538171  0.361411  0.385135  \n",
              "3  0.279588  0.142855  0.124424  0.078143  0.271622  \n",
              "4  0.566620  0.233241  0.443268  0.242631  0.528378  "
            ],
            "text/html": [
              "\n",
              "  <div id=\"df-70c6ef6e-92df-45ad-9736-7b8783d607a8\">\n",
              "    <div class=\"colab-df-container\">\n",
              "      <div>\n",
              "<style scoped>\n",
              "    .dataframe tbody tr th:only-of-type {\n",
              "        vertical-align: middle;\n",
              "    }\n",
              "\n",
              "    .dataframe tbody tr th {\n",
              "        vertical-align: top;\n",
              "    }\n",
              "\n",
              "    .dataframe thead th {\n",
              "        text-align: right;\n",
              "    }\n",
              "</style>\n",
              "<table border=\"1\" class=\"dataframe\">\n",
              "  <thead>\n",
              "    <tr style=\"text-align: right;\">\n",
              "      <th></th>\n",
              "      <th>ERA+</th>\n",
              "      <th>RA/G</th>\n",
              "      <th>1Run</th>\n",
              "      <th>R/G</th>\n",
              "      <th>OPS+</th>\n",
              "      <th>SV</th>\n",
              "      <th>H_P</th>\n",
              "      <th>BB_P</th>\n",
              "      <th>BB</th>\n",
              "      <th>DefEff</th>\n",
              "      <th>Rtot</th>\n",
              "      <th>HR</th>\n",
              "      <th>#a-tA-S</th>\n",
              "      <th>IP</th>\n",
              "      <th>SOS</th>\n",
              "      <th>PA</th>\n",
              "      <th>HR_P</th>\n",
              "      <th>SF</th>\n",
              "      <th>2B</th>\n",
              "      <th>Under500</th>\n",
              "    </tr>\n",
              "  </thead>\n",
              "  <tbody>\n",
              "    <tr>\n",
              "      <th>0</th>\n",
              "      <td>0.173913</td>\n",
              "      <td>0.477612</td>\n",
              "      <td>0.559387</td>\n",
              "      <td>0.339394</td>\n",
              "      <td>0.44</td>\n",
              "      <td>0.302094</td>\n",
              "      <td>0.622353</td>\n",
              "      <td>0.429180</td>\n",
              "      <td>0.465585</td>\n",
              "      <td>0.602041</td>\n",
              "      <td>0.391473</td>\n",
              "      <td>0.380797</td>\n",
              "      <td>0.45</td>\n",
              "      <td>0.678982</td>\n",
              "      <td>0.545455</td>\n",
              "      <td>0.594126</td>\n",
              "      <td>0.418914</td>\n",
              "      <td>0.358281</td>\n",
              "      <td>0.151402</td>\n",
              "      <td>0.402703</td>\n",
              "    </tr>\n",
              "    <tr>\n",
              "      <th>1</th>\n",
              "      <td>0.637681</td>\n",
              "      <td>0.000000</td>\n",
              "      <td>0.390805</td>\n",
              "      <td>0.133333</td>\n",
              "      <td>0.32</td>\n",
              "      <td>0.194577</td>\n",
              "      <td>0.181001</td>\n",
              "      <td>0.154861</td>\n",
              "      <td>0.410213</td>\n",
              "      <td>1.000000</td>\n",
              "      <td>0.841085</td>\n",
              "      <td>0.213898</td>\n",
              "      <td>0.65</td>\n",
              "      <td>0.697641</td>\n",
              "      <td>0.454545</td>\n",
              "      <td>0.356231</td>\n",
              "      <td>0.123964</td>\n",
              "      <td>0.398932</td>\n",
              "      <td>0.191710</td>\n",
              "      <td>0.389189</td>\n",
              "    </tr>\n",
              "    <tr>\n",
              "      <th>2</th>\n",
              "      <td>0.231884</td>\n",
              "      <td>0.300995</td>\n",
              "      <td>0.641762</td>\n",
              "      <td>0.363636</td>\n",
              "      <td>0.56</td>\n",
              "      <td>0.265422</td>\n",
              "      <td>0.464920</td>\n",
              "      <td>0.429180</td>\n",
              "      <td>0.440077</td>\n",
              "      <td>0.581633</td>\n",
              "      <td>0.372093</td>\n",
              "      <td>0.303797</td>\n",
              "      <td>0.75</td>\n",
              "      <td>0.710241</td>\n",
              "      <td>0.454545</td>\n",
              "      <td>0.523644</td>\n",
              "      <td>0.189573</td>\n",
              "      <td>0.538171</td>\n",
              "      <td>0.361411</td>\n",
              "      <td>0.385135</td>\n",
              "    </tr>\n",
              "    <tr>\n",
              "      <th>3</th>\n",
              "      <td>0.275362</td>\n",
              "      <td>0.161692</td>\n",
              "      <td>0.618774</td>\n",
              "      <td>0.000000</td>\n",
              "      <td>0.36</td>\n",
              "      <td>0.100396</td>\n",
              "      <td>0.159225</td>\n",
              "      <td>0.688073</td>\n",
              "      <td>0.021753</td>\n",
              "      <td>0.867347</td>\n",
              "      <td>0.569767</td>\n",
              "      <td>0.126699</td>\n",
              "      <td>0.40</td>\n",
              "      <td>0.680184</td>\n",
              "      <td>0.454545</td>\n",
              "      <td>0.279588</td>\n",
              "      <td>0.142855</td>\n",
              "      <td>0.124424</td>\n",
              "      <td>0.078143</td>\n",
              "      <td>0.271622</td>\n",
              "    </tr>\n",
              "    <tr>\n",
              "      <th>4</th>\n",
              "      <td>0.594203</td>\n",
              "      <td>0.208955</td>\n",
              "      <td>0.392720</td>\n",
              "      <td>0.442424</td>\n",
              "      <td>0.46</td>\n",
              "      <td>0.390013</td>\n",
              "      <td>0.482468</td>\n",
              "      <td>0.204570</td>\n",
              "      <td>0.540521</td>\n",
              "      <td>0.663265</td>\n",
              "      <td>0.441860</td>\n",
              "      <td>0.335165</td>\n",
              "      <td>0.60</td>\n",
              "      <td>0.752545</td>\n",
              "      <td>0.363636</td>\n",
              "      <td>0.566620</td>\n",
              "      <td>0.233241</td>\n",
              "      <td>0.443268</td>\n",
              "      <td>0.242631</td>\n",
              "      <td>0.528378</td>\n",
              "    </tr>\n",
              "  </tbody>\n",
              "</table>\n",
              "</div>\n",
              "      <button class=\"colab-df-convert\" onclick=\"convertToInteractive('df-70c6ef6e-92df-45ad-9736-7b8783d607a8')\"\n",
              "              title=\"Convert this dataframe to an interactive table.\"\n",
              "              style=\"display:none;\">\n",
              "        \n",
              "  <svg xmlns=\"http://www.w3.org/2000/svg\" height=\"24px\"viewBox=\"0 0 24 24\"\n",
              "       width=\"24px\">\n",
              "    <path d=\"M0 0h24v24H0V0z\" fill=\"none\"/>\n",
              "    <path d=\"M18.56 5.44l.94 2.06.94-2.06 2.06-.94-2.06-.94-.94-2.06-.94 2.06-2.06.94zm-11 1L8.5 8.5l.94-2.06 2.06-.94-2.06-.94L8.5 2.5l-.94 2.06-2.06.94zm10 10l.94 2.06.94-2.06 2.06-.94-2.06-.94-.94-2.06-.94 2.06-2.06.94z\"/><path d=\"M17.41 7.96l-1.37-1.37c-.4-.4-.92-.59-1.43-.59-.52 0-1.04.2-1.43.59L10.3 9.45l-7.72 7.72c-.78.78-.78 2.05 0 2.83L4 21.41c.39.39.9.59 1.41.59.51 0 1.02-.2 1.41-.59l7.78-7.78 2.81-2.81c.8-.78.8-2.07 0-2.86zM5.41 20L4 18.59l7.72-7.72 1.47 1.35L5.41 20z\"/>\n",
              "  </svg>\n",
              "      </button>\n",
              "      \n",
              "  <style>\n",
              "    .colab-df-container {\n",
              "      display:flex;\n",
              "      flex-wrap:wrap;\n",
              "      gap: 12px;\n",
              "    }\n",
              "\n",
              "    .colab-df-convert {\n",
              "      background-color: #E8F0FE;\n",
              "      border: none;\n",
              "      border-radius: 50%;\n",
              "      cursor: pointer;\n",
              "      display: none;\n",
              "      fill: #1967D2;\n",
              "      height: 32px;\n",
              "      padding: 0 0 0 0;\n",
              "      width: 32px;\n",
              "    }\n",
              "\n",
              "    .colab-df-convert:hover {\n",
              "      background-color: #E2EBFA;\n",
              "      box-shadow: 0px 1px 2px rgba(60, 64, 67, 0.3), 0px 1px 3px 1px rgba(60, 64, 67, 0.15);\n",
              "      fill: #174EA6;\n",
              "    }\n",
              "\n",
              "    [theme=dark] .colab-df-convert {\n",
              "      background-color: #3B4455;\n",
              "      fill: #D2E3FC;\n",
              "    }\n",
              "\n",
              "    [theme=dark] .colab-df-convert:hover {\n",
              "      background-color: #434B5C;\n",
              "      box-shadow: 0px 1px 3px 1px rgba(0, 0, 0, 0.15);\n",
              "      filter: drop-shadow(0px 1px 2px rgba(0, 0, 0, 0.3));\n",
              "      fill: #FFFFFF;\n",
              "    }\n",
              "  </style>\n",
              "\n",
              "      <script>\n",
              "        const buttonEl =\n",
              "          document.querySelector('#df-70c6ef6e-92df-45ad-9736-7b8783d607a8 button.colab-df-convert');\n",
              "        buttonEl.style.display =\n",
              "          google.colab.kernel.accessAllowed ? 'block' : 'none';\n",
              "\n",
              "        async function convertToInteractive(key) {\n",
              "          const element = document.querySelector('#df-70c6ef6e-92df-45ad-9736-7b8783d607a8');\n",
              "          const dataTable =\n",
              "            await google.colab.kernel.invokeFunction('convertToInteractive',\n",
              "                                                     [key], {});\n",
              "          if (!dataTable) return;\n",
              "\n",
              "          const docLinkHtml = 'Like what you see? Visit the ' +\n",
              "            '<a target=\"_blank\" href=https://colab.research.google.com/notebooks/data_table.ipynb>data table notebook</a>'\n",
              "            + ' to learn more about interactive tables.';\n",
              "          element.innerHTML = '';\n",
              "          dataTable['output_type'] = 'display_data';\n",
              "          await google.colab.output.renderOutput(dataTable, element);\n",
              "          const docLink = document.createElement('div');\n",
              "          docLink.innerHTML = docLinkHtml;\n",
              "          element.appendChild(docLink);\n",
              "        }\n",
              "      </script>\n",
              "    </div>\n",
              "  </div>\n",
              "  "
            ]
          },
          "metadata": {},
          "execution_count": 63
        }
      ]
    },
    {
      "cell_type": "code",
      "source": [
        "X_train, X_test, y_train, y_test = train_test_split(X, y, test_size=0.2, random_state=1, stratify=y)"
      ],
      "metadata": {
        "id": "nKnNzJepQfLo"
      },
      "execution_count": null,
      "outputs": []
    },
    {
      "cell_type": "code",
      "source": [
        "train_scores, valid_scores = validation_curve(RandomForestClassifier(random_state=1), X_train, y_train, param_name=\"n_estimators\", param_range=n_estimators, scoring='f1', cv=10)\n",
        "train_scores_mean = np.mean(train_scores, axis=1)\n",
        "valid_scores_mean = np.mean(valid_scores, axis=1)\n",
        "\n",
        "print(valid_scores_mean)\n",
        "plt.title(\"Validation Curve with Random Forest\")\n",
        "plt.xlabel(\"n_estimators\")\n",
        "plt.ylabel(\"F1 Score\")\n",
        "plt.xticks(np.arange(10,105,step=5))\n",
        "plt.plot(n_estimators, train_scores_mean, label=\"train F1\")\n",
        "plt.plot(n_estimators, valid_scores_mean, label=\"validation F1\")\n",
        "\n",
        "plt.legend()\n",
        "plt.show()"
      ],
      "metadata": {
        "colab": {
          "base_uri": "https://localhost:8080/",
          "height": 365
        },
        "id": "yDsa6eJlQhe5",
        "outputId": "136e23b4-666c-4f0d-eae7-a74c208ef5b5"
      },
      "execution_count": null,
      "outputs": [
        {
          "output_type": "stream",
          "name": "stdout",
          "text": [
            "[0.76250923 0.8048455  0.78867351 0.80576499 0.80555535 0.7999216\n",
            " 0.80688917 0.8158639  0.80853202 0.81508851 0.81608986 0.81599237\n",
            " 0.81792287 0.81370436 0.80971346 0.80940928 0.80992921 0.80846188\n",
            " 0.80499108]\n"
          ]
        },
        {
          "output_type": "display_data",
          "data": {
            "text/plain": [
              "<Figure size 432x288 with 1 Axes>"
            ],
            "image/png": "[encoded data removed]"
          },
          "metadata": {
            "needs_background": "light"
          }
        }
      ]
    },
    {
      "cell_type": "code",
      "source": [
        "train_scores, valid_scores = validation_curve(RandomForestClassifier(random_state=1), X_train, y_train, param_name=\"n_estimators\", param_range=n_estimators, scoring='f1', cv=10)\n",
        "train_scores_std = np.std(train_scores, axis=1)\n",
        "valid_scores_std = np.std(valid_scores, axis=1)\n",
        "\n",
        "print(valid_scores_std)\n",
        "plt.title(\"Validation Curve with Random Forest\")\n",
        "plt.xlabel(\"n_estimators\")\n",
        "plt.ylabel(\"Std. Deviation\")\n",
        "plt.xticks(np.arange(10,105,step=5))\n",
        "plt.plot(n_estimators, train_scores_std, label=\"train std. deviation\")\n",
        "plt.plot(n_estimators, valid_scores_std, label=\"validation std. deviation\")\n",
        "\n",
        "plt.legend()\n",
        "plt.show()"
      ],
      "metadata": {
        "colab": {
          "base_uri": "https://localhost:8080/",
          "height": 365
        },
        "id": "wE-0XUK-Qmzp",
        "outputId": "983af74d-b221-4b61-f85e-81e2a75e47c2"
      },
      "execution_count": null,
      "outputs": [
        {
          "output_type": "stream",
          "name": "stdout",
          "text": [
            "[0.05851683 0.04855409 0.0756404  0.0666062  0.0689507  0.06851683\n",
            " 0.06596398 0.04942261 0.06159713 0.06283382 0.06356071 0.0656398\n",
            " 0.05905561 0.06146309 0.06778588 0.07381071 0.07440108 0.06654187\n",
            " 0.07317817]\n"
          ]
        },
        {
          "output_type": "display_data",
          "data": {
            "text/plain": [
              "<Figure size 432x288 with 1 Axes>"
            ],
            "image/png": "[encoded data removed]"
          },
          "metadata": {
            "needs_background": "light"
          }
        }
      ]
    },
    {
      "cell_type": "code",
      "source": [
        "RF = RandomForestClassifier(random_state=1, n_estimators=70)\n",
        "RF.fit(X_train, y_train)\n",
        "y_pred = RF.predict(X_test)\n",
        "cm = metrics.confusion_matrix(y_test, y_pred)"
      ],
      "metadata": {
        "id": "TkLbzLghAIE4"
      },
      "execution_count": null,
      "outputs": []
    },
    {
      "cell_type": "code",
      "source": [
        "plt.figure(figsize=(5,5))\n",
        "sns.heatmap(cm, annot=True, fmt=\".0f\", linewidths=.5, square = True, cmap = 'Blues_r');\n",
        "plt.ylabel('Actual label');\n",
        "plt.xlabel('Predicted label');\n",
        "all_sample_title = 'F1 Score: {0}'.format(round(f1_score(y_test, y_pred),3))\n",
        "plt.title(all_sample_title, size = 15);"
      ],
      "metadata": {
        "colab": {
          "base_uri": "https://localhost:8080/",
          "height": 311
        },
        "id": "iWNB8xe0jAJK",
        "outputId": "70bae40e-63ab-494d-fdef-6ca803f01353"
      },
      "execution_count": null,
      "outputs": [
        {
          "output_type": "display_data",
          "data": {
            "text/plain": [
              "<Figure size 360x360 with 2 Axes>"
            ],
            "image/png": "[encoded data removed]"
          },
          "metadata": {
            "needs_background": "light"
          }
        }
      ]
    },
    {
      "cell_type": "code",
      "source": [
        "tn, fp, fn, tp=cm.ravel()\n",
        "print (\"TP: \", tp,\"\\n\" \"FP: \",fp,\"\\n\" \"TN: \", tn,\"\\n\" \"FN: \",fn)\n",
        "print()\n",
        "print(classification_report(y_test, y_pred))"
      ],
      "metadata": {
        "colab": {
          "base_uri": "https://localhost:8080/"
        },
        "id": "tUONUOGIcpy6",
        "outputId": "e11e8c85-3902-4b97-e9e2-c495b3df9c35"
      },
      "execution_count": null,
      "outputs": [
        {
          "output_type": "stream",
          "name": "stdout",
          "text": [
            "TP:  57 \n",
            "FP:  6 \n",
            "TN:  202 \n",
            "FN:  15\n",
            "\n",
            "              precision    recall  f1-score   support\n",
            "\n",
            "           0       0.93      0.97      0.95       208\n",
            "           1       0.90      0.79      0.84        72\n",
            "\n",
            "    accuracy                           0.93       280\n",
            "   macro avg       0.92      0.88      0.90       280\n",
            "weighted avg       0.92      0.93      0.92       280\n",
            "\n"
          ]
        }
      ]
    }
  ]
}
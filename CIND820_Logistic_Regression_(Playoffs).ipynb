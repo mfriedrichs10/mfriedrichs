{
  "nbformat": 4,
  "nbformat_minor": 0,
  "metadata": {
    "colab": {
      "provenance": []
    },
    "kernelspec": {
      "name": "python3",
      "display_name": "Python 3"
    },
    "language_info": {
      "name": "python"
    }
  },
  "cells": [
    {
      "cell_type": "code",
      "execution_count": null,
      "metadata": {
        "id": "oxRABZKWx_fN"
      },
      "outputs": [],
      "source": [
        "import pandas as pd\n",
        "import numpy as np\n",
        "import matplotlib.pyplot as plt\n",
        "import seaborn as sns\n",
        "from sklearn.model_selection import train_test_split, StratifiedKFold, cross_val_predict, GridSearchCV\n",
        "from sklearn.metrics import confusion_matrix, classification_report, f1_score\n",
        "from sklearn.linear_model import LogisticRegression\n",
        "from sklearn.model_selection import KFold, cross_val_score, validation_curve, StratifiedShuffleSplit\n",
        "from sklearn import metrics"
      ]
    },
    {
      "cell_type": "code",
      "source": [
        "featuresMIC = pd.read_csv('featuresRankedMIC_550.csv')\n",
        "featuresFC = pd.read_csv('featuresRankedFC_550.csv')\n",
        "featuresRFC = pd.read_csv('featuresRankedRFC_550.csv')"
      ],
      "metadata": {
        "id": "jgvNDUlUyNFR"
      },
      "execution_count": null,
      "outputs": []
    },
    {
      "cell_type": "markdown",
      "source": [
        "# Mutual Information Gain"
      ],
      "metadata": {
        "id": "oZDyEyNZyRW5"
      }
    },
    {
      "cell_type": "code",
      "source": [
        "X = featuresMIC.iloc[:,0:20]\n",
        "y = featuresMIC['Playoffs']"
      ],
      "metadata": {
        "id": "GNBvZLhjyQsB"
      },
      "execution_count": null,
      "outputs": []
    },
    {
      "cell_type": "code",
      "source": [
        "featuresMIC.iloc[:,0:20].head()"
      ],
      "metadata": {
        "colab": {
          "base_uri": "https://localhost:8080/",
          "height": 305
        },
        "id": "jMdjW6NjMS05",
        "outputId": "e1937514-12be-4d28-f799-6ed192cc9288"
      },
      "execution_count": null,
      "outputs": [
        {
          "output_type": "execute_result",
          "data": {
            "text/plain": [
              "       ERA+  OPS+      RA/G      1Run        SV       R/G      BB_P  #a-tA-S  \\\n",
              "0  0.173913  0.44  0.477612  0.559387  0.302094  0.339394  0.429180     0.45   \n",
              "1  0.637681  0.32  0.000000  0.390805  0.194577  0.133333  0.154861     0.65   \n",
              "2  0.231884  0.56  0.300995  0.641762  0.265422  0.363636  0.429180     0.75   \n",
              "3  0.275362  0.36  0.161692  0.618774  0.100396  0.000000  0.688073     0.40   \n",
              "4  0.594203  0.46  0.208955  0.392720  0.390013  0.442424  0.204570     0.60   \n",
              "\n",
              "   Under500    DefEff        PA      Rtot       H_P       SOS        WP  \\\n",
              "0  0.402703  0.602041  0.594126  0.391473  0.622353  0.545455  0.687796   \n",
              "1  0.389189  1.000000  0.356231  0.841085  0.181001  0.454545  0.262041   \n",
              "2  0.385135  0.581633  0.523644  0.372093  0.464920  0.454545  0.221357   \n",
              "3  0.271622  0.867347  0.279588  0.569767  0.159225  0.454545  0.435667   \n",
              "4  0.528378  0.663265  0.566620  0.441860  0.482468  0.363636  0.218771   \n",
              "\n",
              "       PAge        2B        BB       LOB      HR_P  \n",
              "0  0.405941  0.151402  0.465585  0.695640  0.418914  \n",
              "1  0.465347  0.191710  0.410213  0.400425  0.123964  \n",
              "2  0.475248  0.361411  0.440077  0.555105  0.189573  \n",
              "3  0.336634  0.078143  0.021753  0.387544  0.142855  \n",
              "4  0.455446  0.242631  0.540521  0.517147  0.233241  "
            ],
            "text/html": [
              "\n",
              "  <div id=\"df-46659fcb-ea1e-4e32-adb6-954d2cde8b64\">\n",
              "    <div class=\"colab-df-container\">\n",
              "      <div>\n",
              "<style scoped>\n",
              "    .dataframe tbody tr th:only-of-type {\n",
              "        vertical-align: middle;\n",
              "    }\n",
              "\n",
              "    .dataframe tbody tr th {\n",
              "        vertical-align: top;\n",
              "    }\n",
              "\n",
              "    .dataframe thead th {\n",
              "        text-align: right;\n",
              "    }\n",
              "</style>\n",
              "<table border=\"1\" class=\"dataframe\">\n",
              "  <thead>\n",
              "    <tr style=\"text-align: right;\">\n",
              "      <th></th>\n",
              "      <th>ERA+</th>\n",
              "      <th>OPS+</th>\n",
              "      <th>RA/G</th>\n",
              "      <th>1Run</th>\n",
              "      <th>SV</th>\n",
              "      <th>R/G</th>\n",
              "      <th>BB_P</th>\n",
              "      <th>#a-tA-S</th>\n",
              "      <th>Under500</th>\n",
              "      <th>DefEff</th>\n",
              "      <th>PA</th>\n",
              "      <th>Rtot</th>\n",
              "      <th>H_P</th>\n",
              "      <th>SOS</th>\n",
              "      <th>WP</th>\n",
              "      <th>PAge</th>\n",
              "      <th>2B</th>\n",
              "      <th>BB</th>\n",
              "      <th>LOB</th>\n",
              "      <th>HR_P</th>\n",
              "    </tr>\n",
              "  </thead>\n",
              "  <tbody>\n",
              "    <tr>\n",
              "      <th>0</th>\n",
              "      <td>0.173913</td>\n",
              "      <td>0.44</td>\n",
              "      <td>0.477612</td>\n",
              "      <td>0.559387</td>\n",
              "      <td>0.302094</td>\n",
              "      <td>0.339394</td>\n",
              "      <td>0.429180</td>\n",
              "      <td>0.45</td>\n",
              "      <td>0.402703</td>\n",
              "      <td>0.602041</td>\n",
              "      <td>0.594126</td>\n",
              "      <td>0.391473</td>\n",
              "      <td>0.622353</td>\n",
              "      <td>0.545455</td>\n",
              "      <td>0.687796</td>\n",
              "      <td>0.405941</td>\n",
              "      <td>0.151402</td>\n",
              "      <td>0.465585</td>\n",
              "      <td>0.695640</td>\n",
              "      <td>0.418914</td>\n",
              "    </tr>\n",
              "    <tr>\n",
              "      <th>1</th>\n",
              "      <td>0.637681</td>\n",
              "      <td>0.32</td>\n",
              "      <td>0.000000</td>\n",
              "      <td>0.390805</td>\n",
              "      <td>0.194577</td>\n",
              "      <td>0.133333</td>\n",
              "      <td>0.154861</td>\n",
              "      <td>0.65</td>\n",
              "      <td>0.389189</td>\n",
              "      <td>1.000000</td>\n",
              "      <td>0.356231</td>\n",
              "      <td>0.841085</td>\n",
              "      <td>0.181001</td>\n",
              "      <td>0.454545</td>\n",
              "      <td>0.262041</td>\n",
              "      <td>0.465347</td>\n",
              "      <td>0.191710</td>\n",
              "      <td>0.410213</td>\n",
              "      <td>0.400425</td>\n",
              "      <td>0.123964</td>\n",
              "    </tr>\n",
              "    <tr>\n",
              "      <th>2</th>\n",
              "      <td>0.231884</td>\n",
              "      <td>0.56</td>\n",
              "      <td>0.300995</td>\n",
              "      <td>0.641762</td>\n",
              "      <td>0.265422</td>\n",
              "      <td>0.363636</td>\n",
              "      <td>0.429180</td>\n",
              "      <td>0.75</td>\n",
              "      <td>0.385135</td>\n",
              "      <td>0.581633</td>\n",
              "      <td>0.523644</td>\n",
              "      <td>0.372093</td>\n",
              "      <td>0.464920</td>\n",
              "      <td>0.454545</td>\n",
              "      <td>0.221357</td>\n",
              "      <td>0.475248</td>\n",
              "      <td>0.361411</td>\n",
              "      <td>0.440077</td>\n",
              "      <td>0.555105</td>\n",
              "      <td>0.189573</td>\n",
              "    </tr>\n",
              "    <tr>\n",
              "      <th>3</th>\n",
              "      <td>0.275362</td>\n",
              "      <td>0.36</td>\n",
              "      <td>0.161692</td>\n",
              "      <td>0.618774</td>\n",
              "      <td>0.100396</td>\n",
              "      <td>0.000000</td>\n",
              "      <td>0.688073</td>\n",
              "      <td>0.40</td>\n",
              "      <td>0.271622</td>\n",
              "      <td>0.867347</td>\n",
              "      <td>0.279588</td>\n",
              "      <td>0.569767</td>\n",
              "      <td>0.159225</td>\n",
              "      <td>0.454545</td>\n",
              "      <td>0.435667</td>\n",
              "      <td>0.336634</td>\n",
              "      <td>0.078143</td>\n",
              "      <td>0.021753</td>\n",
              "      <td>0.387544</td>\n",
              "      <td>0.142855</td>\n",
              "    </tr>\n",
              "    <tr>\n",
              "      <th>4</th>\n",
              "      <td>0.594203</td>\n",
              "      <td>0.46</td>\n",
              "      <td>0.208955</td>\n",
              "      <td>0.392720</td>\n",
              "      <td>0.390013</td>\n",
              "      <td>0.442424</td>\n",
              "      <td>0.204570</td>\n",
              "      <td>0.60</td>\n",
              "      <td>0.528378</td>\n",
              "      <td>0.663265</td>\n",
              "      <td>0.566620</td>\n",
              "      <td>0.441860</td>\n",
              "      <td>0.482468</td>\n",
              "      <td>0.363636</td>\n",
              "      <td>0.218771</td>\n",
              "      <td>0.455446</td>\n",
              "      <td>0.242631</td>\n",
              "      <td>0.540521</td>\n",
              "      <td>0.517147</td>\n",
              "      <td>0.233241</td>\n",
              "    </tr>\n",
              "  </tbody>\n",
              "</table>\n",
              "</div>\n",
              "      <button class=\"colab-df-convert\" onclick=\"convertToInteractive('df-46659fcb-ea1e-4e32-adb6-954d2cde8b64')\"\n",
              "              title=\"Convert this dataframe to an interactive table.\"\n",
              "              style=\"display:none;\">\n",
              "        \n",
              "  <svg xmlns=\"http://www.w3.org/2000/svg\" height=\"24px\"viewBox=\"0 0 24 24\"\n",
              "       width=\"24px\">\n",
              "    <path d=\"M0 0h24v24H0V0z\" fill=\"none\"/>\n",
              "    <path d=\"M18.56 5.44l.94 2.06.94-2.06 2.06-.94-2.06-.94-.94-2.06-.94 2.06-2.06.94zm-11 1L8.5 8.5l.94-2.06 2.06-.94-2.06-.94L8.5 2.5l-.94 2.06-2.06.94zm10 10l.94 2.06.94-2.06 2.06-.94-2.06-.94-.94-2.06-.94 2.06-2.06.94z\"/><path d=\"M17.41 7.96l-1.37-1.37c-.4-.4-.92-.59-1.43-.59-.52 0-1.04.2-1.43.59L10.3 9.45l-7.72 7.72c-.78.78-.78 2.05 0 2.83L4 21.41c.39.39.9.59 1.41.59.51 0 1.02-.2 1.41-.59l7.78-7.78 2.81-2.81c.8-.78.8-2.07 0-2.86zM5.41 20L4 18.59l7.72-7.72 1.47 1.35L5.41 20z\"/>\n",
              "  </svg>\n",
              "      </button>\n",
              "      \n",
              "  <style>\n",
              "    .colab-df-container {\n",
              "      display:flex;\n",
              "      flex-wrap:wrap;\n",
              "      gap: 12px;\n",
              "    }\n",
              "\n",
              "    .colab-df-convert {\n",
              "      background-color: #E8F0FE;\n",
              "      border: none;\n",
              "      border-radius: 50%;\n",
              "      cursor: pointer;\n",
              "      display: none;\n",
              "      fill: #1967D2;\n",
              "      height: 32px;\n",
              "      padding: 0 0 0 0;\n",
              "      width: 32px;\n",
              "    }\n",
              "\n",
              "    .colab-df-convert:hover {\n",
              "      background-color: #E2EBFA;\n",
              "      box-shadow: 0px 1px 2px rgba(60, 64, 67, 0.3), 0px 1px 3px 1px rgba(60, 64, 67, 0.15);\n",
              "      fill: #174EA6;\n",
              "    }\n",
              "\n",
              "    [theme=dark] .colab-df-convert {\n",
              "      background-color: #3B4455;\n",
              "      fill: #D2E3FC;\n",
              "    }\n",
              "\n",
              "    [theme=dark] .colab-df-convert:hover {\n",
              "      background-color: #434B5C;\n",
              "      box-shadow: 0px 1px 3px 1px rgba(0, 0, 0, 0.15);\n",
              "      filter: drop-shadow(0px 1px 2px rgba(0, 0, 0, 0.3));\n",
              "      fill: #FFFFFF;\n",
              "    }\n",
              "  </style>\n",
              "\n",
              "      <script>\n",
              "        const buttonEl =\n",
              "          document.querySelector('#df-46659fcb-ea1e-4e32-adb6-954d2cde8b64 button.colab-df-convert');\n",
              "        buttonEl.style.display =\n",
              "          google.colab.kernel.accessAllowed ? 'block' : 'none';\n",
              "\n",
              "        async function convertToInteractive(key) {\n",
              "          const element = document.querySelector('#df-46659fcb-ea1e-4e32-adb6-954d2cde8b64');\n",
              "          const dataTable =\n",
              "            await google.colab.kernel.invokeFunction('convertToInteractive',\n",
              "                                                     [key], {});\n",
              "          if (!dataTable) return;\n",
              "\n",
              "          const docLinkHtml = 'Like what you see? Visit the ' +\n",
              "            '<a target=\"_blank\" href=https://colab.research.google.com/notebooks/data_table.ipynb>data table notebook</a>'\n",
              "            + ' to learn more about interactive tables.';\n",
              "          element.innerHTML = '';\n",
              "          dataTable['output_type'] = 'display_data';\n",
              "          await google.colab.output.renderOutput(dataTable, element);\n",
              "          const docLink = document.createElement('div');\n",
              "          docLink.innerHTML = docLinkHtml;\n",
              "          element.appendChild(docLink);\n",
              "        }\n",
              "      </script>\n",
              "    </div>\n",
              "  </div>\n",
              "  "
            ]
          },
          "metadata": {},
          "execution_count": 4
        }
      ]
    },
    {
      "cell_type": "code",
      "source": [
        "X_train, X_test, y_train, y_test = train_test_split(X, y, test_size=0.2, random_state=1, stratify=y)"
      ],
      "metadata": {
        "id": "KSSMf2yyyTBS"
      },
      "execution_count": null,
      "outputs": []
    },
    {
      "cell_type": "code",
      "source": [
        "penalty = ['none', 'l2', 'l1']\n",
        "solver = ['saga', 'liblinear', 'sag', 'lbfgs', 'newton-cg']"
      ],
      "metadata": {
        "id": "bLiNyoJUybqS"
      },
      "execution_count": null,
      "outputs": []
    },
    {
      "cell_type": "code",
      "source": [
        "train_scores, valid_scores = validation_curve(LogisticRegression(max_iter=5000, penalty='l1'), X_train, y_train, param_name=\"solver\", param_range=solver, scoring='f1', cv=10)\n",
        "train_scores_mean = np.mean(train_scores, axis=1)\n",
        "valid_scores_mean = np.mean(valid_scores, axis=1)\n",
        "\n",
        "print(valid_scores_mean)\n",
        "plt.title(\"Validation Curve with Logistic Regression\")\n",
        "plt.xlabel(\"Solver\")\n",
        "plt.ylabel(\"F1-Score\")\n",
        "plt.plot(solver, train_scores_mean, label=\"train F1\")\n",
        "plt.plot(solver, valid_scores_mean, label=\"validation F1\")\n",
        "\n",
        "plt.legend()\n",
        "plt.show()"
      ],
      "metadata": {
        "colab": {
          "base_uri": "https://localhost:8080/",
          "height": 312
        },
        "id": "tL2c7WcIyjxs",
        "outputId": "98b1a6c0-cae6-459c-88ff-c12098af0e4d"
      },
      "execution_count": null,
      "outputs": [
        {
          "output_type": "stream",
          "name": "stdout",
          "text": [
            "[0.88971155 0.88485759        nan        nan        nan]\n"
          ]
        },
        {
          "output_type": "display_data",
          "data": {
            "text/plain": [
              "<Figure size 432x288 with 1 Axes>"
            ],
            "image/png": "[encoded data removed]"
          },
          "metadata": {
            "needs_background": "light"
          }
        }
      ]
    },
    {
      "cell_type": "code",
      "source": [
        "train_scores, valid_scores = validation_curve(LogisticRegression(max_iter=5000, penalty='l1'), X_train, y_train, param_name=\"solver\", param_range=solver, scoring='f1', cv=10)\n",
        "train_scores_std = np.std(train_scores, axis=1)\n",
        "valid_scores_std = np.std(valid_scores, axis=1)\n",
        "\n",
        "print(valid_scores_std)\n",
        "plt.title(\"Validation Curve with Logistic Regression\")\n",
        "plt.xlabel(\"Solver\")\n",
        "plt.ylabel(\"Std. Deviation\")\n",
        "plt.plot(solver, train_scores_std, label=\"train std. deviation\")\n",
        "plt.plot(solver, valid_scores_std, label=\"validation std. deviation\")\n",
        "\n",
        "plt.legend()\n",
        "plt.show()"
      ],
      "metadata": {
        "colab": {
          "base_uri": "https://localhost:8080/",
          "height": 312
        },
        "id": "1OIydN5ixw0n",
        "outputId": "9ab7b815-d797-44c3-a263-8975a7b5e86d"
      },
      "execution_count": null,
      "outputs": [
        {
          "output_type": "stream",
          "name": "stdout",
          "text": [
            "[0.02874262 0.02695945        nan        nan        nan]\n"
          ]
        },
        {
          "output_type": "display_data",
          "data": {
            "text/plain": [
              "<Figure size 432x288 with 1 Axes>"
            ],
            "image/png": "[encoded data removed]"
          },
          "metadata": {
            "needs_background": "light"
          }
        }
      ]
    },
    {
      "cell_type": "code",
      "source": [
        "logreg = LogisticRegression(max_iter=5000, solver='saga', penalty='l1')\n",
        "logreg.fit(X_train, y_train)\n",
        "y_pred = logreg.predict(X_test)\n",
        "cm = metrics.confusion_matrix(y_test, y_pred)"
      ],
      "metadata": {
        "id": "wxIECQ5W56Y2"
      },
      "execution_count": null,
      "outputs": []
    },
    {
      "cell_type": "code",
      "source": [
        "plt.figure(figsize=(5,5))\n",
        "sns.heatmap(cm, annot=True, fmt=\".0f\", linewidths=.5, square = True, cmap = 'Blues_r');\n",
        "plt.ylabel('Actual label');\n",
        "plt.xlabel('Predicted label');\n",
        "all_sample_title = 'F1 Score: {0}'.format(round(f1_score(y_test, y_pred),3))\n",
        "plt.title(all_sample_title, size = 15);"
      ],
      "metadata": {
        "colab": {
          "base_uri": "https://localhost:8080/",
          "height": 313
        },
        "id": "qv-PZjY06K3Q",
        "outputId": "7016c6fe-64e4-4b74-f019-3504de0f906c"
      },
      "execution_count": null,
      "outputs": [
        {
          "output_type": "display_data",
          "data": {
            "text/plain": [
              "<Figure size 360x360 with 2 Axes>"
            ],
            "image/png": "[encoded data removed]"
          },
          "metadata": {
            "needs_background": "light"
          }
        }
      ]
    },
    {
      "cell_type": "code",
      "source": [
        "tn, fp, fn, tp=cm.ravel()\n",
        "print (\"TP: \", tp,\"\\n\" \"FP: \",fp,\"\\n\" \"TN: \", tn,\"\\n\" \"FN: \",fn)\n",
        "print()\n",
        "print(classification_report(y_test, y_pred))"
      ],
      "metadata": {
        "colab": {
          "base_uri": "https://localhost:8080/"
        },
        "id": "fJcWrtEJxhGW",
        "outputId": "8c2f357c-a126-4ed7-fad8-41f48b8ac75e"
      },
      "execution_count": null,
      "outputs": [
        {
          "output_type": "stream",
          "name": "stdout",
          "text": [
            "TP:  65 \n",
            "FP:  8 \n",
            "TN:  200 \n",
            "FN:  7\n",
            "\n",
            "              precision    recall  f1-score   support\n",
            "\n",
            "           0       0.97      0.96      0.96       208\n",
            "           1       0.89      0.90      0.90        72\n",
            "\n",
            "    accuracy                           0.95       280\n",
            "   macro avg       0.93      0.93      0.93       280\n",
            "weighted avg       0.95      0.95      0.95       280\n",
            "\n"
          ]
        }
      ]
    },
    {
      "cell_type": "markdown",
      "source": [
        "# ANOVA F-Test"
      ],
      "metadata": {
        "id": "gNd2p2zNxkvn"
      }
    },
    {
      "cell_type": "code",
      "source": [
        "X = featuresFC.iloc[:,0:20]\n",
        "y = featuresFC['Playoffs']"
      ],
      "metadata": {
        "id": "HgEjrqo_xm2Q"
      },
      "execution_count": null,
      "outputs": []
    },
    {
      "cell_type": "code",
      "source": [
        "featuresFC.iloc[:,0:20].head()"
      ],
      "metadata": {
        "colab": {
          "base_uri": "https://localhost:8080/",
          "height": 305
        },
        "id": "Mk4p05A0NB8X",
        "outputId": "dcb018a8-1a9c-4c71-9323-df2d0d0006f3"
      },
      "execution_count": null,
      "outputs": [
        {
          "output_type": "execute_result",
          "data": {
            "text/plain": [
              "       ERA+  OPS+      RA/G       R/G      1Run        SV       H_P  #a-tA-S  \\\n",
              "0  0.173913  0.44  0.477612  0.339394  0.559387  0.302094  0.622353     0.45   \n",
              "1  0.637681  0.32  0.000000  0.133333  0.390805  0.194577  0.181001     0.65   \n",
              "2  0.231884  0.56  0.300995  0.363636  0.641762  0.265422  0.464920     0.75   \n",
              "3  0.275362  0.36  0.161692  0.000000  0.618774  0.100396  0.159225     0.40   \n",
              "4  0.594203  0.46  0.208955  0.442424  0.392720  0.390013  0.482468     0.60   \n",
              "\n",
              "       BB_P        BB      Rtot    DefEff        PA  Under500        HR  \\\n",
              "0  0.429180  0.465585  0.391473  0.602041  0.594126  0.402703  0.380797   \n",
              "1  0.154861  0.410213  0.841085  1.000000  0.356231  0.389189  0.213898   \n",
              "2  0.429180  0.440077  0.372093  0.581633  0.523644  0.385135  0.303797   \n",
              "3  0.688073  0.021753  0.569767  0.867347  0.279588  0.271622  0.126699   \n",
              "4  0.204570  0.540521  0.441860  0.663265  0.566620  0.528378  0.335165   \n",
              "\n",
              "         SF         E        IP       SOS     IBB_P  \n",
              "0  0.358281  0.743973  0.678982  0.545455  0.495551  \n",
              "1  0.398932  0.349282  0.697641  0.454545  0.471563  \n",
              "2  0.538171  0.558574  0.710241  0.454545  0.441491  \n",
              "3  0.124424  0.444482  0.680184  0.454545  0.477531  \n",
              "4  0.443268  0.566802  0.752545  0.363636  0.501326  "
            ],
            "text/html": [
              "\n",
              "  <div id=\"df-91d1f68f-0a04-4905-be28-5959c24b552e\">\n",
              "    <div class=\"colab-df-container\">\n",
              "      <div>\n",
              "<style scoped>\n",
              "    .dataframe tbody tr th:only-of-type {\n",
              "        vertical-align: middle;\n",
              "    }\n",
              "\n",
              "    .dataframe tbody tr th {\n",
              "        vertical-align: top;\n",
              "    }\n",
              "\n",
              "    .dataframe thead th {\n",
              "        text-align: right;\n",
              "    }\n",
              "</style>\n",
              "<table border=\"1\" class=\"dataframe\">\n",
              "  <thead>\n",
              "    <tr style=\"text-align: right;\">\n",
              "      <th></th>\n",
              "      <th>ERA+</th>\n",
              "      <th>OPS+</th>\n",
              "      <th>RA/G</th>\n",
              "      <th>R/G</th>\n",
              "      <th>1Run</th>\n",
              "      <th>SV</th>\n",
              "      <th>H_P</th>\n",
              "      <th>#a-tA-S</th>\n",
              "      <th>BB_P</th>\n",
              "      <th>BB</th>\n",
              "      <th>Rtot</th>\n",
              "      <th>DefEff</th>\n",
              "      <th>PA</th>\n",
              "      <th>Under500</th>\n",
              "      <th>HR</th>\n",
              "      <th>SF</th>\n",
              "      <th>E</th>\n",
              "      <th>IP</th>\n",
              "      <th>SOS</th>\n",
              "      <th>IBB_P</th>\n",
              "    </tr>\n",
              "  </thead>\n",
              "  <tbody>\n",
              "    <tr>\n",
              "      <th>0</th>\n",
              "      <td>0.173913</td>\n",
              "      <td>0.44</td>\n",
              "      <td>0.477612</td>\n",
              "      <td>0.339394</td>\n",
              "      <td>0.559387</td>\n",
              "      <td>0.302094</td>\n",
              "      <td>0.622353</td>\n",
              "      <td>0.45</td>\n",
              "      <td>0.429180</td>\n",
              "      <td>0.465585</td>\n",
              "      <td>0.391473</td>\n",
              "      <td>0.602041</td>\n",
              "      <td>0.594126</td>\n",
              "      <td>0.402703</td>\n",
              "      <td>0.380797</td>\n",
              "      <td>0.358281</td>\n",
              "      <td>0.743973</td>\n",
              "      <td>0.678982</td>\n",
              "      <td>0.545455</td>\n",
              "      <td>0.495551</td>\n",
              "    </tr>\n",
              "    <tr>\n",
              "      <th>1</th>\n",
              "      <td>0.637681</td>\n",
              "      <td>0.32</td>\n",
              "      <td>0.000000</td>\n",
              "      <td>0.133333</td>\n",
              "      <td>0.390805</td>\n",
              "      <td>0.194577</td>\n",
              "      <td>0.181001</td>\n",
              "      <td>0.65</td>\n",
              "      <td>0.154861</td>\n",
              "      <td>0.410213</td>\n",
              "      <td>0.841085</td>\n",
              "      <td>1.000000</td>\n",
              "      <td>0.356231</td>\n",
              "      <td>0.389189</td>\n",
              "      <td>0.213898</td>\n",
              "      <td>0.398932</td>\n",
              "      <td>0.349282</td>\n",
              "      <td>0.697641</td>\n",
              "      <td>0.454545</td>\n",
              "      <td>0.471563</td>\n",
              "    </tr>\n",
              "    <tr>\n",
              "      <th>2</th>\n",
              "      <td>0.231884</td>\n",
              "      <td>0.56</td>\n",
              "      <td>0.300995</td>\n",
              "      <td>0.363636</td>\n",
              "      <td>0.641762</td>\n",
              "      <td>0.265422</td>\n",
              "      <td>0.464920</td>\n",
              "      <td>0.75</td>\n",
              "      <td>0.429180</td>\n",
              "      <td>0.440077</td>\n",
              "      <td>0.372093</td>\n",
              "      <td>0.581633</td>\n",
              "      <td>0.523644</td>\n",
              "      <td>0.385135</td>\n",
              "      <td>0.303797</td>\n",
              "      <td>0.538171</td>\n",
              "      <td>0.558574</td>\n",
              "      <td>0.710241</td>\n",
              "      <td>0.454545</td>\n",
              "      <td>0.441491</td>\n",
              "    </tr>\n",
              "    <tr>\n",
              "      <th>3</th>\n",
              "      <td>0.275362</td>\n",
              "      <td>0.36</td>\n",
              "      <td>0.161692</td>\n",
              "      <td>0.000000</td>\n",
              "      <td>0.618774</td>\n",
              "      <td>0.100396</td>\n",
              "      <td>0.159225</td>\n",
              "      <td>0.40</td>\n",
              "      <td>0.688073</td>\n",
              "      <td>0.021753</td>\n",
              "      <td>0.569767</td>\n",
              "      <td>0.867347</td>\n",
              "      <td>0.279588</td>\n",
              "      <td>0.271622</td>\n",
              "      <td>0.126699</td>\n",
              "      <td>0.124424</td>\n",
              "      <td>0.444482</td>\n",
              "      <td>0.680184</td>\n",
              "      <td>0.454545</td>\n",
              "      <td>0.477531</td>\n",
              "    </tr>\n",
              "    <tr>\n",
              "      <th>4</th>\n",
              "      <td>0.594203</td>\n",
              "      <td>0.46</td>\n",
              "      <td>0.208955</td>\n",
              "      <td>0.442424</td>\n",
              "      <td>0.392720</td>\n",
              "      <td>0.390013</td>\n",
              "      <td>0.482468</td>\n",
              "      <td>0.60</td>\n",
              "      <td>0.204570</td>\n",
              "      <td>0.540521</td>\n",
              "      <td>0.441860</td>\n",
              "      <td>0.663265</td>\n",
              "      <td>0.566620</td>\n",
              "      <td>0.528378</td>\n",
              "      <td>0.335165</td>\n",
              "      <td>0.443268</td>\n",
              "      <td>0.566802</td>\n",
              "      <td>0.752545</td>\n",
              "      <td>0.363636</td>\n",
              "      <td>0.501326</td>\n",
              "    </tr>\n",
              "  </tbody>\n",
              "</table>\n",
              "</div>\n",
              "      <button class=\"colab-df-convert\" onclick=\"convertToInteractive('df-91d1f68f-0a04-4905-be28-5959c24b552e')\"\n",
              "              title=\"Convert this dataframe to an interactive table.\"\n",
              "              style=\"display:none;\">\n",
              "        \n",
              "  <svg xmlns=\"http://www.w3.org/2000/svg\" height=\"24px\"viewBox=\"0 0 24 24\"\n",
              "       width=\"24px\">\n",
              "    <path d=\"M0 0h24v24H0V0z\" fill=\"none\"/>\n",
              "    <path d=\"M18.56 5.44l.94 2.06.94-2.06 2.06-.94-2.06-.94-.94-2.06-.94 2.06-2.06.94zm-11 1L8.5 8.5l.94-2.06 2.06-.94-2.06-.94L8.5 2.5l-.94 2.06-2.06.94zm10 10l.94 2.06.94-2.06 2.06-.94-2.06-.94-.94-2.06-.94 2.06-2.06.94z\"/><path d=\"M17.41 7.96l-1.37-1.37c-.4-.4-.92-.59-1.43-.59-.52 0-1.04.2-1.43.59L10.3 9.45l-7.72 7.72c-.78.78-.78 2.05 0 2.83L4 21.41c.39.39.9.59 1.41.59.51 0 1.02-.2 1.41-.59l7.78-7.78 2.81-2.81c.8-.78.8-2.07 0-2.86zM5.41 20L4 18.59l7.72-7.72 1.47 1.35L5.41 20z\"/>\n",
              "  </svg>\n",
              "      </button>\n",
              "      \n",
              "  <style>\n",
              "    .colab-df-container {\n",
              "      display:flex;\n",
              "      flex-wrap:wrap;\n",
              "      gap: 12px;\n",
              "    }\n",
              "\n",
              "    .colab-df-convert {\n",
              "      background-color: #E8F0FE;\n",
              "      border: none;\n",
              "      border-radius: 50%;\n",
              "      cursor: pointer;\n",
              "      display: none;\n",
              "      fill: #1967D2;\n",
              "      height: 32px;\n",
              "      padding: 0 0 0 0;\n",
              "      width: 32px;\n",
              "    }\n",
              "\n",
              "    .colab-df-convert:hover {\n",
              "      background-color: #E2EBFA;\n",
              "      box-shadow: 0px 1px 2px rgba(60, 64, 67, 0.3), 0px 1px 3px 1px rgba(60, 64, 67, 0.15);\n",
              "      fill: #174EA6;\n",
              "    }\n",
              "\n",
              "    [theme=dark] .colab-df-convert {\n",
              "      background-color: #3B4455;\n",
              "      fill: #D2E3FC;\n",
              "    }\n",
              "\n",
              "    [theme=dark] .colab-df-convert:hover {\n",
              "      background-color: #434B5C;\n",
              "      box-shadow: 0px 1px 3px 1px rgba(0, 0, 0, 0.15);\n",
              "      filter: drop-shadow(0px 1px 2px rgba(0, 0, 0, 0.3));\n",
              "      fill: #FFFFFF;\n",
              "    }\n",
              "  </style>\n",
              "\n",
              "      <script>\n",
              "        const buttonEl =\n",
              "          document.querySelector('#df-91d1f68f-0a04-4905-be28-5959c24b552e button.colab-df-convert');\n",
              "        buttonEl.style.display =\n",
              "          google.colab.kernel.accessAllowed ? 'block' : 'none';\n",
              "\n",
              "        async function convertToInteractive(key) {\n",
              "          const element = document.querySelector('#df-91d1f68f-0a04-4905-be28-5959c24b552e');\n",
              "          const dataTable =\n",
              "            await google.colab.kernel.invokeFunction('convertToInteractive',\n",
              "                                                     [key], {});\n",
              "          if (!dataTable) return;\n",
              "\n",
              "          const docLinkHtml = 'Like what you see? Visit the ' +\n",
              "            '<a target=\"_blank\" href=https://colab.research.google.com/notebooks/data_table.ipynb>data table notebook</a>'\n",
              "            + ' to learn more about interactive tables.';\n",
              "          element.innerHTML = '';\n",
              "          dataTable['output_type'] = 'display_data';\n",
              "          await google.colab.output.renderOutput(dataTable, element);\n",
              "          const docLink = document.createElement('div');\n",
              "          docLink.innerHTML = docLinkHtml;\n",
              "          element.appendChild(docLink);\n",
              "        }\n",
              "      </script>\n",
              "    </div>\n",
              "  </div>\n",
              "  "
            ]
          },
          "metadata": {},
          "execution_count": 17
        }
      ]
    },
    {
      "cell_type": "code",
      "source": [
        "X_train, X_test, y_train, y_test = train_test_split(X, y, test_size=0.2, random_state=1, stratify=y)"
      ],
      "metadata": {
        "id": "GpgIeRj-xsQY"
      },
      "execution_count": null,
      "outputs": []
    },
    {
      "cell_type": "code",
      "source": [
        "train_scores, valid_scores = validation_curve(LogisticRegression(max_iter=5000, penalty='l1'), X_train, y_train, param_name=\"solver\", param_range=solver, scoring='f1', cv=10)\n",
        "train_scores_mean = np.mean(train_scores, axis=1)\n",
        "valid_scores_mean = np.mean(valid_scores, axis=1)\n",
        "\n",
        "print(valid_scores_mean)\n",
        "plt.title(\"Validation Curve with Logistic Regression\")\n",
        "plt.xlabel(\"Solver\")\n",
        "plt.ylabel(\"F1-Score\")\n",
        "plt.plot(solver, train_scores_mean, label=\"train F1\")\n",
        "plt.plot(solver, valid_scores_mean, label=\"validation F1\")\n",
        "\n",
        "plt.legend()\n",
        "plt.show()"
      ],
      "metadata": {
        "colab": {
          "base_uri": "https://localhost:8080/",
          "height": 312
        },
        "id": "Mj1O5GigxuQo",
        "outputId": "c3195a06-e420-4500-ef86-60941e5b0958"
      },
      "execution_count": null,
      "outputs": [
        {
          "output_type": "stream",
          "name": "stdout",
          "text": [
            "[0.88376246 0.89191886        nan        nan        nan]\n"
          ]
        },
        {
          "output_type": "display_data",
          "data": {
            "text/plain": [
              "<Figure size 432x288 with 1 Axes>"
            ],
            "image/png": "[encoded data removed]"
          },
          "metadata": {
            "needs_background": "light"
          }
        }
      ]
    },
    {
      "cell_type": "code",
      "source": [
        "train_scores, valid_scores = validation_curve(LogisticRegression(max_iter=5000, penalty='l1'), X_train, y_train, param_name=\"solver\", param_range=solver, scoring='f1', cv=10)\n",
        "train_scores_std = np.std(train_scores, axis=1)\n",
        "valid_scores_std = np.std(valid_scores, axis=1)\n",
        "\n",
        "print(valid_scores_std)\n",
        "plt.title(\"Validation Curve with Logistic Regression\")\n",
        "plt.xlabel(\"Solver\")\n",
        "plt.ylabel(\"Std. Deviation\")\n",
        "plt.plot(solver, train_scores_std, label=\"train std. deviation\")\n",
        "plt.plot(solver, valid_scores_std, label=\"validation std. deviation\")\n",
        "\n",
        "plt.legend()\n",
        "plt.show()"
      ],
      "metadata": {
        "colab": {
          "base_uri": "https://localhost:8080/",
          "height": 312
        },
        "id": "b9kyUG7HycjG",
        "outputId": "ff4027fc-9b66-43ed-ffec-bcc689a4fc9f"
      },
      "execution_count": null,
      "outputs": [
        {
          "output_type": "stream",
          "name": "stdout",
          "text": [
            "[0.03908391 0.04097291        nan        nan        nan]\n"
          ]
        },
        {
          "output_type": "display_data",
          "data": {
            "text/plain": [
              "<Figure size 432x288 with 1 Axes>"
            ],
            "image/png": "[encoded data removed]"
          },
          "metadata": {
            "needs_background": "light"
          }
        }
      ]
    },
    {
      "cell_type": "code",
      "source": [
        "logreg = LogisticRegression(max_iter=5000, solver='saga', penalty='l1')\n",
        "logreg.fit(X_train, y_train)\n",
        "y_pred = logreg.predict(X_test)\n",
        "cm = metrics.confusion_matrix(y_test, y_pred)"
      ],
      "metadata": {
        "id": "3S8Oi7Ksyson"
      },
      "execution_count": null,
      "outputs": []
    },
    {
      "cell_type": "code",
      "source": [
        "plt.figure(figsize=(5,5))\n",
        "sns.heatmap(cm, annot=True, fmt=\".0f\", linewidths=.5, square = True, cmap = 'Blues_r');\n",
        "plt.ylabel('Actual label');\n",
        "plt.xlabel('Predicted label');\n",
        "all_sample_title = 'F1 Score: {0}'.format(round(f1_score(y_test, y_pred),3))\n",
        "plt.title(all_sample_title, size = 15);"
      ],
      "metadata": {
        "colab": {
          "base_uri": "https://localhost:8080/",
          "height": 312
        },
        "id": "H00GM9Jsyu6Q",
        "outputId": "1e926795-e256-4ea6-cbe4-6a4005ba606e"
      },
      "execution_count": null,
      "outputs": [
        {
          "output_type": "display_data",
          "data": {
            "text/plain": [
              "<Figure size 360x360 with 2 Axes>"
            ],
            "image/png": "[encoded data removed]"
          },
          "metadata": {
            "needs_background": "light"
          }
        }
      ]
    },
    {
      "cell_type": "code",
      "source": [
        "tn, fp, fn, tp=cm.ravel()\n",
        "print (\"TP: \", tp,\"\\n\" \"FP: \",fp,\"\\n\" \"TN: \", tn,\"\\n\" \"FN: \",fn)\n",
        "print()\n",
        "print(classification_report(y_test, y_pred))"
      ],
      "metadata": {
        "colab": {
          "base_uri": "https://localhost:8080/"
        },
        "id": "1leZogJ9yx4I",
        "outputId": "2e6cb6f0-be5e-408d-f070-caa8c5170e69"
      },
      "execution_count": null,
      "outputs": [
        {
          "output_type": "stream",
          "name": "stdout",
          "text": [
            "TP:  65 \n",
            "FP:  7 \n",
            "TN:  201 \n",
            "FN:  7\n",
            "\n",
            "              precision    recall  f1-score   support\n",
            "\n",
            "           0       0.97      0.97      0.97       208\n",
            "           1       0.90      0.90      0.90        72\n",
            "\n",
            "    accuracy                           0.95       280\n",
            "   macro avg       0.93      0.93      0.93       280\n",
            "weighted avg       0.95      0.95      0.95       280\n",
            "\n"
          ]
        }
      ]
    },
    {
      "cell_type": "markdown",
      "source": [
        "# Random Forest"
      ],
      "metadata": {
        "id": "gN9TvU8uy51i"
      }
    },
    {
      "cell_type": "code",
      "source": [
        "X = featuresRFC.iloc[:,0:20]\n",
        "y = featuresRFC['Playoffs']"
      ],
      "metadata": {
        "id": "yW6jNN-6y1pQ"
      },
      "execution_count": null,
      "outputs": []
    },
    {
      "cell_type": "code",
      "source": [
        "featuresRFC.iloc[:,0:20].head()"
      ],
      "metadata": {
        "colab": {
          "base_uri": "https://localhost:8080/",
          "height": 305
        },
        "id": "0Cq6rezlNmok",
        "outputId": "9e1b219c-44bb-4901-a667-9056ddc5f912"
      },
      "execution_count": null,
      "outputs": [
        {
          "output_type": "execute_result",
          "data": {
            "text/plain": [
              "       ERA+      RA/G      1Run       R/G  OPS+        SV       H_P      BB_P  \\\n",
              "0  0.173913  0.477612  0.559387  0.339394  0.44  0.302094  0.622353  0.429180   \n",
              "1  0.637681  0.000000  0.390805  0.133333  0.32  0.194577  0.181001  0.154861   \n",
              "2  0.231884  0.300995  0.641762  0.363636  0.56  0.265422  0.464920  0.429180   \n",
              "3  0.275362  0.161692  0.618774  0.000000  0.36  0.100396  0.159225  0.688073   \n",
              "4  0.594203  0.208955  0.392720  0.442424  0.46  0.390013  0.482468  0.204570   \n",
              "\n",
              "         BB    DefEff      Rtot        HR  #a-tA-S        IP       SOS  \\\n",
              "0  0.465585  0.602041  0.391473  0.380797     0.45  0.678982  0.545455   \n",
              "1  0.410213  1.000000  0.841085  0.213898     0.65  0.697641  0.454545   \n",
              "2  0.440077  0.581633  0.372093  0.303797     0.75  0.710241  0.454545   \n",
              "3  0.021753  0.867347  0.569767  0.126699     0.40  0.680184  0.454545   \n",
              "4  0.540521  0.663265  0.441860  0.335165     0.60  0.752545  0.363636   \n",
              "\n",
              "         PA      HR_P        SF        2B  Under500  \n",
              "0  0.594126  0.418914  0.358281  0.151402  0.402703  \n",
              "1  0.356231  0.123964  0.398932  0.191710  0.389189  \n",
              "2  0.523644  0.189573  0.538171  0.361411  0.385135  \n",
              "3  0.279588  0.142855  0.124424  0.078143  0.271622  \n",
              "4  0.566620  0.233241  0.443268  0.242631  0.528378  "
            ],
            "text/html": [
              "\n",
              "  <div id=\"df-91af7735-6801-41af-aa22-bafba71b582b\">\n",
              "    <div class=\"colab-df-container\">\n",
              "      <div>\n",
              "<style scoped>\n",
              "    .dataframe tbody tr th:only-of-type {\n",
              "        vertical-align: middle;\n",
              "    }\n",
              "\n",
              "    .dataframe tbody tr th {\n",
              "        vertical-align: top;\n",
              "    }\n",
              "\n",
              "    .dataframe thead th {\n",
              "        text-align: right;\n",
              "    }\n",
              "</style>\n",
              "<table border=\"1\" class=\"dataframe\">\n",
              "  <thead>\n",
              "    <tr style=\"text-align: right;\">\n",
              "      <th></th>\n",
              "      <th>ERA+</th>\n",
              "      <th>RA/G</th>\n",
              "      <th>1Run</th>\n",
              "      <th>R/G</th>\n",
              "      <th>OPS+</th>\n",
              "      <th>SV</th>\n",
              "      <th>H_P</th>\n",
              "      <th>BB_P</th>\n",
              "      <th>BB</th>\n",
              "      <th>DefEff</th>\n",
              "      <th>Rtot</th>\n",
              "      <th>HR</th>\n",
              "      <th>#a-tA-S</th>\n",
              "      <th>IP</th>\n",
              "      <th>SOS</th>\n",
              "      <th>PA</th>\n",
              "      <th>HR_P</th>\n",
              "      <th>SF</th>\n",
              "      <th>2B</th>\n",
              "      <th>Under500</th>\n",
              "    </tr>\n",
              "  </thead>\n",
              "  <tbody>\n",
              "    <tr>\n",
              "      <th>0</th>\n",
              "      <td>0.173913</td>\n",
              "      <td>0.477612</td>\n",
              "      <td>0.559387</td>\n",
              "      <td>0.339394</td>\n",
              "      <td>0.44</td>\n",
              "      <td>0.302094</td>\n",
              "      <td>0.622353</td>\n",
              "      <td>0.429180</td>\n",
              "      <td>0.465585</td>\n",
              "      <td>0.602041</td>\n",
              "      <td>0.391473</td>\n",
              "      <td>0.380797</td>\n",
              "      <td>0.45</td>\n",
              "      <td>0.678982</td>\n",
              "      <td>0.545455</td>\n",
              "      <td>0.594126</td>\n",
              "      <td>0.418914</td>\n",
              "      <td>0.358281</td>\n",
              "      <td>0.151402</td>\n",
              "      <td>0.402703</td>\n",
              "    </tr>\n",
              "    <tr>\n",
              "      <th>1</th>\n",
              "      <td>0.637681</td>\n",
              "      <td>0.000000</td>\n",
              "      <td>0.390805</td>\n",
              "      <td>0.133333</td>\n",
              "      <td>0.32</td>\n",
              "      <td>0.194577</td>\n",
              "      <td>0.181001</td>\n",
              "      <td>0.154861</td>\n",
              "      <td>0.410213</td>\n",
              "      <td>1.000000</td>\n",
              "      <td>0.841085</td>\n",
              "      <td>0.213898</td>\n",
              "      <td>0.65</td>\n",
              "      <td>0.697641</td>\n",
              "      <td>0.454545</td>\n",
              "      <td>0.356231</td>\n",
              "      <td>0.123964</td>\n",
              "      <td>0.398932</td>\n",
              "      <td>0.191710</td>\n",
              "      <td>0.389189</td>\n",
              "    </tr>\n",
              "    <tr>\n",
              "      <th>2</th>\n",
              "      <td>0.231884</td>\n",
              "      <td>0.300995</td>\n",
              "      <td>0.641762</td>\n",
              "      <td>0.363636</td>\n",
              "      <td>0.56</td>\n",
              "      <td>0.265422</td>\n",
              "      <td>0.464920</td>\n",
              "      <td>0.429180</td>\n",
              "      <td>0.440077</td>\n",
              "      <td>0.581633</td>\n",
              "      <td>0.372093</td>\n",
              "      <td>0.303797</td>\n",
              "      <td>0.75</td>\n",
              "      <td>0.710241</td>\n",
              "      <td>0.454545</td>\n",
              "      <td>0.523644</td>\n",
              "      <td>0.189573</td>\n",
              "      <td>0.538171</td>\n",
              "      <td>0.361411</td>\n",
              "      <td>0.385135</td>\n",
              "    </tr>\n",
              "    <tr>\n",
              "      <th>3</th>\n",
              "      <td>0.275362</td>\n",
              "      <td>0.161692</td>\n",
              "      <td>0.618774</td>\n",
              "      <td>0.000000</td>\n",
              "      <td>0.36</td>\n",
              "      <td>0.100396</td>\n",
              "      <td>0.159225</td>\n",
              "      <td>0.688073</td>\n",
              "      <td>0.021753</td>\n",
              "      <td>0.867347</td>\n",
              "      <td>0.569767</td>\n",
              "      <td>0.126699</td>\n",
              "      <td>0.40</td>\n",
              "      <td>0.680184</td>\n",
              "      <td>0.454545</td>\n",
              "      <td>0.279588</td>\n",
              "      <td>0.142855</td>\n",
              "      <td>0.124424</td>\n",
              "      <td>0.078143</td>\n",
              "      <td>0.271622</td>\n",
              "    </tr>\n",
              "    <tr>\n",
              "      <th>4</th>\n",
              "      <td>0.594203</td>\n",
              "      <td>0.208955</td>\n",
              "      <td>0.392720</td>\n",
              "      <td>0.442424</td>\n",
              "      <td>0.46</td>\n",
              "      <td>0.390013</td>\n",
              "      <td>0.482468</td>\n",
              "      <td>0.204570</td>\n",
              "      <td>0.540521</td>\n",
              "      <td>0.663265</td>\n",
              "      <td>0.441860</td>\n",
              "      <td>0.335165</td>\n",
              "      <td>0.60</td>\n",
              "      <td>0.752545</td>\n",
              "      <td>0.363636</td>\n",
              "      <td>0.566620</td>\n",
              "      <td>0.233241</td>\n",
              "      <td>0.443268</td>\n",
              "      <td>0.242631</td>\n",
              "      <td>0.528378</td>\n",
              "    </tr>\n",
              "  </tbody>\n",
              "</table>\n",
              "</div>\n",
              "      <button class=\"colab-df-convert\" onclick=\"convertToInteractive('df-91af7735-6801-41af-aa22-bafba71b582b')\"\n",
              "              title=\"Convert this dataframe to an interactive table.\"\n",
              "              style=\"display:none;\">\n",
              "        \n",
              "  <svg xmlns=\"http://www.w3.org/2000/svg\" height=\"24px\"viewBox=\"0 0 24 24\"\n",
              "       width=\"24px\">\n",
              "    <path d=\"M0 0h24v24H0V0z\" fill=\"none\"/>\n",
              "    <path d=\"M18.56 5.44l.94 2.06.94-2.06 2.06-.94-2.06-.94-.94-2.06-.94 2.06-2.06.94zm-11 1L8.5 8.5l.94-2.06 2.06-.94-2.06-.94L8.5 2.5l-.94 2.06-2.06.94zm10 10l.94 2.06.94-2.06 2.06-.94-2.06-.94-.94-2.06-.94 2.06-2.06.94z\"/><path d=\"M17.41 7.96l-1.37-1.37c-.4-.4-.92-.59-1.43-.59-.52 0-1.04.2-1.43.59L10.3 9.45l-7.72 7.72c-.78.78-.78 2.05 0 2.83L4 21.41c.39.39.9.59 1.41.59.51 0 1.02-.2 1.41-.59l7.78-7.78 2.81-2.81c.8-.78.8-2.07 0-2.86zM5.41 20L4 18.59l7.72-7.72 1.47 1.35L5.41 20z\"/>\n",
              "  </svg>\n",
              "      </button>\n",
              "      \n",
              "  <style>\n",
              "    .colab-df-container {\n",
              "      display:flex;\n",
              "      flex-wrap:wrap;\n",
              "      gap: 12px;\n",
              "    }\n",
              "\n",
              "    .colab-df-convert {\n",
              "      background-color: #E8F0FE;\n",
              "      border: none;\n",
              "      border-radius: 50%;\n",
              "      cursor: pointer;\n",
              "      display: none;\n",
              "      fill: #1967D2;\n",
              "      height: 32px;\n",
              "      padding: 0 0 0 0;\n",
              "      width: 32px;\n",
              "    }\n",
              "\n",
              "    .colab-df-convert:hover {\n",
              "      background-color: #E2EBFA;\n",
              "      box-shadow: 0px 1px 2px rgba(60, 64, 67, 0.3), 0px 1px 3px 1px rgba(60, 64, 67, 0.15);\n",
              "      fill: #174EA6;\n",
              "    }\n",
              "\n",
              "    [theme=dark] .colab-df-convert {\n",
              "      background-color: #3B4455;\n",
              "      fill: #D2E3FC;\n",
              "    }\n",
              "\n",
              "    [theme=dark] .colab-df-convert:hover {\n",
              "      background-color: #434B5C;\n",
              "      box-shadow: 0px 1px 3px 1px rgba(0, 0, 0, 0.15);\n",
              "      filter: drop-shadow(0px 1px 2px rgba(0, 0, 0, 0.3));\n",
              "      fill: #FFFFFF;\n",
              "    }\n",
              "  </style>\n",
              "\n",
              "      <script>\n",
              "        const buttonEl =\n",
              "          document.querySelector('#df-91af7735-6801-41af-aa22-bafba71b582b button.colab-df-convert');\n",
              "        buttonEl.style.display =\n",
              "          google.colab.kernel.accessAllowed ? 'block' : 'none';\n",
              "\n",
              "        async function convertToInteractive(key) {\n",
              "          const element = document.querySelector('#df-91af7735-6801-41af-aa22-bafba71b582b');\n",
              "          const dataTable =\n",
              "            await google.colab.kernel.invokeFunction('convertToInteractive',\n",
              "                                                     [key], {});\n",
              "          if (!dataTable) return;\n",
              "\n",
              "          const docLinkHtml = 'Like what you see? Visit the ' +\n",
              "            '<a target=\"_blank\" href=https://colab.research.google.com/notebooks/data_table.ipynb>data table notebook</a>'\n",
              "            + ' to learn more about interactive tables.';\n",
              "          element.innerHTML = '';\n",
              "          dataTable['output_type'] = 'display_data';\n",
              "          await google.colab.output.renderOutput(dataTable, element);\n",
              "          const docLink = document.createElement('div');\n",
              "          docLink.innerHTML = docLinkHtml;\n",
              "          element.appendChild(docLink);\n",
              "        }\n",
              "      </script>\n",
              "    </div>\n",
              "  </div>\n",
              "  "
            ]
          },
          "metadata": {},
          "execution_count": 28
        }
      ]
    },
    {
      "cell_type": "code",
      "source": [
        "X_train, X_test, y_train, y_test = train_test_split(X, y, test_size=0.2, random_state=1, stratify=y)"
      ],
      "metadata": {
        "id": "K0pCxTlgy9g7"
      },
      "execution_count": null,
      "outputs": []
    },
    {
      "cell_type": "code",
      "source": [
        "train_scores, valid_scores = validation_curve(LogisticRegression(max_iter=5000, penalty='l1'), X_train, y_train, param_name=\"solver\", param_range=solver, scoring='f1', cv=10)\n",
        "train_scores_mean = np.mean(train_scores, axis=1)\n",
        "valid_scores_mean = np.mean(valid_scores, axis=1)\n",
        "\n",
        "print(valid_scores_mean)\n",
        "plt.title(\"Validation Curve with Logistic Regression\")\n",
        "plt.xlabel(\"Solver\")\n",
        "plt.ylabel(\"F1-Score\")\n",
        "plt.plot(solver, train_scores_mean, label=\"train F1\")\n",
        "plt.plot(solver, valid_scores_mean, label=\"validation F1\")\n",
        "\n",
        "plt.legend()\n",
        "plt.show()"
      ],
      "metadata": {
        "colab": {
          "base_uri": "https://localhost:8080/",
          "height": 312
        },
        "id": "-KoJxGX5y_c1",
        "outputId": "069b6d2c-0971-40b4-bcfb-ca4a9c914606"
      },
      "execution_count": null,
      "outputs": [
        {
          "output_type": "stream",
          "name": "stdout",
          "text": [
            "[0.88523787 0.88888916        nan        nan        nan]\n"
          ]
        },
        {
          "output_type": "display_data",
          "data": {
            "text/plain": [
              "<Figure size 432x288 with 1 Axes>"
            ],
            "image/png": "[encoded data removed]"
          },
          "metadata": {
            "needs_background": "light"
          }
        }
      ]
    },
    {
      "cell_type": "code",
      "source": [
        "train_scores, valid_scores = validation_curve(LogisticRegression(max_iter=5000, penalty='l1'), X_train, y_train, param_name=\"solver\", param_range=solver, scoring='f1', cv=10)\n",
        "train_scores_std = np.std(train_scores, axis=1)\n",
        "valid_scores_std = np.std(valid_scores, axis=1)\n",
        "\n",
        "print(valid_scores_std)\n",
        "plt.title(\"Validation Curve with Logistic Regression\")\n",
        "plt.xlabel(\"Solver\")\n",
        "plt.ylabel(\"Std. Deviation\")\n",
        "plt.plot(solver, train_scores_std, label=\"train std. deviation\")\n",
        "plt.plot(solver, valid_scores_std, label=\"validation std. deviation\")\n",
        "\n",
        "plt.legend()\n",
        "plt.show()"
      ],
      "metadata": {
        "colab": {
          "base_uri": "https://localhost:8080/",
          "height": 312
        },
        "id": "8XvlaXdFzCRD",
        "outputId": "f2924879-21e4-408d-b488-0d40d24ce487"
      },
      "execution_count": null,
      "outputs": [
        {
          "output_type": "stream",
          "name": "stdout",
          "text": [
            "[0.03938935 0.02765877        nan        nan        nan]\n"
          ]
        },
        {
          "output_type": "display_data",
          "data": {
            "text/plain": [
              "<Figure size 432x288 with 1 Axes>"
            ],
            "image/png": "[encoded data removed]"
          },
          "metadata": {
            "needs_background": "light"
          }
        }
      ]
    },
    {
      "cell_type": "code",
      "source": [
        "logreg = LogisticRegression(max_iter=5000, solver='liblinear', penalty='l1')\n",
        "logreg.fit(X_train, y_train)\n",
        "y_pred = logreg.predict(X_test)\n",
        "cm = metrics.confusion_matrix(y_test, y_pred)"
      ],
      "metadata": {
        "id": "j-a4M8vpzFeT"
      },
      "execution_count": null,
      "outputs": []
    },
    {
      "cell_type": "code",
      "source": [
        "plt.figure(figsize=(5,5))\n",
        "sns.heatmap(cm, annot=True, fmt=\".0f\", linewidths=.5, square = True, cmap = 'Blues_r');\n",
        "plt.ylabel('Actual label');\n",
        "plt.xlabel('Predicted label');\n",
        "all_sample_title = 'F1 Score: {0}'.format(round(f1_score(y_test, y_pred),3))\n",
        "plt.title(all_sample_title, size = 15);"
      ],
      "metadata": {
        "colab": {
          "base_uri": "https://localhost:8080/",
          "height": 309
        },
        "id": "7CCa79pyzImb",
        "outputId": "ba2998b9-983a-4129-f058-6a029cc0a6d2"
      },
      "execution_count": null,
      "outputs": [
        {
          "output_type": "display_data",
          "data": {
            "text/plain": [
              "<Figure size 360x360 with 2 Axes>"
            ],
            "image/png": "[encoded data removed]"
          },
          "metadata": {
            "needs_background": "light"
          }
        }
      ]
    },
    {
      "cell_type": "code",
      "source": [
        "tn, fp, fn, tp=cm.ravel()\n",
        "print (\"TP: \", tp,\"\\n\" \"FP: \",fp,\"\\n\" \"TN: \", tn,\"\\n\" \"FN: \",fn)\n",
        "print()\n",
        "print(classification_report(y_test, y_pred))"
      ],
      "metadata": {
        "colab": {
          "base_uri": "https://localhost:8080/"
        },
        "id": "_klNvvzDzLHz",
        "outputId": "f90baef0-936d-440a-916d-33cf0df24868"
      },
      "execution_count": null,
      "outputs": [
        {
          "output_type": "stream",
          "name": "stdout",
          "text": [
            "TP:  65 \n",
            "FP:  9 \n",
            "TN:  199 \n",
            "FN:  7\n",
            "\n",
            "              precision    recall  f1-score   support\n",
            "\n",
            "           0       0.97      0.96      0.96       208\n",
            "           1       0.88      0.90      0.89        72\n",
            "\n",
            "    accuracy                           0.94       280\n",
            "   macro avg       0.92      0.93      0.93       280\n",
            "weighted avg       0.94      0.94      0.94       280\n",
            "\n"
          ]
        }
      ]
    }
  ]
}
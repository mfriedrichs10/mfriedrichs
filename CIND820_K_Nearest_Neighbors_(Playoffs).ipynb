{
  "nbformat": 4,
  "nbformat_minor": 0,
  "metadata": {
    "colab": {
      "provenance": []
    },
    "kernelspec": {
      "name": "python3",
      "display_name": "Python 3"
    },
    "language_info": {
      "name": "python"
    }
  },
  "cells": [
    {
      "cell_type": "code",
      "execution_count": null,
      "metadata": {
        "id": "WwimQ46BPSB5"
      },
      "outputs": [],
      "source": [
        "import pandas as pd\n",
        "import numpy as np\n",
        "import matplotlib.pyplot as plt\n",
        "import seaborn as sns\n",
        "from sklearn.model_selection import train_test_split, StratifiedKFold, cross_val_predict\n",
        "from sklearn.metrics import confusion_matrix, classification_report, accuracy_score, f1_score\n",
        "from sklearn.neighbors import KNeighborsClassifier\n",
        "from sklearn.model_selection import KFold, cross_val_score, validation_curve, StratifiedShuffleSplit\n",
        "from sklearn import metrics"
      ]
    },
    {
      "cell_type": "code",
      "source": [
        "featuresMIC = pd.read_csv('featuresRankedMIC_550.csv')\n",
        "featuresFC = pd.read_csv('featuresRankedFC_550.csv')\n",
        "featuresRFC = pd.read_csv('featuresRankedRFC_550.csv')"
      ],
      "metadata": {
        "id": "aaObMtbVPWnn"
      },
      "execution_count": null,
      "outputs": []
    },
    {
      "cell_type": "markdown",
      "source": [
        "# Mutual Information Gain"
      ],
      "metadata": {
        "id": "t077YiVubh9H"
      }
    },
    {
      "cell_type": "code",
      "source": [
        "X = featuresMIC.iloc[:,0:20]\n",
        "y = featuresMIC['Playoffs']"
      ],
      "metadata": {
        "id": "-DbxRH-oPicH"
      },
      "execution_count": null,
      "outputs": []
    },
    {
      "cell_type": "code",
      "source": [
        "featuresMIC.iloc[:,0:20].head()"
      ],
      "metadata": {
        "colab": {
          "base_uri": "https://localhost:8080/",
          "height": 305
        },
        "id": "kuxuUhJUKw1N",
        "outputId": "0a4b5a49-e079-4789-ea2a-f14ddb1bb3dd"
      },
      "execution_count": null,
      "outputs": [
        {
          "output_type": "execute_result",
          "data": {
            "text/plain": [
              "       ERA+  OPS+      RA/G      1Run        SV       R/G      BB_P  #a-tA-S  \\\n",
              "0  0.173913  0.44  0.477612  0.559387  0.302094  0.339394  0.429180     0.45   \n",
              "1  0.637681  0.32  0.000000  0.390805  0.194577  0.133333  0.154861     0.65   \n",
              "2  0.231884  0.56  0.300995  0.641762  0.265422  0.363636  0.429180     0.75   \n",
              "3  0.275362  0.36  0.161692  0.618774  0.100396  0.000000  0.688073     0.40   \n",
              "4  0.594203  0.46  0.208955  0.392720  0.390013  0.442424  0.204570     0.60   \n",
              "\n",
              "   Under500    DefEff        PA      Rtot       H_P       SOS        WP  \\\n",
              "0  0.402703  0.602041  0.594126  0.391473  0.622353  0.545455  0.687796   \n",
              "1  0.389189  1.000000  0.356231  0.841085  0.181001  0.454545  0.262041   \n",
              "2  0.385135  0.581633  0.523644  0.372093  0.464920  0.454545  0.221357   \n",
              "3  0.271622  0.867347  0.279588  0.569767  0.159225  0.454545  0.435667   \n",
              "4  0.528378  0.663265  0.566620  0.441860  0.482468  0.363636  0.218771   \n",
              "\n",
              "       PAge        2B        BB       LOB      HR_P  \n",
              "0  0.405941  0.151402  0.465585  0.695640  0.418914  \n",
              "1  0.465347  0.191710  0.410213  0.400425  0.123964  \n",
              "2  0.475248  0.361411  0.440077  0.555105  0.189573  \n",
              "3  0.336634  0.078143  0.021753  0.387544  0.142855  \n",
              "4  0.455446  0.242631  0.540521  0.517147  0.233241  "
            ],
            "text/html": [
              "\n",
              "  <div id=\"df-c6bbb5f5-60e7-4fb0-961e-3d493f239932\">\n",
              "    <div class=\"colab-df-container\">\n",
              "      <div>\n",
              "<style scoped>\n",
              "    .dataframe tbody tr th:only-of-type {\n",
              "        vertical-align: middle;\n",
              "    }\n",
              "\n",
              "    .dataframe tbody tr th {\n",
              "        vertical-align: top;\n",
              "    }\n",
              "\n",
              "    .dataframe thead th {\n",
              "        text-align: right;\n",
              "    }\n",
              "</style>\n",
              "<table border=\"1\" class=\"dataframe\">\n",
              "  <thead>\n",
              "    <tr style=\"text-align: right;\">\n",
              "      <th></th>\n",
              "      <th>ERA+</th>\n",
              "      <th>OPS+</th>\n",
              "      <th>RA/G</th>\n",
              "      <th>1Run</th>\n",
              "      <th>SV</th>\n",
              "      <th>R/G</th>\n",
              "      <th>BB_P</th>\n",
              "      <th>#a-tA-S</th>\n",
              "      <th>Under500</th>\n",
              "      <th>DefEff</th>\n",
              "      <th>PA</th>\n",
              "      <th>Rtot</th>\n",
              "      <th>H_P</th>\n",
              "      <th>SOS</th>\n",
              "      <th>WP</th>\n",
              "      <th>PAge</th>\n",
              "      <th>2B</th>\n",
              "      <th>BB</th>\n",
              "      <th>LOB</th>\n",
              "      <th>HR_P</th>\n",
              "    </tr>\n",
              "  </thead>\n",
              "  <tbody>\n",
              "    <tr>\n",
              "      <th>0</th>\n",
              "      <td>0.173913</td>\n",
              "      <td>0.44</td>\n",
              "      <td>0.477612</td>\n",
              "      <td>0.559387</td>\n",
              "      <td>0.302094</td>\n",
              "      <td>0.339394</td>\n",
              "      <td>0.429180</td>\n",
              "      <td>0.45</td>\n",
              "      <td>0.402703</td>\n",
              "      <td>0.602041</td>\n",
              "      <td>0.594126</td>\n",
              "      <td>0.391473</td>\n",
              "      <td>0.622353</td>\n",
              "      <td>0.545455</td>\n",
              "      <td>0.687796</td>\n",
              "      <td>0.405941</td>\n",
              "      <td>0.151402</td>\n",
              "      <td>0.465585</td>\n",
              "      <td>0.695640</td>\n",
              "      <td>0.418914</td>\n",
              "    </tr>\n",
              "    <tr>\n",
              "      <th>1</th>\n",
              "      <td>0.637681</td>\n",
              "      <td>0.32</td>\n",
              "      <td>0.000000</td>\n",
              "      <td>0.390805</td>\n",
              "      <td>0.194577</td>\n",
              "      <td>0.133333</td>\n",
              "      <td>0.154861</td>\n",
              "      <td>0.65</td>\n",
              "      <td>0.389189</td>\n",
              "      <td>1.000000</td>\n",
              "      <td>0.356231</td>\n",
              "      <td>0.841085</td>\n",
              "      <td>0.181001</td>\n",
              "      <td>0.454545</td>\n",
              "      <td>0.262041</td>\n",
              "      <td>0.465347</td>\n",
              "      <td>0.191710</td>\n",
              "      <td>0.410213</td>\n",
              "      <td>0.400425</td>\n",
              "      <td>0.123964</td>\n",
              "    </tr>\n",
              "    <tr>\n",
              "      <th>2</th>\n",
              "      <td>0.231884</td>\n",
              "      <td>0.56</td>\n",
              "      <td>0.300995</td>\n",
              "      <td>0.641762</td>\n",
              "      <td>0.265422</td>\n",
              "      <td>0.363636</td>\n",
              "      <td>0.429180</td>\n",
              "      <td>0.75</td>\n",
              "      <td>0.385135</td>\n",
              "      <td>0.581633</td>\n",
              "      <td>0.523644</td>\n",
              "      <td>0.372093</td>\n",
              "      <td>0.464920</td>\n",
              "      <td>0.454545</td>\n",
              "      <td>0.221357</td>\n",
              "      <td>0.475248</td>\n",
              "      <td>0.361411</td>\n",
              "      <td>0.440077</td>\n",
              "      <td>0.555105</td>\n",
              "      <td>0.189573</td>\n",
              "    </tr>\n",
              "    <tr>\n",
              "      <th>3</th>\n",
              "      <td>0.275362</td>\n",
              "      <td>0.36</td>\n",
              "      <td>0.161692</td>\n",
              "      <td>0.618774</td>\n",
              "      <td>0.100396</td>\n",
              "      <td>0.000000</td>\n",
              "      <td>0.688073</td>\n",
              "      <td>0.40</td>\n",
              "      <td>0.271622</td>\n",
              "      <td>0.867347</td>\n",
              "      <td>0.279588</td>\n",
              "      <td>0.569767</td>\n",
              "      <td>0.159225</td>\n",
              "      <td>0.454545</td>\n",
              "      <td>0.435667</td>\n",
              "      <td>0.336634</td>\n",
              "      <td>0.078143</td>\n",
              "      <td>0.021753</td>\n",
              "      <td>0.387544</td>\n",
              "      <td>0.142855</td>\n",
              "    </tr>\n",
              "    <tr>\n",
              "      <th>4</th>\n",
              "      <td>0.594203</td>\n",
              "      <td>0.46</td>\n",
              "      <td>0.208955</td>\n",
              "      <td>0.392720</td>\n",
              "      <td>0.390013</td>\n",
              "      <td>0.442424</td>\n",
              "      <td>0.204570</td>\n",
              "      <td>0.60</td>\n",
              "      <td>0.528378</td>\n",
              "      <td>0.663265</td>\n",
              "      <td>0.566620</td>\n",
              "      <td>0.441860</td>\n",
              "      <td>0.482468</td>\n",
              "      <td>0.363636</td>\n",
              "      <td>0.218771</td>\n",
              "      <td>0.455446</td>\n",
              "      <td>0.242631</td>\n",
              "      <td>0.540521</td>\n",
              "      <td>0.517147</td>\n",
              "      <td>0.233241</td>\n",
              "    </tr>\n",
              "  </tbody>\n",
              "</table>\n",
              "</div>\n",
              "      <button class=\"colab-df-convert\" onclick=\"convertToInteractive('df-c6bbb5f5-60e7-4fb0-961e-3d493f239932')\"\n",
              "              title=\"Convert this dataframe to an interactive table.\"\n",
              "              style=\"display:none;\">\n",
              "        \n",
              "  <svg xmlns=\"http://www.w3.org/2000/svg\" height=\"24px\"viewBox=\"0 0 24 24\"\n",
              "       width=\"24px\">\n",
              "    <path d=\"M0 0h24v24H0V0z\" fill=\"none\"/>\n",
              "    <path d=\"M18.56 5.44l.94 2.06.94-2.06 2.06-.94-2.06-.94-.94-2.06-.94 2.06-2.06.94zm-11 1L8.5 8.5l.94-2.06 2.06-.94-2.06-.94L8.5 2.5l-.94 2.06-2.06.94zm10 10l.94 2.06.94-2.06 2.06-.94-2.06-.94-.94-2.06-.94 2.06-2.06.94z\"/><path d=\"M17.41 7.96l-1.37-1.37c-.4-.4-.92-.59-1.43-.59-.52 0-1.04.2-1.43.59L10.3 9.45l-7.72 7.72c-.78.78-.78 2.05 0 2.83L4 21.41c.39.39.9.59 1.41.59.51 0 1.02-.2 1.41-.59l7.78-7.78 2.81-2.81c.8-.78.8-2.07 0-2.86zM5.41 20L4 18.59l7.72-7.72 1.47 1.35L5.41 20z\"/>\n",
              "  </svg>\n",
              "      </button>\n",
              "      \n",
              "  <style>\n",
              "    .colab-df-container {\n",
              "      display:flex;\n",
              "      flex-wrap:wrap;\n",
              "      gap: 12px;\n",
              "    }\n",
              "\n",
              "    .colab-df-convert {\n",
              "      background-color: #E8F0FE;\n",
              "      border: none;\n",
              "      border-radius: 50%;\n",
              "      cursor: pointer;\n",
              "      display: none;\n",
              "      fill: #1967D2;\n",
              "      height: 32px;\n",
              "      padding: 0 0 0 0;\n",
              "      width: 32px;\n",
              "    }\n",
              "\n",
              "    .colab-df-convert:hover {\n",
              "      background-color: #E2EBFA;\n",
              "      box-shadow: 0px 1px 2px rgba(60, 64, 67, 0.3), 0px 1px 3px 1px rgba(60, 64, 67, 0.15);\n",
              "      fill: #174EA6;\n",
              "    }\n",
              "\n",
              "    [theme=dark] .colab-df-convert {\n",
              "      background-color: #3B4455;\n",
              "      fill: #D2E3FC;\n",
              "    }\n",
              "\n",
              "    [theme=dark] .colab-df-convert:hover {\n",
              "      background-color: #434B5C;\n",
              "      box-shadow: 0px 1px 3px 1px rgba(0, 0, 0, 0.15);\n",
              "      filter: drop-shadow(0px 1px 2px rgba(0, 0, 0, 0.3));\n",
              "      fill: #FFFFFF;\n",
              "    }\n",
              "  </style>\n",
              "\n",
              "      <script>\n",
              "        const buttonEl =\n",
              "          document.querySelector('#df-c6bbb5f5-60e7-4fb0-961e-3d493f239932 button.colab-df-convert');\n",
              "        buttonEl.style.display =\n",
              "          google.colab.kernel.accessAllowed ? 'block' : 'none';\n",
              "\n",
              "        async function convertToInteractive(key) {\n",
              "          const element = document.querySelector('#df-c6bbb5f5-60e7-4fb0-961e-3d493f239932');\n",
              "          const dataTable =\n",
              "            await google.colab.kernel.invokeFunction('convertToInteractive',\n",
              "                                                     [key], {});\n",
              "          if (!dataTable) return;\n",
              "\n",
              "          const docLinkHtml = 'Like what you see? Visit the ' +\n",
              "            '<a target=\"_blank\" href=https://colab.research.google.com/notebooks/data_table.ipynb>data table notebook</a>'\n",
              "            + ' to learn more about interactive tables.';\n",
              "          element.innerHTML = '';\n",
              "          dataTable['output_type'] = 'display_data';\n",
              "          await google.colab.output.renderOutput(dataTable, element);\n",
              "          const docLink = document.createElement('div');\n",
              "          docLink.innerHTML = docLinkHtml;\n",
              "          element.appendChild(docLink);\n",
              "        }\n",
              "      </script>\n",
              "    </div>\n",
              "  </div>\n",
              "  "
            ]
          },
          "metadata": {},
          "execution_count": 4
        }
      ]
    },
    {
      "cell_type": "code",
      "source": [
        "X_train, X_test, y_train, y_test = train_test_split(X, y, test_size=0.2, random_state=1, stratify=y)"
      ],
      "metadata": {
        "id": "UvHSITEdPiWw"
      },
      "execution_count": null,
      "outputs": []
    },
    {
      "cell_type": "code",
      "source": [
        "KNNmetrics = ['manhattan','minkowski','euclidean']\n",
        "n_neighbors = np.arange(1,30,2)"
      ],
      "metadata": {
        "id": "7JsnjSAYPnxp"
      },
      "execution_count": null,
      "outputs": []
    },
    {
      "cell_type": "code",
      "source": [
        "train_scores, valid_scores = validation_curve(KNeighborsClassifier(), X_train, y_train, param_name=\"metric\", param_range=KNNmetrics, scoring='f1', cv=10)\n",
        "train_scores_mean = np.mean(train_scores, axis=1)\n",
        "valid_scores_mean = np.mean(valid_scores, axis=1)\n",
        "\n",
        "print(valid_scores_mean)\n",
        "plt.title(\"Validation Curve with K Nearest Neighbors\")\n",
        "plt.xlabel(\"Metric\")\n",
        "plt.ylabel(\"F1 Score\")\n",
        "plt.plot(KNNmetrics, train_scores_mean, label=\"train F1\")\n",
        "plt.plot(KNNmetrics, valid_scores_mean, label=\"validation F1\")\n",
        "\n",
        "plt.legend()\n",
        "plt.show()"
      ],
      "metadata": {
        "colab": {
          "base_uri": "https://localhost:8080/",
          "height": 312
        },
        "id": "G1pdtGYJPpd5",
        "outputId": "6a1ee4a3-75bf-49dc-eba1-27e8c5b3fd9f"
      },
      "execution_count": null,
      "outputs": [
        {
          "output_type": "stream",
          "name": "stdout",
          "text": [
            "[0.78367449 0.76993909 0.76993909]\n"
          ]
        },
        {
          "output_type": "display_data",
          "data": {
            "text/plain": [
              "<Figure size 432x288 with 1 Axes>"
            ],
            "image/png": "[encoded data removed]"
          },
          "metadata": {
            "needs_background": "light"
          }
        }
      ]
    },
    {
      "cell_type": "code",
      "source": [
        "train_scores, valid_scores = validation_curve(KNeighborsClassifier(metric='manhattan'), X_train, y_train, param_name=\"n_neighbors\", param_range=n_neighbors, scoring='f1', cv=10)\n",
        "train_scores_mean = np.mean(train_scores, axis=1)\n",
        "valid_scores_mean = np.mean(valid_scores, axis=1)\n",
        "\n",
        "print(valid_scores_mean)\n",
        "plt.title(\"Validation Curve with K Nearest Neighbors\")\n",
        "plt.xlabel(\"n_neighbors\")\n",
        "plt.ylabel(\"F1 Score\")\n",
        "plt.xticks(np.arange(1,30,step=2))\n",
        "plt.plot(n_neighbors, train_scores_mean, label=\"train F1\")\n",
        "plt.plot(n_neighbors, valid_scores_mean, label=\"validation F1\")\n",
        "\n",
        "plt.legend()\n",
        "plt.show()"
      ],
      "metadata": {
        "colab": {
          "base_uri": "https://localhost:8080/",
          "height": 348
        },
        "id": "8kkyZlodPuRr",
        "outputId": "dc3c747a-2d2a-49c6-b949-ccef83abb4dd"
      },
      "execution_count": null,
      "outputs": [
        {
          "output_type": "stream",
          "name": "stdout",
          "text": [
            "[0.71074244 0.76376035 0.78367449 0.79164172 0.7955126  0.79584306\n",
            " 0.78670741 0.78646968 0.79677739 0.78956032 0.79561571 0.79143729\n",
            " 0.80276471 0.7955169  0.78737018]\n"
          ]
        },
        {
          "output_type": "display_data",
          "data": {
            "text/plain": [
              "<Figure size 432x288 with 1 Axes>"
            ],
            "image/png": "[encoded data removed]"
          },
          "metadata": {
            "needs_background": "light"
          }
        }
      ]
    },
    {
      "cell_type": "code",
      "source": [
        "train_scores, valid_scores = validation_curve(KNeighborsClassifier(metric='manhattan'), X_train, y_train, param_name=\"n_neighbors\", param_range=n_neighbors, scoring='f1', cv=10)\n",
        "train_scores_std = np.std(train_scores, axis=1)\n",
        "valid_scores_std = np.std(valid_scores, axis=1)\n",
        "\n",
        "print(valid_scores_std)\n",
        "plt.title(\"Validation Curve with K Nearest Neighbors\")\n",
        "plt.xlabel(\"n_neighbors\")\n",
        "plt.ylabel(\"Std. Deviation\")\n",
        "plt.xticks(np.arange(1,30,step=2))\n",
        "plt.plot(n_neighbors, train_scores_std, label=\"train std. deviation\")\n",
        "plt.plot(n_neighbors, valid_scores_std, label=\"validation std. deviation\")\n",
        "\n",
        "plt.legend()\n",
        "plt.show()"
      ],
      "metadata": {
        "colab": {
          "base_uri": "https://localhost:8080/",
          "height": 348
        },
        "id": "gER0TnsFP9Pk",
        "outputId": "48eb1f3c-b858-4027-f445-9f832623f990"
      },
      "execution_count": null,
      "outputs": [
        {
          "output_type": "stream",
          "name": "stdout",
          "text": [
            "[0.07937231 0.03864267 0.07309271 0.04954025 0.06173995 0.04917792\n",
            " 0.06431924 0.0629297  0.05366677 0.04045119 0.04225328 0.04931703\n",
            " 0.05589523 0.06136702 0.06488849]\n"
          ]
        },
        {
          "output_type": "display_data",
          "data": {
            "text/plain": [
              "<Figure size 432x288 with 1 Axes>"
            ],
            "image/png": "[encoded data removed]"
          },
          "metadata": {
            "needs_background": "light"
          }
        }
      ]
    },
    {
      "cell_type": "code",
      "source": [
        "KNN = KNeighborsClassifier(n_neighbors=17, metric='manhattan')\n",
        "KNN.fit(X_train, y_train)\n",
        "y_pred = KNN.predict(X_test)\n",
        "cm = metrics.confusion_matrix(y_test, y_pred)"
      ],
      "metadata": {
        "id": "50ifCIK4QDDF"
      },
      "execution_count": null,
      "outputs": []
    },
    {
      "cell_type": "code",
      "source": [
        "plt.figure(figsize=(5,5))\n",
        "sns.heatmap(cm, annot=True, fmt=\".0f\", linewidths=.5, square = True, cmap = 'Blues_r');\n",
        "plt.ylabel('Actual label');\n",
        "plt.xlabel('Predicted label');\n",
        "all_sample_title = 'F1 Score: {0}'.format(round(f1_score(y_test, y_pred),3))\n",
        "plt.title(all_sample_title, size = 15);"
      ],
      "metadata": {
        "colab": {
          "base_uri": "https://localhost:8080/",
          "height": 309
        },
        "id": "RRy6j9B3QHfG",
        "outputId": "76635007-5123-4dac-fe86-e6f0e83b0457"
      },
      "execution_count": null,
      "outputs": [
        {
          "output_type": "display_data",
          "data": {
            "text/plain": [
              "<Figure size 360x360 with 2 Axes>"
            ],
            "image/png": "[encoded data removed]"
          },
          "metadata": {
            "needs_background": "light"
          }
        }
      ]
    },
    {
      "cell_type": "code",
      "source": [
        "tn, fp, fn, tp=cm.ravel()\n",
        "print (\"TP: \", tp,\"\\n\" \"FP: \",fp,\"\\n\" \"TN: \", tn,\"\\n\" \"FN: \",fn)\n",
        "print()\n",
        "print(classification_report(y_test, y_pred))"
      ],
      "metadata": {
        "colab": {
          "base_uri": "https://localhost:8080/"
        },
        "id": "RbPnwjFeXdo3",
        "outputId": "009f80e9-1440-4023-f50d-e064532d51ec"
      },
      "execution_count": null,
      "outputs": [
        {
          "output_type": "stream",
          "name": "stdout",
          "text": [
            "TP:  48 \n",
            "FP:  5 \n",
            "TN:  203 \n",
            "FN:  24\n",
            "\n",
            "              precision    recall  f1-score   support\n",
            "\n",
            "           0       0.89      0.98      0.93       208\n",
            "           1       0.91      0.67      0.77        72\n",
            "\n",
            "    accuracy                           0.90       280\n",
            "   macro avg       0.90      0.82      0.85       280\n",
            "weighted avg       0.90      0.90      0.89       280\n",
            "\n"
          ]
        }
      ]
    },
    {
      "cell_type": "markdown",
      "source": [
        "# ANOVA F-test"
      ],
      "metadata": {
        "id": "AlJ0hwyiWHVc"
      }
    },
    {
      "cell_type": "code",
      "source": [
        "X = featuresFC.iloc[:,0:20]\n",
        "y = featuresFC['Playoffs']"
      ],
      "metadata": {
        "id": "YwzJ8HmsWI-U"
      },
      "execution_count": null,
      "outputs": []
    },
    {
      "cell_type": "code",
      "source": [
        "featuresFC.iloc[:,0:20].head()"
      ],
      "metadata": {
        "colab": {
          "base_uri": "https://localhost:8080/",
          "height": 305
        },
        "id": "Sq5AMqS0KzbV",
        "outputId": "840aee10-061f-4813-cc31-69f9014352a2"
      },
      "execution_count": null,
      "outputs": [
        {
          "output_type": "execute_result",
          "data": {
            "text/plain": [
              "       ERA+  OPS+      RA/G       R/G      1Run        SV       H_P  #a-tA-S  \\\n",
              "0  0.173913  0.44  0.477612  0.339394  0.559387  0.302094  0.622353     0.45   \n",
              "1  0.637681  0.32  0.000000  0.133333  0.390805  0.194577  0.181001     0.65   \n",
              "2  0.231884  0.56  0.300995  0.363636  0.641762  0.265422  0.464920     0.75   \n",
              "3  0.275362  0.36  0.161692  0.000000  0.618774  0.100396  0.159225     0.40   \n",
              "4  0.594203  0.46  0.208955  0.442424  0.392720  0.390013  0.482468     0.60   \n",
              "\n",
              "       BB_P        BB      Rtot    DefEff        PA  Under500        HR  \\\n",
              "0  0.429180  0.465585  0.391473  0.602041  0.594126  0.402703  0.380797   \n",
              "1  0.154861  0.410213  0.841085  1.000000  0.356231  0.389189  0.213898   \n",
              "2  0.429180  0.440077  0.372093  0.581633  0.523644  0.385135  0.303797   \n",
              "3  0.688073  0.021753  0.569767  0.867347  0.279588  0.271622  0.126699   \n",
              "4  0.204570  0.540521  0.441860  0.663265  0.566620  0.528378  0.335165   \n",
              "\n",
              "         SF         E        IP       SOS     IBB_P  \n",
              "0  0.358281  0.743973  0.678982  0.545455  0.495551  \n",
              "1  0.398932  0.349282  0.697641  0.454545  0.471563  \n",
              "2  0.538171  0.558574  0.710241  0.454545  0.441491  \n",
              "3  0.124424  0.444482  0.680184  0.454545  0.477531  \n",
              "4  0.443268  0.566802  0.752545  0.363636  0.501326  "
            ],
            "text/html": [
              "\n",
              "  <div id=\"df-dd6ed370-119d-4116-96a1-48ad3bc8f731\">\n",
              "    <div class=\"colab-df-container\">\n",
              "      <div>\n",
              "<style scoped>\n",
              "    .dataframe tbody tr th:only-of-type {\n",
              "        vertical-align: middle;\n",
              "    }\n",
              "\n",
              "    .dataframe tbody tr th {\n",
              "        vertical-align: top;\n",
              "    }\n",
              "\n",
              "    .dataframe thead th {\n",
              "        text-align: right;\n",
              "    }\n",
              "</style>\n",
              "<table border=\"1\" class=\"dataframe\">\n",
              "  <thead>\n",
              "    <tr style=\"text-align: right;\">\n",
              "      <th></th>\n",
              "      <th>ERA+</th>\n",
              "      <th>OPS+</th>\n",
              "      <th>RA/G</th>\n",
              "      <th>R/G</th>\n",
              "      <th>1Run</th>\n",
              "      <th>SV</th>\n",
              "      <th>H_P</th>\n",
              "      <th>#a-tA-S</th>\n",
              "      <th>BB_P</th>\n",
              "      <th>BB</th>\n",
              "      <th>Rtot</th>\n",
              "      <th>DefEff</th>\n",
              "      <th>PA</th>\n",
              "      <th>Under500</th>\n",
              "      <th>HR</th>\n",
              "      <th>SF</th>\n",
              "      <th>E</th>\n",
              "      <th>IP</th>\n",
              "      <th>SOS</th>\n",
              "      <th>IBB_P</th>\n",
              "    </tr>\n",
              "  </thead>\n",
              "  <tbody>\n",
              "    <tr>\n",
              "      <th>0</th>\n",
              "      <td>0.173913</td>\n",
              "      <td>0.44</td>\n",
              "      <td>0.477612</td>\n",
              "      <td>0.339394</td>\n",
              "      <td>0.559387</td>\n",
              "      <td>0.302094</td>\n",
              "      <td>0.622353</td>\n",
              "      <td>0.45</td>\n",
              "      <td>0.429180</td>\n",
              "      <td>0.465585</td>\n",
              "      <td>0.391473</td>\n",
              "      <td>0.602041</td>\n",
              "      <td>0.594126</td>\n",
              "      <td>0.402703</td>\n",
              "      <td>0.380797</td>\n",
              "      <td>0.358281</td>\n",
              "      <td>0.743973</td>\n",
              "      <td>0.678982</td>\n",
              "      <td>0.545455</td>\n",
              "      <td>0.495551</td>\n",
              "    </tr>\n",
              "    <tr>\n",
              "      <th>1</th>\n",
              "      <td>0.637681</td>\n",
              "      <td>0.32</td>\n",
              "      <td>0.000000</td>\n",
              "      <td>0.133333</td>\n",
              "      <td>0.390805</td>\n",
              "      <td>0.194577</td>\n",
              "      <td>0.181001</td>\n",
              "      <td>0.65</td>\n",
              "      <td>0.154861</td>\n",
              "      <td>0.410213</td>\n",
              "      <td>0.841085</td>\n",
              "      <td>1.000000</td>\n",
              "      <td>0.356231</td>\n",
              "      <td>0.389189</td>\n",
              "      <td>0.213898</td>\n",
              "      <td>0.398932</td>\n",
              "      <td>0.349282</td>\n",
              "      <td>0.697641</td>\n",
              "      <td>0.454545</td>\n",
              "      <td>0.471563</td>\n",
              "    </tr>\n",
              "    <tr>\n",
              "      <th>2</th>\n",
              "      <td>0.231884</td>\n",
              "      <td>0.56</td>\n",
              "      <td>0.300995</td>\n",
              "      <td>0.363636</td>\n",
              "      <td>0.641762</td>\n",
              "      <td>0.265422</td>\n",
              "      <td>0.464920</td>\n",
              "      <td>0.75</td>\n",
              "      <td>0.429180</td>\n",
              "      <td>0.440077</td>\n",
              "      <td>0.372093</td>\n",
              "      <td>0.581633</td>\n",
              "      <td>0.523644</td>\n",
              "      <td>0.385135</td>\n",
              "      <td>0.303797</td>\n",
              "      <td>0.538171</td>\n",
              "      <td>0.558574</td>\n",
              "      <td>0.710241</td>\n",
              "      <td>0.454545</td>\n",
              "      <td>0.441491</td>\n",
              "    </tr>\n",
              "    <tr>\n",
              "      <th>3</th>\n",
              "      <td>0.275362</td>\n",
              "      <td>0.36</td>\n",
              "      <td>0.161692</td>\n",
              "      <td>0.000000</td>\n",
              "      <td>0.618774</td>\n",
              "      <td>0.100396</td>\n",
              "      <td>0.159225</td>\n",
              "      <td>0.40</td>\n",
              "      <td>0.688073</td>\n",
              "      <td>0.021753</td>\n",
              "      <td>0.569767</td>\n",
              "      <td>0.867347</td>\n",
              "      <td>0.279588</td>\n",
              "      <td>0.271622</td>\n",
              "      <td>0.126699</td>\n",
              "      <td>0.124424</td>\n",
              "      <td>0.444482</td>\n",
              "      <td>0.680184</td>\n",
              "      <td>0.454545</td>\n",
              "      <td>0.477531</td>\n",
              "    </tr>\n",
              "    <tr>\n",
              "      <th>4</th>\n",
              "      <td>0.594203</td>\n",
              "      <td>0.46</td>\n",
              "      <td>0.208955</td>\n",
              "      <td>0.442424</td>\n",
              "      <td>0.392720</td>\n",
              "      <td>0.390013</td>\n",
              "      <td>0.482468</td>\n",
              "      <td>0.60</td>\n",
              "      <td>0.204570</td>\n",
              "      <td>0.540521</td>\n",
              "      <td>0.441860</td>\n",
              "      <td>0.663265</td>\n",
              "      <td>0.566620</td>\n",
              "      <td>0.528378</td>\n",
              "      <td>0.335165</td>\n",
              "      <td>0.443268</td>\n",
              "      <td>0.566802</td>\n",
              "      <td>0.752545</td>\n",
              "      <td>0.363636</td>\n",
              "      <td>0.501326</td>\n",
              "    </tr>\n",
              "  </tbody>\n",
              "</table>\n",
              "</div>\n",
              "      <button class=\"colab-df-convert\" onclick=\"convertToInteractive('df-dd6ed370-119d-4116-96a1-48ad3bc8f731')\"\n",
              "              title=\"Convert this dataframe to an interactive table.\"\n",
              "              style=\"display:none;\">\n",
              "        \n",
              "  <svg xmlns=\"http://www.w3.org/2000/svg\" height=\"24px\"viewBox=\"0 0 24 24\"\n",
              "       width=\"24px\">\n",
              "    <path d=\"M0 0h24v24H0V0z\" fill=\"none\"/>\n",
              "    <path d=\"M18.56 5.44l.94 2.06.94-2.06 2.06-.94-2.06-.94-.94-2.06-.94 2.06-2.06.94zm-11 1L8.5 8.5l.94-2.06 2.06-.94-2.06-.94L8.5 2.5l-.94 2.06-2.06.94zm10 10l.94 2.06.94-2.06 2.06-.94-2.06-.94-.94-2.06-.94 2.06-2.06.94z\"/><path d=\"M17.41 7.96l-1.37-1.37c-.4-.4-.92-.59-1.43-.59-.52 0-1.04.2-1.43.59L10.3 9.45l-7.72 7.72c-.78.78-.78 2.05 0 2.83L4 21.41c.39.39.9.59 1.41.59.51 0 1.02-.2 1.41-.59l7.78-7.78 2.81-2.81c.8-.78.8-2.07 0-2.86zM5.41 20L4 18.59l7.72-7.72 1.47 1.35L5.41 20z\"/>\n",
              "  </svg>\n",
              "      </button>\n",
              "      \n",
              "  <style>\n",
              "    .colab-df-container {\n",
              "      display:flex;\n",
              "      flex-wrap:wrap;\n",
              "      gap: 12px;\n",
              "    }\n",
              "\n",
              "    .colab-df-convert {\n",
              "      background-color: #E8F0FE;\n",
              "      border: none;\n",
              "      border-radius: 50%;\n",
              "      cursor: pointer;\n",
              "      display: none;\n",
              "      fill: #1967D2;\n",
              "      height: 32px;\n",
              "      padding: 0 0 0 0;\n",
              "      width: 32px;\n",
              "    }\n",
              "\n",
              "    .colab-df-convert:hover {\n",
              "      background-color: #E2EBFA;\n",
              "      box-shadow: 0px 1px 2px rgba(60, 64, 67, 0.3), 0px 1px 3px 1px rgba(60, 64, 67, 0.15);\n",
              "      fill: #174EA6;\n",
              "    }\n",
              "\n",
              "    [theme=dark] .colab-df-convert {\n",
              "      background-color: #3B4455;\n",
              "      fill: #D2E3FC;\n",
              "    }\n",
              "\n",
              "    [theme=dark] .colab-df-convert:hover {\n",
              "      background-color: #434B5C;\n",
              "      box-shadow: 0px 1px 3px 1px rgba(0, 0, 0, 0.15);\n",
              "      filter: drop-shadow(0px 1px 2px rgba(0, 0, 0, 0.3));\n",
              "      fill: #FFFFFF;\n",
              "    }\n",
              "  </style>\n",
              "\n",
              "      <script>\n",
              "        const buttonEl =\n",
              "          document.querySelector('#df-dd6ed370-119d-4116-96a1-48ad3bc8f731 button.colab-df-convert');\n",
              "        buttonEl.style.display =\n",
              "          google.colab.kernel.accessAllowed ? 'block' : 'none';\n",
              "\n",
              "        async function convertToInteractive(key) {\n",
              "          const element = document.querySelector('#df-dd6ed370-119d-4116-96a1-48ad3bc8f731');\n",
              "          const dataTable =\n",
              "            await google.colab.kernel.invokeFunction('convertToInteractive',\n",
              "                                                     [key], {});\n",
              "          if (!dataTable) return;\n",
              "\n",
              "          const docLinkHtml = 'Like what you see? Visit the ' +\n",
              "            '<a target=\"_blank\" href=https://colab.research.google.com/notebooks/data_table.ipynb>data table notebook</a>'\n",
              "            + ' to learn more about interactive tables.';\n",
              "          element.innerHTML = '';\n",
              "          dataTable['output_type'] = 'display_data';\n",
              "          await google.colab.output.renderOutput(dataTable, element);\n",
              "          const docLink = document.createElement('div');\n",
              "          docLink.innerHTML = docLinkHtml;\n",
              "          element.appendChild(docLink);\n",
              "        }\n",
              "      </script>\n",
              "    </div>\n",
              "  </div>\n",
              "  "
            ]
          },
          "metadata": {},
          "execution_count": 14
        }
      ]
    },
    {
      "cell_type": "code",
      "source": [
        "X_train, X_test, y_train, y_test = train_test_split(X, y, test_size=0.2, random_state=1, stratify=y)"
      ],
      "metadata": {
        "id": "I_BcIhtbWLn9"
      },
      "execution_count": null,
      "outputs": []
    },
    {
      "cell_type": "code",
      "source": [
        "train_scores, valid_scores = validation_curve(KNeighborsClassifier(), X_train, y_train, param_name=\"metric\", param_range=KNNmetrics, scoring='f1', cv=10)\n",
        "train_scores_mean = np.mean(train_scores, axis=1)\n",
        "valid_scores_mean = np.mean(valid_scores, axis=1)\n",
        "\n",
        "print(valid_scores_mean)\n",
        "plt.title(\"Validation Curve with K Nearest Neighbors\")\n",
        "plt.xlabel(\"Metric\")\n",
        "plt.ylabel(\"F1 Score\")\n",
        "plt.plot(KNNmetrics, train_scores_mean, label=\"train F1\")\n",
        "plt.plot(KNNmetrics, valid_scores_mean, label=\"validation F1\")\n",
        "\n",
        "plt.legend()\n",
        "plt.show()"
      ],
      "metadata": {
        "colab": {
          "base_uri": "https://localhost:8080/",
          "height": 312
        },
        "id": "xBXRanf9WM_N",
        "outputId": "42ffab3e-82d1-4c94-9280-4004ce470f15"
      },
      "execution_count": null,
      "outputs": [
        {
          "output_type": "stream",
          "name": "stdout",
          "text": [
            "[0.76251307 0.75835737 0.75835737]\n"
          ]
        },
        {
          "output_type": "display_data",
          "data": {
            "text/plain": [
              "<Figure size 432x288 with 1 Axes>"
            ],
            "image/png": "[encoded data removed]"
          },
          "metadata": {
            "needs_background": "light"
          }
        }
      ]
    },
    {
      "cell_type": "code",
      "source": [
        "train_scores, valid_scores = validation_curve(KNeighborsClassifier(metric='manhattan'), X_train, y_train, param_name=\"n_neighbors\", param_range=n_neighbors, scoring='f1', cv=10)\n",
        "train_scores_mean = np.mean(train_scores, axis=1)\n",
        "valid_scores_mean = np.mean(valid_scores, axis=1)\n",
        "\n",
        "print(valid_scores_mean)\n",
        "plt.title(\"Validation Curve with K Nearest Neighbors\")\n",
        "plt.xlabel(\"n_neighbors\")\n",
        "plt.ylabel(\"F1 Score\")\n",
        "plt.xticks(np.arange(1,30,step=2))\n",
        "plt.plot(n_neighbors, train_scores_mean, label=\"train F1\")\n",
        "plt.plot(n_neighbors, valid_scores_mean, label=\"validation F1\")\n",
        "\n",
        "plt.legend()\n",
        "plt.show()"
      ],
      "metadata": {
        "colab": {
          "base_uri": "https://localhost:8080/",
          "height": 348
        },
        "id": "UYrfjFyjWRNl",
        "outputId": "3eb2b1ec-80ac-496a-aafa-ad3db45dd81e"
      },
      "execution_count": null,
      "outputs": [
        {
          "output_type": "stream",
          "name": "stdout",
          "text": [
            "[0.69766351 0.74486567 0.76251307 0.7673495  0.78034566 0.77488069\n",
            " 0.76384426 0.76222866 0.77458248 0.77094247 0.76893188 0.76792548\n",
            " 0.77586455 0.77227976 0.77888503]\n"
          ]
        },
        {
          "output_type": "display_data",
          "data": {
            "text/plain": [
              "<Figure size 432x288 with 1 Axes>"
            ],
            "image/png": "[encoded data removed]"
          },
          "metadata": {
            "needs_background": "light"
          }
        }
      ]
    },
    {
      "cell_type": "code",
      "source": [
        "train_scores, valid_scores = validation_curve(KNeighborsClassifier(metric='manhattan'), X_train, y_train, param_name=\"n_neighbors\", param_range=n_neighbors, scoring='f1', cv=10)\n",
        "train_scores_std = np.std(train_scores, axis=1)\n",
        "valid_scores_std = np.std(valid_scores, axis=1)\n",
        "\n",
        "print(valid_scores_std)\n",
        "plt.title(\"Validation Curve with K Nearest Neighbors\")\n",
        "plt.xlabel(\"n_neighbors\")\n",
        "plt.ylabel(\"Std. Deviation\")\n",
        "plt.xticks(np.arange(1,30,step=2))\n",
        "plt.plot(n_neighbors, train_scores_std, label=\"train std. deviation\")\n",
        "plt.plot(n_neighbors, valid_scores_std, label=\"validation std. deviation\")\n",
        "\n",
        "plt.legend()\n",
        "plt.show()"
      ],
      "metadata": {
        "colab": {
          "base_uri": "https://localhost:8080/",
          "height": 348
        },
        "id": "EJCSfnSgWTcO",
        "outputId": "f7b96dce-184c-4d46-a439-3a627094b228"
      },
      "execution_count": null,
      "outputs": [
        {
          "output_type": "stream",
          "name": "stdout",
          "text": [
            "[0.05576638 0.06740893 0.04458933 0.07482727 0.05896097 0.07369611\n",
            " 0.06995413 0.07587622 0.07256825 0.07287657 0.07842958 0.07813558\n",
            " 0.06931441 0.07901671 0.06663155]\n"
          ]
        },
        {
          "output_type": "display_data",
          "data": {
            "text/plain": [
              "<Figure size 432x288 with 1 Axes>"
            ],
            "image/png": "[encoded data removed]"
          },
          "metadata": {
            "needs_background": "light"
          }
        }
      ]
    },
    {
      "cell_type": "code",
      "source": [
        "KNN = KNeighborsClassifier(n_neighbors=17, metric='manhattan')\n",
        "KNN.fit(X_train, y_train)\n",
        "y_pred = KNN.predict(X_test)\n",
        "cm = metrics.confusion_matrix(y_test, y_pred)"
      ],
      "metadata": {
        "id": "0rTwWbR-We3o"
      },
      "execution_count": null,
      "outputs": []
    },
    {
      "cell_type": "code",
      "source": [
        "plt.figure(figsize=(5,5))\n",
        "sns.heatmap(cm, annot=True, fmt=\".0f\", linewidths=.5, square = True, cmap = 'Blues_r');\n",
        "plt.ylabel('Actual label');\n",
        "plt.xlabel('Predicted label');\n",
        "all_sample_title = 'F1-Score: {0}'.format(round(f1_score(y_test, y_pred),3))\n",
        "plt.title(all_sample_title, size = 15);"
      ],
      "metadata": {
        "colab": {
          "base_uri": "https://localhost:8080/",
          "height": 309
        },
        "id": "8Vlcvfb5WhKG",
        "outputId": "668d3a9d-74b5-487b-fd2e-6aec1e0b33ee"
      },
      "execution_count": null,
      "outputs": [
        {
          "output_type": "display_data",
          "data": {
            "text/plain": [
              "<Figure size 360x360 with 2 Axes>"
            ],
            "image/png": "[encoded data removed]"
          },
          "metadata": {
            "needs_background": "light"
          }
        }
      ]
    },
    {
      "cell_type": "code",
      "source": [
        "tn, fp, fn, tp=cm.ravel()\n",
        "print (\"TP: \", tp,\"\\n\" \"FP: \",fp,\"\\n\" \"TN: \", tn,\"\\n\" \"FN: \",fn)\n",
        "print()\n",
        "print(classification_report(y_test, y_pred))"
      ],
      "metadata": {
        "colab": {
          "base_uri": "https://localhost:8080/"
        },
        "id": "SmDCzGmaWyKZ",
        "outputId": "b4d51e90-d387-4fa1-8484-6b3b8da9ae94"
      },
      "execution_count": null,
      "outputs": [
        {
          "output_type": "stream",
          "name": "stdout",
          "text": [
            "TP:  54 \n",
            "FP:  9 \n",
            "TN:  199 \n",
            "FN:  18\n",
            "\n",
            "              precision    recall  f1-score   support\n",
            "\n",
            "           0       0.92      0.96      0.94       208\n",
            "           1       0.86      0.75      0.80        72\n",
            "\n",
            "    accuracy                           0.90       280\n",
            "   macro avg       0.89      0.85      0.87       280\n",
            "weighted avg       0.90      0.90      0.90       280\n",
            "\n"
          ]
        }
      ]
    },
    {
      "cell_type": "markdown",
      "source": [
        "# Random Forest"
      ],
      "metadata": {
        "id": "EQH6v9VQYCSE"
      }
    },
    {
      "cell_type": "code",
      "source": [
        "X = featuresRFC.iloc[:,0:20]\n",
        "y = featuresRFC['Playoffs']"
      ],
      "metadata": {
        "id": "GGkbvkOPYD6r"
      },
      "execution_count": null,
      "outputs": []
    },
    {
      "cell_type": "code",
      "source": [
        "featuresRFC.iloc[:,0:20].head()"
      ],
      "metadata": {
        "colab": {
          "base_uri": "https://localhost:8080/",
          "height": 305
        },
        "id": "19MD0m3lK1T1",
        "outputId": "a78fc492-6e9a-47ab-d5ab-2ffb35c7ae75"
      },
      "execution_count": null,
      "outputs": [
        {
          "output_type": "execute_result",
          "data": {
            "text/plain": [
              "       ERA+      RA/G      1Run       R/G  OPS+        SV       H_P      BB_P  \\\n",
              "0  0.173913  0.477612  0.559387  0.339394  0.44  0.302094  0.622353  0.429180   \n",
              "1  0.637681  0.000000  0.390805  0.133333  0.32  0.194577  0.181001  0.154861   \n",
              "2  0.231884  0.300995  0.641762  0.363636  0.56  0.265422  0.464920  0.429180   \n",
              "3  0.275362  0.161692  0.618774  0.000000  0.36  0.100396  0.159225  0.688073   \n",
              "4  0.594203  0.208955  0.392720  0.442424  0.46  0.390013  0.482468  0.204570   \n",
              "\n",
              "         BB    DefEff      Rtot        HR  #a-tA-S        IP       SOS  \\\n",
              "0  0.465585  0.602041  0.391473  0.380797     0.45  0.678982  0.545455   \n",
              "1  0.410213  1.000000  0.841085  0.213898     0.65  0.697641  0.454545   \n",
              "2  0.440077  0.581633  0.372093  0.303797     0.75  0.710241  0.454545   \n",
              "3  0.021753  0.867347  0.569767  0.126699     0.40  0.680184  0.454545   \n",
              "4  0.540521  0.663265  0.441860  0.335165     0.60  0.752545  0.363636   \n",
              "\n",
              "         PA      HR_P        SF        2B  Under500  \n",
              "0  0.594126  0.418914  0.358281  0.151402  0.402703  \n",
              "1  0.356231  0.123964  0.398932  0.191710  0.389189  \n",
              "2  0.523644  0.189573  0.538171  0.361411  0.385135  \n",
              "3  0.279588  0.142855  0.124424  0.078143  0.271622  \n",
              "4  0.566620  0.233241  0.443268  0.242631  0.528378  "
            ],
            "text/html": [
              "\n",
              "  <div id=\"df-11fdbf13-5355-4720-a50c-7ee7dd4e1d58\">\n",
              "    <div class=\"colab-df-container\">\n",
              "      <div>\n",
              "<style scoped>\n",
              "    .dataframe tbody tr th:only-of-type {\n",
              "        vertical-align: middle;\n",
              "    }\n",
              "\n",
              "    .dataframe tbody tr th {\n",
              "        vertical-align: top;\n",
              "    }\n",
              "\n",
              "    .dataframe thead th {\n",
              "        text-align: right;\n",
              "    }\n",
              "</style>\n",
              "<table border=\"1\" class=\"dataframe\">\n",
              "  <thead>\n",
              "    <tr style=\"text-align: right;\">\n",
              "      <th></th>\n",
              "      <th>ERA+</th>\n",
              "      <th>RA/G</th>\n",
              "      <th>1Run</th>\n",
              "      <th>R/G</th>\n",
              "      <th>OPS+</th>\n",
              "      <th>SV</th>\n",
              "      <th>H_P</th>\n",
              "      <th>BB_P</th>\n",
              "      <th>BB</th>\n",
              "      <th>DefEff</th>\n",
              "      <th>Rtot</th>\n",
              "      <th>HR</th>\n",
              "      <th>#a-tA-S</th>\n",
              "      <th>IP</th>\n",
              "      <th>SOS</th>\n",
              "      <th>PA</th>\n",
              "      <th>HR_P</th>\n",
              "      <th>SF</th>\n",
              "      <th>2B</th>\n",
              "      <th>Under500</th>\n",
              "    </tr>\n",
              "  </thead>\n",
              "  <tbody>\n",
              "    <tr>\n",
              "      <th>0</th>\n",
              "      <td>0.173913</td>\n",
              "      <td>0.477612</td>\n",
              "      <td>0.559387</td>\n",
              "      <td>0.339394</td>\n",
              "      <td>0.44</td>\n",
              "      <td>0.302094</td>\n",
              "      <td>0.622353</td>\n",
              "      <td>0.429180</td>\n",
              "      <td>0.465585</td>\n",
              "      <td>0.602041</td>\n",
              "      <td>0.391473</td>\n",
              "      <td>0.380797</td>\n",
              "      <td>0.45</td>\n",
              "      <td>0.678982</td>\n",
              "      <td>0.545455</td>\n",
              "      <td>0.594126</td>\n",
              "      <td>0.418914</td>\n",
              "      <td>0.358281</td>\n",
              "      <td>0.151402</td>\n",
              "      <td>0.402703</td>\n",
              "    </tr>\n",
              "    <tr>\n",
              "      <th>1</th>\n",
              "      <td>0.637681</td>\n",
              "      <td>0.000000</td>\n",
              "      <td>0.390805</td>\n",
              "      <td>0.133333</td>\n",
              "      <td>0.32</td>\n",
              "      <td>0.194577</td>\n",
              "      <td>0.181001</td>\n",
              "      <td>0.154861</td>\n",
              "      <td>0.410213</td>\n",
              "      <td>1.000000</td>\n",
              "      <td>0.841085</td>\n",
              "      <td>0.213898</td>\n",
              "      <td>0.65</td>\n",
              "      <td>0.697641</td>\n",
              "      <td>0.454545</td>\n",
              "      <td>0.356231</td>\n",
              "      <td>0.123964</td>\n",
              "      <td>0.398932</td>\n",
              "      <td>0.191710</td>\n",
              "      <td>0.389189</td>\n",
              "    </tr>\n",
              "    <tr>\n",
              "      <th>2</th>\n",
              "      <td>0.231884</td>\n",
              "      <td>0.300995</td>\n",
              "      <td>0.641762</td>\n",
              "      <td>0.363636</td>\n",
              "      <td>0.56</td>\n",
              "      <td>0.265422</td>\n",
              "      <td>0.464920</td>\n",
              "      <td>0.429180</td>\n",
              "      <td>0.440077</td>\n",
              "      <td>0.581633</td>\n",
              "      <td>0.372093</td>\n",
              "      <td>0.303797</td>\n",
              "      <td>0.75</td>\n",
              "      <td>0.710241</td>\n",
              "      <td>0.454545</td>\n",
              "      <td>0.523644</td>\n",
              "      <td>0.189573</td>\n",
              "      <td>0.538171</td>\n",
              "      <td>0.361411</td>\n",
              "      <td>0.385135</td>\n",
              "    </tr>\n",
              "    <tr>\n",
              "      <th>3</th>\n",
              "      <td>0.275362</td>\n",
              "      <td>0.161692</td>\n",
              "      <td>0.618774</td>\n",
              "      <td>0.000000</td>\n",
              "      <td>0.36</td>\n",
              "      <td>0.100396</td>\n",
              "      <td>0.159225</td>\n",
              "      <td>0.688073</td>\n",
              "      <td>0.021753</td>\n",
              "      <td>0.867347</td>\n",
              "      <td>0.569767</td>\n",
              "      <td>0.126699</td>\n",
              "      <td>0.40</td>\n",
              "      <td>0.680184</td>\n",
              "      <td>0.454545</td>\n",
              "      <td>0.279588</td>\n",
              "      <td>0.142855</td>\n",
              "      <td>0.124424</td>\n",
              "      <td>0.078143</td>\n",
              "      <td>0.271622</td>\n",
              "    </tr>\n",
              "    <tr>\n",
              "      <th>4</th>\n",
              "      <td>0.594203</td>\n",
              "      <td>0.208955</td>\n",
              "      <td>0.392720</td>\n",
              "      <td>0.442424</td>\n",
              "      <td>0.46</td>\n",
              "      <td>0.390013</td>\n",
              "      <td>0.482468</td>\n",
              "      <td>0.204570</td>\n",
              "      <td>0.540521</td>\n",
              "      <td>0.663265</td>\n",
              "      <td>0.441860</td>\n",
              "      <td>0.335165</td>\n",
              "      <td>0.60</td>\n",
              "      <td>0.752545</td>\n",
              "      <td>0.363636</td>\n",
              "      <td>0.566620</td>\n",
              "      <td>0.233241</td>\n",
              "      <td>0.443268</td>\n",
              "      <td>0.242631</td>\n",
              "      <td>0.528378</td>\n",
              "    </tr>\n",
              "  </tbody>\n",
              "</table>\n",
              "</div>\n",
              "      <button class=\"colab-df-convert\" onclick=\"convertToInteractive('df-11fdbf13-5355-4720-a50c-7ee7dd4e1d58')\"\n",
              "              title=\"Convert this dataframe to an interactive table.\"\n",
              "              style=\"display:none;\">\n",
              "        \n",
              "  <svg xmlns=\"http://www.w3.org/2000/svg\" height=\"24px\"viewBox=\"0 0 24 24\"\n",
              "       width=\"24px\">\n",
              "    <path d=\"M0 0h24v24H0V0z\" fill=\"none\"/>\n",
              "    <path d=\"M18.56 5.44l.94 2.06.94-2.06 2.06-.94-2.06-.94-.94-2.06-.94 2.06-2.06.94zm-11 1L8.5 8.5l.94-2.06 2.06-.94-2.06-.94L8.5 2.5l-.94 2.06-2.06.94zm10 10l.94 2.06.94-2.06 2.06-.94-2.06-.94-.94-2.06-.94 2.06-2.06.94z\"/><path d=\"M17.41 7.96l-1.37-1.37c-.4-.4-.92-.59-1.43-.59-.52 0-1.04.2-1.43.59L10.3 9.45l-7.72 7.72c-.78.78-.78 2.05 0 2.83L4 21.41c.39.39.9.59 1.41.59.51 0 1.02-.2 1.41-.59l7.78-7.78 2.81-2.81c.8-.78.8-2.07 0-2.86zM5.41 20L4 18.59l7.72-7.72 1.47 1.35L5.41 20z\"/>\n",
              "  </svg>\n",
              "      </button>\n",
              "      \n",
              "  <style>\n",
              "    .colab-df-container {\n",
              "      display:flex;\n",
              "      flex-wrap:wrap;\n",
              "      gap: 12px;\n",
              "    }\n",
              "\n",
              "    .colab-df-convert {\n",
              "      background-color: #E8F0FE;\n",
              "      border: none;\n",
              "      border-radius: 50%;\n",
              "      cursor: pointer;\n",
              "      display: none;\n",
              "      fill: #1967D2;\n",
              "      height: 32px;\n",
              "      padding: 0 0 0 0;\n",
              "      width: 32px;\n",
              "    }\n",
              "\n",
              "    .colab-df-convert:hover {\n",
              "      background-color: #E2EBFA;\n",
              "      box-shadow: 0px 1px 2px rgba(60, 64, 67, 0.3), 0px 1px 3px 1px rgba(60, 64, 67, 0.15);\n",
              "      fill: #174EA6;\n",
              "    }\n",
              "\n",
              "    [theme=dark] .colab-df-convert {\n",
              "      background-color: #3B4455;\n",
              "      fill: #D2E3FC;\n",
              "    }\n",
              "\n",
              "    [theme=dark] .colab-df-convert:hover {\n",
              "      background-color: #434B5C;\n",
              "      box-shadow: 0px 1px 3px 1px rgba(0, 0, 0, 0.15);\n",
              "      filter: drop-shadow(0px 1px 2px rgba(0, 0, 0, 0.3));\n",
              "      fill: #FFFFFF;\n",
              "    }\n",
              "  </style>\n",
              "\n",
              "      <script>\n",
              "        const buttonEl =\n",
              "          document.querySelector('#df-11fdbf13-5355-4720-a50c-7ee7dd4e1d58 button.colab-df-convert');\n",
              "        buttonEl.style.display =\n",
              "          google.colab.kernel.accessAllowed ? 'block' : 'none';\n",
              "\n",
              "        async function convertToInteractive(key) {\n",
              "          const element = document.querySelector('#df-11fdbf13-5355-4720-a50c-7ee7dd4e1d58');\n",
              "          const dataTable =\n",
              "            await google.colab.kernel.invokeFunction('convertToInteractive',\n",
              "                                                     [key], {});\n",
              "          if (!dataTable) return;\n",
              "\n",
              "          const docLinkHtml = 'Like what you see? Visit the ' +\n",
              "            '<a target=\"_blank\" href=https://colab.research.google.com/notebooks/data_table.ipynb>data table notebook</a>'\n",
              "            + ' to learn more about interactive tables.';\n",
              "          element.innerHTML = '';\n",
              "          dataTable['output_type'] = 'display_data';\n",
              "          await google.colab.output.renderOutput(dataTable, element);\n",
              "          const docLink = document.createElement('div');\n",
              "          docLink.innerHTML = docLinkHtml;\n",
              "          element.appendChild(docLink);\n",
              "        }\n",
              "      </script>\n",
              "    </div>\n",
              "  </div>\n",
              "  "
            ]
          },
          "metadata": {},
          "execution_count": 23
        }
      ]
    },
    {
      "cell_type": "code",
      "source": [
        "X_train, X_test, y_train, y_test = train_test_split(X, y, test_size=0.2, random_state=1, stratify=y)"
      ],
      "metadata": {
        "id": "yvcPAU1vYF01"
      },
      "execution_count": null,
      "outputs": []
    },
    {
      "cell_type": "code",
      "source": [
        "train_scores, valid_scores = validation_curve(KNeighborsClassifier(), X_train, y_train, param_name=\"metric\", param_range=KNNmetrics, scoring='f1', cv=10)\n",
        "train_scores_mean = np.mean(train_scores, axis=1)\n",
        "valid_scores_mean = np.mean(valid_scores, axis=1)\n",
        "\n",
        "print(valid_scores_mean)\n",
        "plt.title(\"Validation Curve with K Nearest Neighbors\")\n",
        "plt.xlabel(\"Metric\")\n",
        "plt.ylabel(\"F1 Score\")\n",
        "plt.plot(KNNmetrics, train_scores_mean, label=\"train F1\")\n",
        "plt.plot(KNNmetrics, valid_scores_mean, label=\"validation F1\")\n",
        "\n",
        "plt.legend()\n",
        "plt.show()"
      ],
      "metadata": {
        "colab": {
          "base_uri": "https://localhost:8080/",
          "height": 312
        },
        "id": "p9kbNJTuYHA8",
        "outputId": "03a51d30-350b-4d99-8b17-1c4f1ee44823"
      },
      "execution_count": null,
      "outputs": [
        {
          "output_type": "stream",
          "name": "stdout",
          "text": [
            "[0.78104987 0.76440496 0.76440496]\n"
          ]
        },
        {
          "output_type": "display_data",
          "data": {
            "text/plain": [
              "<Figure size 432x288 with 1 Axes>"
            ],
            "image/png": "[encoded data removed]"
          },
          "metadata": {
            "needs_background": "light"
          }
        }
      ]
    },
    {
      "cell_type": "code",
      "source": [
        "train_scores, valid_scores = validation_curve(KNeighborsClassifier(metric='manhattan'), X_train, y_train, param_name=\"n_neighbors\", param_range=n_neighbors, scoring='f1', cv=10)\n",
        "train_scores_mean = np.mean(train_scores, axis=1)\n",
        "valid_scores_mean = np.mean(valid_scores, axis=1)\n",
        "\n",
        "print(valid_scores_mean)\n",
        "plt.title(\"Validation Curve with K Nearest Neighbors\")\n",
        "plt.xlabel(\"n_neighbors\")\n",
        "plt.ylabel(\"F1 Score\")\n",
        "plt.xticks(np.arange(1,30,step=2))\n",
        "plt.plot(n_neighbors, train_scores_mean, label=\"train F1\")\n",
        "plt.plot(n_neighbors, valid_scores_mean, label=\"validation F1\")\n",
        "\n",
        "plt.legend()\n",
        "plt.show()"
      ],
      "metadata": {
        "colab": {
          "base_uri": "https://localhost:8080/",
          "height": 348
        },
        "id": "IhRqWnmpYIfV",
        "outputId": "2a87ca57-2239-4991-ecd0-0a7f813335ea"
      },
      "execution_count": null,
      "outputs": [
        {
          "output_type": "stream",
          "name": "stdout",
          "text": [
            "[0.70247957 0.76189353 0.78104987 0.79696148 0.79882727 0.80171604\n",
            " 0.80249457 0.79970061 0.80186779 0.80898437 0.79323209 0.79174391\n",
            " 0.7946962  0.78748753 0.78633519]\n"
          ]
        },
        {
          "output_type": "display_data",
          "data": {
            "text/plain": [
              "<Figure size 432x288 with 1 Axes>"
            ],
            "image/png": "[encoded data removed]"
          },
          "metadata": {
            "needs_background": "light"
          }
        }
      ]
    },
    {
      "cell_type": "code",
      "source": [
        "train_scores, valid_scores = validation_curve(KNeighborsClassifier(metric='manhattan'), X_train, y_train, param_name=\"n_neighbors\", param_range=n_neighbors, scoring='f1', cv=10)\n",
        "train_scores_std = np.std(train_scores, axis=1)\n",
        "valid_scores_std = np.std(valid_scores, axis=1)\n",
        "\n",
        "print(valid_scores_std)\n",
        "plt.title(\"Validation Curve with K Nearest Neighbors\")\n",
        "plt.xlabel(\"n_neighbors\")\n",
        "plt.ylabel(\"Std. Deviation\")\n",
        "plt.xticks(np.arange(1,30,step=2))\n",
        "plt.plot(n_neighbors, train_scores_std, label=\"train std. deviation\")\n",
        "plt.plot(n_neighbors, valid_scores_std, label=\"validation std. deviation\")\n",
        "\n",
        "plt.legend()\n",
        "plt.show()"
      ],
      "metadata": {
        "colab": {
          "base_uri": "https://localhost:8080/",
          "height": 348
        },
        "id": "YDnUBYSEYKHl",
        "outputId": "c59c3bb2-0637-403e-d633-2a1621d73ef2"
      },
      "execution_count": null,
      "outputs": [
        {
          "output_type": "stream",
          "name": "stdout",
          "text": [
            "[0.06528712 0.06773952 0.04283011 0.03886243 0.04388834 0.04788952\n",
            " 0.04536385 0.05683875 0.05890677 0.04638513 0.05476298 0.04655408\n",
            " 0.06103022 0.07300808 0.06896755]\n"
          ]
        },
        {
          "output_type": "display_data",
          "data": {
            "text/plain": [
              "<Figure size 432x288 with 1 Axes>"
            ],
            "image/png": "[encoded data removed]"
          },
          "metadata": {
            "needs_background": "light"
          }
        }
      ]
    },
    {
      "cell_type": "code",
      "source": [
        "KNN = KNeighborsClassifier(n_neighbors=19, metric='manhattan')\n",
        "KNN.fit(X_train, y_train)\n",
        "y_pred = KNN.predict(X_test)\n",
        "cm = metrics.confusion_matrix(y_test, y_pred)"
      ],
      "metadata": {
        "id": "x6r5yt_sYMBt"
      },
      "execution_count": null,
      "outputs": []
    },
    {
      "cell_type": "code",
      "source": [
        "plt.figure(figsize=(5,5))\n",
        "group_names = ['TN', 'FP', 'FN', 'TP']\n",
        "sns.heatmap(cm, annot=True, fmt=\".0f\", linewidths=.5, square = True, cmap = 'Blues_r');\n",
        "plt.ylabel('Actual label');\n",
        "plt.xlabel('Predicted label');\n",
        "all_sample_title = 'F1-Score: {0}'.format(round(f1_score(y_test, y_pred),3))\n",
        "plt.title(all_sample_title, size = 15);"
      ],
      "metadata": {
        "colab": {
          "base_uri": "https://localhost:8080/",
          "height": 309
        },
        "id": "S6QoIwmjYNy9",
        "outputId": "88297910-e958-44cd-c1d4-67b3f3c5044b"
      },
      "execution_count": null,
      "outputs": [
        {
          "output_type": "display_data",
          "data": {
            "text/plain": [
              "<Figure size 360x360 with 2 Axes>"
            ],
            "image/png": "[encoded data removed]"
          },
          "metadata": {
            "needs_background": "light"
          }
        }
      ]
    },
    {
      "cell_type": "code",
      "source": [
        "tn, fp, fn, tp=cm.ravel()\n",
        "print (\"TP: \", tp,\"\\n\" \"FP: \",fp,\"\\n\" \"TN: \", tn,\"\\n\" \"FN: \",fn)\n",
        "print()\n",
        "print(classification_report(y_test, y_pred))"
      ],
      "metadata": {
        "colab": {
          "base_uri": "https://localhost:8080/"
        },
        "id": "bMU8HwuWYPSF",
        "outputId": "4b3fc0ef-e7ff-426c-fda3-5ff7cbb645b0"
      },
      "execution_count": null,
      "outputs": [
        {
          "output_type": "stream",
          "name": "stdout",
          "text": [
            "TP:  47 \n",
            "FP:  5 \n",
            "TN:  203 \n",
            "FN:  25\n",
            "\n",
            "              precision    recall  f1-score   support\n",
            "\n",
            "           0       0.89      0.98      0.93       208\n",
            "           1       0.90      0.65      0.76        72\n",
            "\n",
            "    accuracy                           0.89       280\n",
            "   macro avg       0.90      0.81      0.84       280\n",
            "weighted avg       0.89      0.89      0.89       280\n",
            "\n"
          ]
        }
      ]
    }
  ]
}
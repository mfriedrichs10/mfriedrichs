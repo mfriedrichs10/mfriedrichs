{
  "nbformat": 4,
  "nbformat_minor": 0,
  "metadata": {
    "colab": {
      "provenance": []
    },
    "kernelspec": {
      "name": "python3",
      "display_name": "Python 3"
    },
    "language_info": {
      "name": "python"
    }
  },
  "cells": [
    {
      "cell_type": "code",
      "execution_count": null,
      "metadata": {
        "id": "qjyFpyyXDCpB"
      },
      "outputs": [],
      "source": [
        "import pandas as pd\n",
        "import numpy as np\n",
        "import matplotlib.pyplot as plt\n",
        "import seaborn as sns\n",
        "from sklearn.model_selection import train_test_split, StratifiedKFold, cross_val_predict\n",
        "from sklearn.metrics import confusion_matrix, classification_report, accuracy_score\n",
        "from sklearn.ensemble import RandomForestClassifier\n",
        "from sklearn.model_selection import KFold, cross_val_score, validation_curve, StratifiedShuffleSplit, cross_validate\n",
        "from sklearn import metrics"
      ]
    },
    {
      "cell_type": "code",
      "source": [
        "# The three datasets created during the feature selection process are uploaded. \n",
        "# Each dataset contains a different ordering of the feature variables based on their importance.\n",
        "\n",
        "featuresMIC = pd.read_csv('featuresRankedMIC.csv')\n",
        "featuresFC = pd.read_csv('featuresRankedFC.csv')\n",
        "featuresRFC = pd.read_csv('featuresRankedRFC.csv')"
      ],
      "metadata": {
        "id": "_djPe-ucDbvS"
      },
      "execution_count": null,
      "outputs": []
    },
    {
      "cell_type": "markdown",
      "source": [
        "# Mutual Information Gain"
      ],
      "metadata": {
        "id": "yVLGV32rDgV0"
      }
    },
    {
      "cell_type": "code",
      "source": [
        "# The top 20 features will be selected from each dataset for machine learning.\n",
        "\n",
        "X = featuresMIC.iloc[:,0:20]\n",
        "y = featuresMIC['WinningRecord']"
      ],
      "metadata": {
        "id": "KfsYQI8ODf5C"
      },
      "execution_count": null,
      "outputs": []
    },
    {
      "cell_type": "code",
      "source": [
        "featuresMIC.iloc[:,0:20].head()"
      ],
      "metadata": {
        "colab": {
          "base_uri": "https://localhost:8080/",
          "height": 305
        },
        "id": "WVf04Z2ZWoLD",
        "outputId": "4cd13e74-b30e-43c0-f7fa-46625caeb14b"
      },
      "execution_count": null,
      "outputs": [
        {
          "output_type": "execute_result",
          "data": {
            "text/plain": [
              "       ERA+  OPS+      RA/G        SV      1Run  Under500      BB_P       H_P  \\\n",
              "0  0.173913  0.44  0.477612  0.302094  0.559387  0.402703  0.429180  0.622353   \n",
              "1  0.637681  0.32  0.000000  0.194577  0.390805  0.389189  0.154861  0.181001   \n",
              "2  0.231884  0.56  0.300995  0.265422  0.641762  0.385135  0.429180  0.464920   \n",
              "3  0.275362  0.36  0.161692  0.100396  0.618774  0.271622  0.688073  0.159225   \n",
              "4  0.594203  0.46  0.208955  0.390013  0.392720  0.528378  0.204570  0.482468   \n",
              "\n",
              "        R/G  #a-tA-S    DefEff      HR_P    BatAge        BB        WP  \\\n",
              "0  0.339394     0.45  0.602041  0.418914  0.292135  0.465585  0.687796   \n",
              "1  0.133333     0.65  1.000000  0.123964  0.460674  0.410213  0.262041   \n",
              "2  0.363636     0.75  0.581633  0.189573  0.483146  0.440077  0.221357   \n",
              "3  0.000000     0.40  0.867347  0.142855  0.505618  0.021753  0.435667   \n",
              "4  0.442424     0.60  0.663265  0.233241  0.606742  0.540521  0.218771   \n",
              "\n",
              "         HR       SOS        IP      Rtot       IBB  \n",
              "0  0.380797  0.545455  0.678982  0.391473  0.288005  \n",
              "1  0.213898  0.454545  0.697641  0.841085  0.380978  \n",
              "2  0.303797  0.454545  0.710241  0.372093  0.322774  \n",
              "3  0.126699  0.454545  0.680184  0.569767  0.343635  \n",
              "4  0.335165  0.363636  0.752545  0.441860  0.520958  "
            ],
            "text/html": [
              "\n",
              "  <div id=\"df-9e275ea5-c712-4979-893b-68d71743d2c5\">\n",
              "    <div class=\"colab-df-container\">\n",
              "      <div>\n",
              "<style scoped>\n",
              "    .dataframe tbody tr th:only-of-type {\n",
              "        vertical-align: middle;\n",
              "    }\n",
              "\n",
              "    .dataframe tbody tr th {\n",
              "        vertical-align: top;\n",
              "    }\n",
              "\n",
              "    .dataframe thead th {\n",
              "        text-align: right;\n",
              "    }\n",
              "</style>\n",
              "<table border=\"1\" class=\"dataframe\">\n",
              "  <thead>\n",
              "    <tr style=\"text-align: right;\">\n",
              "      <th></th>\n",
              "      <th>ERA+</th>\n",
              "      <th>OPS+</th>\n",
              "      <th>RA/G</th>\n",
              "      <th>SV</th>\n",
              "      <th>1Run</th>\n",
              "      <th>Under500</th>\n",
              "      <th>BB_P</th>\n",
              "      <th>H_P</th>\n",
              "      <th>R/G</th>\n",
              "      <th>#a-tA-S</th>\n",
              "      <th>DefEff</th>\n",
              "      <th>HR_P</th>\n",
              "      <th>BatAge</th>\n",
              "      <th>BB</th>\n",
              "      <th>WP</th>\n",
              "      <th>HR</th>\n",
              "      <th>SOS</th>\n",
              "      <th>IP</th>\n",
              "      <th>Rtot</th>\n",
              "      <th>IBB</th>\n",
              "    </tr>\n",
              "  </thead>\n",
              "  <tbody>\n",
              "    <tr>\n",
              "      <th>0</th>\n",
              "      <td>0.173913</td>\n",
              "      <td>0.44</td>\n",
              "      <td>0.477612</td>\n",
              "      <td>0.302094</td>\n",
              "      <td>0.559387</td>\n",
              "      <td>0.402703</td>\n",
              "      <td>0.429180</td>\n",
              "      <td>0.622353</td>\n",
              "      <td>0.339394</td>\n",
              "      <td>0.45</td>\n",
              "      <td>0.602041</td>\n",
              "      <td>0.418914</td>\n",
              "      <td>0.292135</td>\n",
              "      <td>0.465585</td>\n",
              "      <td>0.687796</td>\n",
              "      <td>0.380797</td>\n",
              "      <td>0.545455</td>\n",
              "      <td>0.678982</td>\n",
              "      <td>0.391473</td>\n",
              "      <td>0.288005</td>\n",
              "    </tr>\n",
              "    <tr>\n",
              "      <th>1</th>\n",
              "      <td>0.637681</td>\n",
              "      <td>0.32</td>\n",
              "      <td>0.000000</td>\n",
              "      <td>0.194577</td>\n",
              "      <td>0.390805</td>\n",
              "      <td>0.389189</td>\n",
              "      <td>0.154861</td>\n",
              "      <td>0.181001</td>\n",
              "      <td>0.133333</td>\n",
              "      <td>0.65</td>\n",
              "      <td>1.000000</td>\n",
              "      <td>0.123964</td>\n",
              "      <td>0.460674</td>\n",
              "      <td>0.410213</td>\n",
              "      <td>0.262041</td>\n",
              "      <td>0.213898</td>\n",
              "      <td>0.454545</td>\n",
              "      <td>0.697641</td>\n",
              "      <td>0.841085</td>\n",
              "      <td>0.380978</td>\n",
              "    </tr>\n",
              "    <tr>\n",
              "      <th>2</th>\n",
              "      <td>0.231884</td>\n",
              "      <td>0.56</td>\n",
              "      <td>0.300995</td>\n",
              "      <td>0.265422</td>\n",
              "      <td>0.641762</td>\n",
              "      <td>0.385135</td>\n",
              "      <td>0.429180</td>\n",
              "      <td>0.464920</td>\n",
              "      <td>0.363636</td>\n",
              "      <td>0.75</td>\n",
              "      <td>0.581633</td>\n",
              "      <td>0.189573</td>\n",
              "      <td>0.483146</td>\n",
              "      <td>0.440077</td>\n",
              "      <td>0.221357</td>\n",
              "      <td>0.303797</td>\n",
              "      <td>0.454545</td>\n",
              "      <td>0.710241</td>\n",
              "      <td>0.372093</td>\n",
              "      <td>0.322774</td>\n",
              "    </tr>\n",
              "    <tr>\n",
              "      <th>3</th>\n",
              "      <td>0.275362</td>\n",
              "      <td>0.36</td>\n",
              "      <td>0.161692</td>\n",
              "      <td>0.100396</td>\n",
              "      <td>0.618774</td>\n",
              "      <td>0.271622</td>\n",
              "      <td>0.688073</td>\n",
              "      <td>0.159225</td>\n",
              "      <td>0.000000</td>\n",
              "      <td>0.40</td>\n",
              "      <td>0.867347</td>\n",
              "      <td>0.142855</td>\n",
              "      <td>0.505618</td>\n",
              "      <td>0.021753</td>\n",
              "      <td>0.435667</td>\n",
              "      <td>0.126699</td>\n",
              "      <td>0.454545</td>\n",
              "      <td>0.680184</td>\n",
              "      <td>0.569767</td>\n",
              "      <td>0.343635</td>\n",
              "    </tr>\n",
              "    <tr>\n",
              "      <th>4</th>\n",
              "      <td>0.594203</td>\n",
              "      <td>0.46</td>\n",
              "      <td>0.208955</td>\n",
              "      <td>0.390013</td>\n",
              "      <td>0.392720</td>\n",
              "      <td>0.528378</td>\n",
              "      <td>0.204570</td>\n",
              "      <td>0.482468</td>\n",
              "      <td>0.442424</td>\n",
              "      <td>0.60</td>\n",
              "      <td>0.663265</td>\n",
              "      <td>0.233241</td>\n",
              "      <td>0.606742</td>\n",
              "      <td>0.540521</td>\n",
              "      <td>0.218771</td>\n",
              "      <td>0.335165</td>\n",
              "      <td>0.363636</td>\n",
              "      <td>0.752545</td>\n",
              "      <td>0.441860</td>\n",
              "      <td>0.520958</td>\n",
              "    </tr>\n",
              "  </tbody>\n",
              "</table>\n",
              "</div>\n",
              "      <button class=\"colab-df-convert\" onclick=\"convertToInteractive('df-9e275ea5-c712-4979-893b-68d71743d2c5')\"\n",
              "              title=\"Convert this dataframe to an interactive table.\"\n",
              "              style=\"display:none;\">\n",
              "        \n",
              "  <svg xmlns=\"http://www.w3.org/2000/svg\" height=\"24px\"viewBox=\"0 0 24 24\"\n",
              "       width=\"24px\">\n",
              "    <path d=\"M0 0h24v24H0V0z\" fill=\"none\"/>\n",
              "    <path d=\"M18.56 5.44l.94 2.06.94-2.06 2.06-.94-2.06-.94-.94-2.06-.94 2.06-2.06.94zm-11 1L8.5 8.5l.94-2.06 2.06-.94-2.06-.94L8.5 2.5l-.94 2.06-2.06.94zm10 10l.94 2.06.94-2.06 2.06-.94-2.06-.94-.94-2.06-.94 2.06-2.06.94z\"/><path d=\"M17.41 7.96l-1.37-1.37c-.4-.4-.92-.59-1.43-.59-.52 0-1.04.2-1.43.59L10.3 9.45l-7.72 7.72c-.78.78-.78 2.05 0 2.83L4 21.41c.39.39.9.59 1.41.59.51 0 1.02-.2 1.41-.59l7.78-7.78 2.81-2.81c.8-.78.8-2.07 0-2.86zM5.41 20L4 18.59l7.72-7.72 1.47 1.35L5.41 20z\"/>\n",
              "  </svg>\n",
              "      </button>\n",
              "      \n",
              "  <style>\n",
              "    .colab-df-container {\n",
              "      display:flex;\n",
              "      flex-wrap:wrap;\n",
              "      gap: 12px;\n",
              "    }\n",
              "\n",
              "    .colab-df-convert {\n",
              "      background-color: #E8F0FE;\n",
              "      border: none;\n",
              "      border-radius: 50%;\n",
              "      cursor: pointer;\n",
              "      display: none;\n",
              "      fill: #1967D2;\n",
              "      height: 32px;\n",
              "      padding: 0 0 0 0;\n",
              "      width: 32px;\n",
              "    }\n",
              "\n",
              "    .colab-df-convert:hover {\n",
              "      background-color: #E2EBFA;\n",
              "      box-shadow: 0px 1px 2px rgba(60, 64, 67, 0.3), 0px 1px 3px 1px rgba(60, 64, 67, 0.15);\n",
              "      fill: #174EA6;\n",
              "    }\n",
              "\n",
              "    [theme=dark] .colab-df-convert {\n",
              "      background-color: #3B4455;\n",
              "      fill: #D2E3FC;\n",
              "    }\n",
              "\n",
              "    [theme=dark] .colab-df-convert:hover {\n",
              "      background-color: #434B5C;\n",
              "      box-shadow: 0px 1px 3px 1px rgba(0, 0, 0, 0.15);\n",
              "      filter: drop-shadow(0px 1px 2px rgba(0, 0, 0, 0.3));\n",
              "      fill: #FFFFFF;\n",
              "    }\n",
              "  </style>\n",
              "\n",
              "      <script>\n",
              "        const buttonEl =\n",
              "          document.querySelector('#df-9e275ea5-c712-4979-893b-68d71743d2c5 button.colab-df-convert');\n",
              "        buttonEl.style.display =\n",
              "          google.colab.kernel.accessAllowed ? 'block' : 'none';\n",
              "\n",
              "        async function convertToInteractive(key) {\n",
              "          const element = document.querySelector('#df-9e275ea5-c712-4979-893b-68d71743d2c5');\n",
              "          const dataTable =\n",
              "            await google.colab.kernel.invokeFunction('convertToInteractive',\n",
              "                                                     [key], {});\n",
              "          if (!dataTable) return;\n",
              "\n",
              "          const docLinkHtml = 'Like what you see? Visit the ' +\n",
              "            '<a target=\"_blank\" href=https://colab.research.google.com/notebooks/data_table.ipynb>data table notebook</a>'\n",
              "            + ' to learn more about interactive tables.';\n",
              "          element.innerHTML = '';\n",
              "          dataTable['output_type'] = 'display_data';\n",
              "          await google.colab.output.renderOutput(dataTable, element);\n",
              "          const docLink = document.createElement('div');\n",
              "          docLink.innerHTML = docLinkHtml;\n",
              "          element.appendChild(docLink);\n",
              "        }\n",
              "      </script>\n",
              "    </div>\n",
              "  </div>\n",
              "  "
            ]
          },
          "metadata": {},
          "execution_count": 4
        }
      ]
    },
    {
      "cell_type": "code",
      "source": [
        "# A stratified train-test split is performed on the dataset, with 80% of the data assigned to training set and 20% assigned to testing set.\n",
        "\n",
        "X_train, X_test, y_train, y_test = train_test_split(X, y, test_size=0.2, random_state=1, stratify=y)"
      ],
      "metadata": {
        "id": "B3tLEX9IDulL"
      },
      "execution_count": null,
      "outputs": []
    },
    {
      "cell_type": "code",
      "source": [
        "# Parameter for Random Forest algorithm\n",
        "\n",
        "n_estimators = np.arange(10,105,5)"
      ],
      "metadata": {
        "id": "tu77KHQsD1hd"
      },
      "execution_count": null,
      "outputs": []
    },
    {
      "cell_type": "code",
      "source": [
        "# 10-fold cross validation is performed on the training set for parameter tuning.\n",
        "# The n_estimators parameter is assessed for accuracy\n",
        "\n",
        "train_scores, valid_scores = validation_curve(RandomForestClassifier(random_state=1), X_train, y_train, param_name=\"n_estimators\", param_range=n_estimators, scoring='accuracy', cv=10)\n",
        "train_scores_mean = np.mean(train_scores, axis=1)\n",
        "valid_scores_mean = np.mean(valid_scores, axis=1)\n",
        "\n",
        "print(valid_scores_mean)\n",
        "plt.title(\"Validation Curve with Random Forest\")\n",
        "plt.xlabel(\"n_estimators\")\n",
        "plt.ylabel(\"Accuracy\")\n",
        "plt.xticks(np.arange(10,105,step=5))\n",
        "plt.plot(n_estimators, train_scores_mean, label=\"train accuracy\")\n",
        "plt.plot(n_estimators, valid_scores_mean, label=\"validation accuracy\")\n",
        "\n",
        "plt.legend()\n",
        "plt.show()"
      ],
      "metadata": {
        "colab": {
          "base_uri": "https://localhost:8080/",
          "height": 365
        },
        "id": "ejQ-YE6YD5K9",
        "outputId": "2b203868-1880-4263-a489-6a66f90fd14d"
      },
      "execution_count": null,
      "outputs": [
        {
          "output_type": "stream",
          "name": "stdout",
          "text": [
            "[0.8969112  0.90320142 0.90320946 0.91488095 0.91578185 0.91668275\n",
            " 0.91753539 0.92117117 0.92471042 0.91846042 0.92471847 0.92292471\n",
            " 0.92741313 0.92742921 0.9256435  0.92117117 0.92115508 0.91936937\n",
            " 0.91936133]\n"
          ]
        },
        {
          "output_type": "display_data",
          "data": {
            "text/plain": [
              "<Figure size 432x288 with 1 Axes>"
            ],
            "image/png": "[encoded data removed]"
          },
          "metadata": {
            "needs_background": "light"
          }
        }
      ]
    },
    {
      "cell_type": "code",
      "source": [
        "# The standard deviation is evaluated for each value of n_estimators \n",
        "\n",
        "train_scores, valid_scores = validation_curve(RandomForestClassifier(random_state=1), X_train, y_train, param_name=\"n_estimators\", param_range=n_estimators, scoring='accuracy', cv=10)\n",
        "train_scores_std = np.std(train_scores, axis=1)\n",
        "valid_scores_std = np.std(valid_scores, axis=1)\n",
        "\n",
        "print(valid_scores_std)\n",
        "plt.title(\"Validation Curve with Random Forest\")\n",
        "plt.xlabel(\"n_estimators\")\n",
        "plt.ylabel(\"Std. Deviation\")\n",
        "plt.xticks(np.arange(10,105,step=5))\n",
        "plt.plot(n_estimators, train_scores_std, label=\"train accuracy\")\n",
        "plt.plot(n_estimators, valid_scores_std, label=\"validation accuracy\")\n",
        "\n",
        "plt.legend()\n",
        "plt.show()"
      ],
      "metadata": {
        "colab": {
          "base_uri": "https://localhost:8080/",
          "height": 365
        },
        "id": "Ndljy3bYFwM8",
        "outputId": "584fae37-fe84-44ab-8d1c-c8b514fdab85"
      },
      "execution_count": null,
      "outputs": [
        {
          "output_type": "stream",
          "name": "stdout",
          "text": [
            "[0.02458824 0.02506996 0.01652545 0.01143407 0.0170369  0.02624408\n",
            " 0.0294327  0.02318071 0.02513347 0.02841549 0.02472512 0.02537723\n",
            " 0.02513824 0.02052375 0.02111502 0.02450599 0.02250297 0.02852785\n",
            " 0.02260322]\n"
          ]
        },
        {
          "output_type": "display_data",
          "data": {
            "text/plain": [
              "<Figure size 432x288 with 1 Axes>"
            ],
            "image/png": "[encoded data removed]"
          },
          "metadata": {
            "needs_background": "light"
          }
        }
      ]
    },
    {
      "cell_type": "code",
      "source": [
        "RF = RandomForestClassifier(random_state=1, n_estimators=70)\n",
        "RF.fit(X_train, y_train)\n",
        "y_pred = RF.predict(X_test)\n",
        "cm = metrics.confusion_matrix(y_test, y_pred)"
      ],
      "metadata": {
        "id": "t-PlySITEjnK"
      },
      "execution_count": null,
      "outputs": []
    },
    {
      "cell_type": "code",
      "source": [
        "plt.figure(figsize=(5,5))\n",
        "sns.heatmap(cm, annot=True, fmt=\".0f\", linewidths=.5, square = True, cmap = 'Blues_r');\n",
        "plt.ylabel('Actual label');\n",
        "plt.xlabel('Predicted label');\n",
        "all_sample_title = 'Accuracy Score: {0}'.format(round(accuracy_score(y_test, y_pred),3))\n",
        "plt.title(all_sample_title, size = 15);"
      ],
      "metadata": {
        "colab": {
          "base_uri": "https://localhost:8080/",
          "height": 309
        },
        "id": "M9QuOcUGglf-",
        "outputId": "830c3b8d-32c6-431f-d2e1-af18ecb24a87"
      },
      "execution_count": null,
      "outputs": [
        {
          "output_type": "display_data",
          "data": {
            "text/plain": [
              "<Figure size 360x360 with 2 Axes>"
            ],
            "image/png": "[encoded data removed]"
          },
          "metadata": {
            "needs_background": "light"
          }
        }
      ]
    },
    {
      "cell_type": "code",
      "source": [
        "tn, fp, fn, tp=cm.ravel()\n",
        "print (\"TP: \", tp,\"\\n\" \"FP: \",fp,\"\\n\" \"TN: \", tn,\"\\n\" \"FN: \",fn)\n",
        "print()\n",
        "print(classification_report(y_test, y_pred))"
      ],
      "metadata": {
        "colab": {
          "base_uri": "https://localhost:8080/"
        },
        "id": "b9zDBwPZ3YGV",
        "outputId": "efe5a427-23da-486f-e651-a33944804f9d"
      },
      "execution_count": null,
      "outputs": [
        {
          "output_type": "stream",
          "name": "stdout",
          "text": [
            "TP:  126 \n",
            "FP:  7 \n",
            "TN:  129 \n",
            "FN:  18\n",
            "\n",
            "              precision    recall  f1-score   support\n",
            "\n",
            "           0       0.88      0.95      0.91       136\n",
            "           1       0.95      0.88      0.91       144\n",
            "\n",
            "    accuracy                           0.91       280\n",
            "   macro avg       0.91      0.91      0.91       280\n",
            "weighted avg       0.91      0.91      0.91       280\n",
            "\n"
          ]
        }
      ]
    },
    {
      "cell_type": "markdown",
      "source": [
        "# ANOVA F-test"
      ],
      "metadata": {
        "id": "hFdSiIaLOt46"
      }
    },
    {
      "cell_type": "code",
      "source": [
        "# The above process is now repeated for the top 20 features as selected by the ANOVA F-test selection algorithm.\n",
        "\n",
        "X = featuresFC.iloc[:,0:20]\n",
        "y = featuresFC['WinningRecord']"
      ],
      "metadata": {
        "id": "rm39K5ccOvs7"
      },
      "execution_count": null,
      "outputs": []
    },
    {
      "cell_type": "code",
      "source": [
        "featuresFC.iloc[:,0:20].head()"
      ],
      "metadata": {
        "colab": {
          "base_uri": "https://localhost:8080/",
          "height": 305
        },
        "id": "HwXPY6TmWqXV",
        "outputId": "42dd059f-9cc8-4d83-9a7a-0ea04f4977d3"
      },
      "execution_count": null,
      "outputs": [
        {
          "output_type": "execute_result",
          "data": {
            "text/plain": [
              "       ERA+      RA/G  OPS+      1Run       H_P        SV      BB_P  #a-tA-S  \\\n",
              "0  0.173913  0.477612  0.44  0.559387  0.622353  0.302094  0.429180     0.45   \n",
              "1  0.637681  0.000000  0.32  0.390805  0.181001  0.194577  0.154861     0.65   \n",
              "2  0.231884  0.300995  0.56  0.641762  0.464920  0.265422  0.429180     0.75   \n",
              "3  0.275362  0.161692  0.36  0.618774  0.159225  0.100396  0.688073     0.40   \n",
              "4  0.594203  0.208955  0.46  0.392720  0.482468  0.390013  0.204570     0.60   \n",
              "\n",
              "        R/G    DefEff      Rtot  Under500        IP        BB      PAge  \\\n",
              "0  0.339394  0.602041  0.391473  0.402703  0.678982  0.465585  0.405941   \n",
              "1  0.133333  1.000000  0.841085  0.389189  0.697641  0.410213  0.465347   \n",
              "2  0.363636  0.581633  0.372093  0.385135  0.710241  0.440077  0.475248   \n",
              "3  0.000000  0.867347  0.569767  0.271622  0.680184  0.021753  0.336634   \n",
              "4  0.442424  0.663265  0.441860  0.528378  0.752545  0.540521  0.455446   \n",
              "\n",
              "         PA       IBB    BatAge      HR_P        SF  \n",
              "0  0.594126  0.288005  0.292135  0.418914  0.358281  \n",
              "1  0.356231  0.380978  0.460674  0.123964  0.398932  \n",
              "2  0.523644  0.322774  0.483146  0.189573  0.538171  \n",
              "3  0.279588  0.343635  0.505618  0.142855  0.124424  \n",
              "4  0.566620  0.520958  0.606742  0.233241  0.443268  "
            ],
            "text/html": [
              "\n",
              "  <div id=\"df-30d0fc19-36ec-41a6-ad6b-2df1a8b55cff\">\n",
              "    <div class=\"colab-df-container\">\n",
              "      <div>\n",
              "<style scoped>\n",
              "    .dataframe tbody tr th:only-of-type {\n",
              "        vertical-align: middle;\n",
              "    }\n",
              "\n",
              "    .dataframe tbody tr th {\n",
              "        vertical-align: top;\n",
              "    }\n",
              "\n",
              "    .dataframe thead th {\n",
              "        text-align: right;\n",
              "    }\n",
              "</style>\n",
              "<table border=\"1\" class=\"dataframe\">\n",
              "  <thead>\n",
              "    <tr style=\"text-align: right;\">\n",
              "      <th></th>\n",
              "      <th>ERA+</th>\n",
              "      <th>RA/G</th>\n",
              "      <th>OPS+</th>\n",
              "      <th>1Run</th>\n",
              "      <th>H_P</th>\n",
              "      <th>SV</th>\n",
              "      <th>BB_P</th>\n",
              "      <th>#a-tA-S</th>\n",
              "      <th>R/G</th>\n",
              "      <th>DefEff</th>\n",
              "      <th>Rtot</th>\n",
              "      <th>Under500</th>\n",
              "      <th>IP</th>\n",
              "      <th>BB</th>\n",
              "      <th>PAge</th>\n",
              "      <th>PA</th>\n",
              "      <th>IBB</th>\n",
              "      <th>BatAge</th>\n",
              "      <th>HR_P</th>\n",
              "      <th>SF</th>\n",
              "    </tr>\n",
              "  </thead>\n",
              "  <tbody>\n",
              "    <tr>\n",
              "      <th>0</th>\n",
              "      <td>0.173913</td>\n",
              "      <td>0.477612</td>\n",
              "      <td>0.44</td>\n",
              "      <td>0.559387</td>\n",
              "      <td>0.622353</td>\n",
              "      <td>0.302094</td>\n",
              "      <td>0.429180</td>\n",
              "      <td>0.45</td>\n",
              "      <td>0.339394</td>\n",
              "      <td>0.602041</td>\n",
              "      <td>0.391473</td>\n",
              "      <td>0.402703</td>\n",
              "      <td>0.678982</td>\n",
              "      <td>0.465585</td>\n",
              "      <td>0.405941</td>\n",
              "      <td>0.594126</td>\n",
              "      <td>0.288005</td>\n",
              "      <td>0.292135</td>\n",
              "      <td>0.418914</td>\n",
              "      <td>0.358281</td>\n",
              "    </tr>\n",
              "    <tr>\n",
              "      <th>1</th>\n",
              "      <td>0.637681</td>\n",
              "      <td>0.000000</td>\n",
              "      <td>0.32</td>\n",
              "      <td>0.390805</td>\n",
              "      <td>0.181001</td>\n",
              "      <td>0.194577</td>\n",
              "      <td>0.154861</td>\n",
              "      <td>0.65</td>\n",
              "      <td>0.133333</td>\n",
              "      <td>1.000000</td>\n",
              "      <td>0.841085</td>\n",
              "      <td>0.389189</td>\n",
              "      <td>0.697641</td>\n",
              "      <td>0.410213</td>\n",
              "      <td>0.465347</td>\n",
              "      <td>0.356231</td>\n",
              "      <td>0.380978</td>\n",
              "      <td>0.460674</td>\n",
              "      <td>0.123964</td>\n",
              "      <td>0.398932</td>\n",
              "    </tr>\n",
              "    <tr>\n",
              "      <th>2</th>\n",
              "      <td>0.231884</td>\n",
              "      <td>0.300995</td>\n",
              "      <td>0.56</td>\n",
              "      <td>0.641762</td>\n",
              "      <td>0.464920</td>\n",
              "      <td>0.265422</td>\n",
              "      <td>0.429180</td>\n",
              "      <td>0.75</td>\n",
              "      <td>0.363636</td>\n",
              "      <td>0.581633</td>\n",
              "      <td>0.372093</td>\n",
              "      <td>0.385135</td>\n",
              "      <td>0.710241</td>\n",
              "      <td>0.440077</td>\n",
              "      <td>0.475248</td>\n",
              "      <td>0.523644</td>\n",
              "      <td>0.322774</td>\n",
              "      <td>0.483146</td>\n",
              "      <td>0.189573</td>\n",
              "      <td>0.538171</td>\n",
              "    </tr>\n",
              "    <tr>\n",
              "      <th>3</th>\n",
              "      <td>0.275362</td>\n",
              "      <td>0.161692</td>\n",
              "      <td>0.36</td>\n",
              "      <td>0.618774</td>\n",
              "      <td>0.159225</td>\n",
              "      <td>0.100396</td>\n",
              "      <td>0.688073</td>\n",
              "      <td>0.40</td>\n",
              "      <td>0.000000</td>\n",
              "      <td>0.867347</td>\n",
              "      <td>0.569767</td>\n",
              "      <td>0.271622</td>\n",
              "      <td>0.680184</td>\n",
              "      <td>0.021753</td>\n",
              "      <td>0.336634</td>\n",
              "      <td>0.279588</td>\n",
              "      <td>0.343635</td>\n",
              "      <td>0.505618</td>\n",
              "      <td>0.142855</td>\n",
              "      <td>0.124424</td>\n",
              "    </tr>\n",
              "    <tr>\n",
              "      <th>4</th>\n",
              "      <td>0.594203</td>\n",
              "      <td>0.208955</td>\n",
              "      <td>0.46</td>\n",
              "      <td>0.392720</td>\n",
              "      <td>0.482468</td>\n",
              "      <td>0.390013</td>\n",
              "      <td>0.204570</td>\n",
              "      <td>0.60</td>\n",
              "      <td>0.442424</td>\n",
              "      <td>0.663265</td>\n",
              "      <td>0.441860</td>\n",
              "      <td>0.528378</td>\n",
              "      <td>0.752545</td>\n",
              "      <td>0.540521</td>\n",
              "      <td>0.455446</td>\n",
              "      <td>0.566620</td>\n",
              "      <td>0.520958</td>\n",
              "      <td>0.606742</td>\n",
              "      <td>0.233241</td>\n",
              "      <td>0.443268</td>\n",
              "    </tr>\n",
              "  </tbody>\n",
              "</table>\n",
              "</div>\n",
              "      <button class=\"colab-df-convert\" onclick=\"convertToInteractive('df-30d0fc19-36ec-41a6-ad6b-2df1a8b55cff')\"\n",
              "              title=\"Convert this dataframe to an interactive table.\"\n",
              "              style=\"display:none;\">\n",
              "        \n",
              "  <svg xmlns=\"http://www.w3.org/2000/svg\" height=\"24px\"viewBox=\"0 0 24 24\"\n",
              "       width=\"24px\">\n",
              "    <path d=\"M0 0h24v24H0V0z\" fill=\"none\"/>\n",
              "    <path d=\"M18.56 5.44l.94 2.06.94-2.06 2.06-.94-2.06-.94-.94-2.06-.94 2.06-2.06.94zm-11 1L8.5 8.5l.94-2.06 2.06-.94-2.06-.94L8.5 2.5l-.94 2.06-2.06.94zm10 10l.94 2.06.94-2.06 2.06-.94-2.06-.94-.94-2.06-.94 2.06-2.06.94z\"/><path d=\"M17.41 7.96l-1.37-1.37c-.4-.4-.92-.59-1.43-.59-.52 0-1.04.2-1.43.59L10.3 9.45l-7.72 7.72c-.78.78-.78 2.05 0 2.83L4 21.41c.39.39.9.59 1.41.59.51 0 1.02-.2 1.41-.59l7.78-7.78 2.81-2.81c.8-.78.8-2.07 0-2.86zM5.41 20L4 18.59l7.72-7.72 1.47 1.35L5.41 20z\"/>\n",
              "  </svg>\n",
              "      </button>\n",
              "      \n",
              "  <style>\n",
              "    .colab-df-container {\n",
              "      display:flex;\n",
              "      flex-wrap:wrap;\n",
              "      gap: 12px;\n",
              "    }\n",
              "\n",
              "    .colab-df-convert {\n",
              "      background-color: #E8F0FE;\n",
              "      border: none;\n",
              "      border-radius: 50%;\n",
              "      cursor: pointer;\n",
              "      display: none;\n",
              "      fill: #1967D2;\n",
              "      height: 32px;\n",
              "      padding: 0 0 0 0;\n",
              "      width: 32px;\n",
              "    }\n",
              "\n",
              "    .colab-df-convert:hover {\n",
              "      background-color: #E2EBFA;\n",
              "      box-shadow: 0px 1px 2px rgba(60, 64, 67, 0.3), 0px 1px 3px 1px rgba(60, 64, 67, 0.15);\n",
              "      fill: #174EA6;\n",
              "    }\n",
              "\n",
              "    [theme=dark] .colab-df-convert {\n",
              "      background-color: #3B4455;\n",
              "      fill: #D2E3FC;\n",
              "    }\n",
              "\n",
              "    [theme=dark] .colab-df-convert:hover {\n",
              "      background-color: #434B5C;\n",
              "      box-shadow: 0px 1px 3px 1px rgba(0, 0, 0, 0.15);\n",
              "      filter: drop-shadow(0px 1px 2px rgba(0, 0, 0, 0.3));\n",
              "      fill: #FFFFFF;\n",
              "    }\n",
              "  </style>\n",
              "\n",
              "      <script>\n",
              "        const buttonEl =\n",
              "          document.querySelector('#df-30d0fc19-36ec-41a6-ad6b-2df1a8b55cff button.colab-df-convert');\n",
              "        buttonEl.style.display =\n",
              "          google.colab.kernel.accessAllowed ? 'block' : 'none';\n",
              "\n",
              "        async function convertToInteractive(key) {\n",
              "          const element = document.querySelector('#df-30d0fc19-36ec-41a6-ad6b-2df1a8b55cff');\n",
              "          const dataTable =\n",
              "            await google.colab.kernel.invokeFunction('convertToInteractive',\n",
              "                                                     [key], {});\n",
              "          if (!dataTable) return;\n",
              "\n",
              "          const docLinkHtml = 'Like what you see? Visit the ' +\n",
              "            '<a target=\"_blank\" href=https://colab.research.google.com/notebooks/data_table.ipynb>data table notebook</a>'\n",
              "            + ' to learn more about interactive tables.';\n",
              "          element.innerHTML = '';\n",
              "          dataTable['output_type'] = 'display_data';\n",
              "          await google.colab.output.renderOutput(dataTable, element);\n",
              "          const docLink = document.createElement('div');\n",
              "          docLink.innerHTML = docLinkHtml;\n",
              "          element.appendChild(docLink);\n",
              "        }\n",
              "      </script>\n",
              "    </div>\n",
              "  </div>\n",
              "  "
            ]
          },
          "metadata": {},
          "execution_count": 12
        }
      ]
    },
    {
      "cell_type": "code",
      "source": [
        "X_train, X_test, y_train, y_test = train_test_split(X, y, test_size=0.2, random_state=1, stratify=y)"
      ],
      "metadata": {
        "id": "B5GDoWiDO0_T"
      },
      "execution_count": null,
      "outputs": []
    },
    {
      "cell_type": "code",
      "source": [
        "train_scores, valid_scores = validation_curve(RandomForestClassifier(random_state=1), X_train, y_train, param_name=\"n_estimators\", param_range=n_estimators, scoring='accuracy', cv=10)\n",
        "train_scores_mean = np.mean(train_scores, axis=1)\n",
        "valid_scores_mean = np.mean(valid_scores, axis=1)\n",
        "\n",
        "print(valid_scores_mean)\n",
        "plt.title(\"Validation Curve with Random Forest\")\n",
        "plt.xlabel(\"n_estimators\")\n",
        "plt.ylabel(\"Accuracy\")\n",
        "plt.xticks(np.arange(10,105,step=5))\n",
        "plt.plot(n_estimators, train_scores_mean, label=\"train accuracy\")\n",
        "plt.plot(n_estimators, valid_scores_mean, label=\"validation accuracy\")\n",
        "\n",
        "plt.legend()\n",
        "plt.show()"
      ],
      "metadata": {
        "colab": {
          "base_uri": "https://localhost:8080/",
          "height": 365
        },
        "id": "E47kZtAlO4fD",
        "outputId": "cb04df50-1d4f-44fc-f056-f591c9b423ed"
      },
      "execution_count": null,
      "outputs": [
        {
          "output_type": "stream",
          "name": "stdout",
          "text": [
            "[0.8844112  0.90500322 0.90592021 0.90768983 0.91035232 0.91934524\n",
            " 0.91842021 0.91397201 0.91395592 0.91396396 0.91932111 0.91752735\n",
            " 0.91573359 0.91394788 0.9166184  0.91574163 0.91842825 0.91753539\n",
            " 0.91842825]\n"
          ]
        },
        {
          "output_type": "display_data",
          "data": {
            "text/plain": [
              "<Figure size 432x288 with 1 Axes>"
            ],
            "image/png": "[encoded data removed]"
          },
          "metadata": {
            "needs_background": "light"
          }
        }
      ]
    },
    {
      "cell_type": "code",
      "source": [
        "train_scores, valid_scores = validation_curve(RandomForestClassifier(random_state=1), X_train, y_train, param_name=\"n_estimators\", param_range=n_estimators, scoring='accuracy', cv=10)\n",
        "train_scores_std = np.std(train_scores, axis=1)\n",
        "valid_scores_std = np.std(valid_scores, axis=1)\n",
        "\n",
        "print(valid_scores_std)\n",
        "plt.title(\"Validation Curve with Random Forest\")\n",
        "plt.xlabel(\"n_estimators\")\n",
        "plt.ylabel(\"Std. Deviation\")\n",
        "plt.xticks(np.arange(10,105,step=5))\n",
        "plt.plot(n_estimators, train_scores_std, label=\"train accuracy\")\n",
        "plt.plot(n_estimators, valid_scores_std, label=\"validation accuracy\")\n",
        "\n",
        "plt.legend()\n",
        "plt.show()"
      ],
      "metadata": {
        "colab": {
          "base_uri": "https://localhost:8080/",
          "height": 365
        },
        "id": "EcnP_JFjPA51",
        "outputId": "c6da3201-1a3c-403c-ee87-cc67275ec897"
      },
      "execution_count": null,
      "outputs": [
        {
          "output_type": "stream",
          "name": "stdout",
          "text": [
            "[0.02811198 0.02752933 0.03232951 0.03083201 0.02756387 0.03018191\n",
            " 0.02646474 0.02338087 0.02571528 0.02409331 0.02505994 0.02404395\n",
            " 0.02249738 0.02061353 0.02420231 0.02419362 0.0203324  0.02159936\n",
            " 0.02291318]\n"
          ]
        },
        {
          "output_type": "display_data",
          "data": {
            "text/plain": [
              "<Figure size 432x288 with 1 Axes>"
            ],
            "image/png": "[encoded data removed]"
          },
          "metadata": {
            "needs_background": "light"
          }
        }
      ]
    },
    {
      "cell_type": "code",
      "source": [
        "RF = RandomForestClassifier(random_state=1, n_estimators=35)\n",
        "RF.fit(X_train, y_train)\n",
        "y_pred = RF.predict(X_test)\n",
        "cm = metrics.confusion_matrix(y_test, y_pred)"
      ],
      "metadata": {
        "id": "6jFvFkCGPZcI"
      },
      "execution_count": null,
      "outputs": []
    },
    {
      "cell_type": "code",
      "source": [
        "plt.figure(figsize=(5,5))\n",
        "sns.heatmap(cm, annot=True, fmt=\".0f\", linewidths=.5, square = True, cmap = 'Blues_r');\n",
        "plt.ylabel('Actual label');\n",
        "plt.xlabel('Predicted label');\n",
        "all_sample_title = 'Accuracy Score: {0}'.format(round(accuracy_score(y_test, y_pred),3))\n",
        "plt.title(all_sample_title, size = 15);"
      ],
      "metadata": {
        "colab": {
          "base_uri": "https://localhost:8080/",
          "height": 309
        },
        "id": "Al2cDcpzPeAI",
        "outputId": "7a77fc38-3afe-4b0a-cb96-328228a7ad6a"
      },
      "execution_count": null,
      "outputs": [
        {
          "output_type": "display_data",
          "data": {
            "text/plain": [
              "<Figure size 360x360 with 2 Axes>"
            ],
            "image/png": "[encoded data removed]"
          },
          "metadata": {
            "needs_background": "light"
          }
        }
      ]
    },
    {
      "cell_type": "code",
      "source": [
        "tn, fp, fn, tp=cm.ravel()\n",
        "print (\"TP: \", tp,\"\\n\" \"FP: \",fp,\"\\n\" \"TN: \", tn,\"\\n\" \"FN: \",fn)\n",
        "print()\n",
        "print(classification_report(y_test, y_pred))"
      ],
      "metadata": {
        "colab": {
          "base_uri": "https://localhost:8080/"
        },
        "id": "s208fPnx5L90",
        "outputId": "4a4d903f-11dd-487d-f1ee-c53e32fc5db9"
      },
      "execution_count": null,
      "outputs": [
        {
          "output_type": "stream",
          "name": "stdout",
          "text": [
            "TP:  129 \n",
            "FP:  7 \n",
            "TN:  129 \n",
            "FN:  15\n",
            "\n",
            "              precision    recall  f1-score   support\n",
            "\n",
            "           0       0.90      0.95      0.92       136\n",
            "           1       0.95      0.90      0.92       144\n",
            "\n",
            "    accuracy                           0.92       280\n",
            "   macro avg       0.92      0.92      0.92       280\n",
            "weighted avg       0.92      0.92      0.92       280\n",
            "\n"
          ]
        }
      ]
    },
    {
      "cell_type": "markdown",
      "source": [
        "# Random Forest"
      ],
      "metadata": {
        "id": "JOBRY_xJQX2A"
      }
    },
    {
      "cell_type": "code",
      "source": [
        "# The above process is now repeated for the top 20 features as selected by the Random Forest selection algorithm.\n",
        "\n",
        "X = featuresRFC.iloc[:,0:20]\n",
        "y = featuresRFC['WinningRecord']"
      ],
      "metadata": {
        "id": "Tr4LIaZPQXa_"
      },
      "execution_count": null,
      "outputs": []
    },
    {
      "cell_type": "code",
      "source": [
        "featuresRFC.iloc[:,0:20].head()"
      ],
      "metadata": {
        "colab": {
          "base_uri": "https://localhost:8080/",
          "height": 305
        },
        "id": "jNSHs322WsGk",
        "outputId": "b204bb3b-38d7-4454-a1ec-112ed98578dd"
      },
      "execution_count": null,
      "outputs": [
        {
          "output_type": "execute_result",
          "data": {
            "text/plain": [
              "       ERA+  OPS+      RA/G       R/G      1Run        SV       H_P      BB_P  \\\n",
              "0  0.173913  0.44  0.477612  0.339394  0.559387  0.302094  0.622353  0.429180   \n",
              "1  0.637681  0.32  0.000000  0.133333  0.390805  0.194577  0.181001  0.154861   \n",
              "2  0.231884  0.56  0.300995  0.363636  0.641762  0.265422  0.464920  0.429180   \n",
              "3  0.275362  0.36  0.161692  0.000000  0.618774  0.100396  0.159225  0.688073   \n",
              "4  0.594203  0.46  0.208955  0.442424  0.392720  0.390013  0.482468  0.204570   \n",
              "\n",
              "   #a-tA-S  Under500    DefEff      Rtot        PA        IP        BB  \\\n",
              "0     0.45  0.402703  0.602041  0.391473  0.594126  0.678982  0.465585   \n",
              "1     0.65  0.389189  1.000000  0.841085  0.356231  0.697641  0.410213   \n",
              "2     0.75  0.385135  0.581633  0.372093  0.523644  0.710241  0.440077   \n",
              "3     0.40  0.271622  0.867347  0.569767  0.279588  0.680184  0.021753   \n",
              "4     0.60  0.528378  0.663265  0.441860  0.566620  0.752545  0.540521   \n",
              "\n",
              "       PAge      HR_P        HR    BatAge       IBB  \n",
              "0  0.405941  0.418914  0.380797  0.292135  0.288005  \n",
              "1  0.465347  0.123964  0.213898  0.460674  0.380978  \n",
              "2  0.475248  0.189573  0.303797  0.483146  0.322774  \n",
              "3  0.336634  0.142855  0.126699  0.505618  0.343635  \n",
              "4  0.455446  0.233241  0.335165  0.606742  0.520958  "
            ],
            "text/html": [
              "\n",
              "  <div id=\"df-9be1fc04-33c2-41db-973b-efa9d8f0c5f5\">\n",
              "    <div class=\"colab-df-container\">\n",
              "      <div>\n",
              "<style scoped>\n",
              "    .dataframe tbody tr th:only-of-type {\n",
              "        vertical-align: middle;\n",
              "    }\n",
              "\n",
              "    .dataframe tbody tr th {\n",
              "        vertical-align: top;\n",
              "    }\n",
              "\n",
              "    .dataframe thead th {\n",
              "        text-align: right;\n",
              "    }\n",
              "</style>\n",
              "<table border=\"1\" class=\"dataframe\">\n",
              "  <thead>\n",
              "    <tr style=\"text-align: right;\">\n",
              "      <th></th>\n",
              "      <th>ERA+</th>\n",
              "      <th>OPS+</th>\n",
              "      <th>RA/G</th>\n",
              "      <th>R/G</th>\n",
              "      <th>1Run</th>\n",
              "      <th>SV</th>\n",
              "      <th>H_P</th>\n",
              "      <th>BB_P</th>\n",
              "      <th>#a-tA-S</th>\n",
              "      <th>Under500</th>\n",
              "      <th>DefEff</th>\n",
              "      <th>Rtot</th>\n",
              "      <th>PA</th>\n",
              "      <th>IP</th>\n",
              "      <th>BB</th>\n",
              "      <th>PAge</th>\n",
              "      <th>HR_P</th>\n",
              "      <th>HR</th>\n",
              "      <th>BatAge</th>\n",
              "      <th>IBB</th>\n",
              "    </tr>\n",
              "  </thead>\n",
              "  <tbody>\n",
              "    <tr>\n",
              "      <th>0</th>\n",
              "      <td>0.173913</td>\n",
              "      <td>0.44</td>\n",
              "      <td>0.477612</td>\n",
              "      <td>0.339394</td>\n",
              "      <td>0.559387</td>\n",
              "      <td>0.302094</td>\n",
              "      <td>0.622353</td>\n",
              "      <td>0.429180</td>\n",
              "      <td>0.45</td>\n",
              "      <td>0.402703</td>\n",
              "      <td>0.602041</td>\n",
              "      <td>0.391473</td>\n",
              "      <td>0.594126</td>\n",
              "      <td>0.678982</td>\n",
              "      <td>0.465585</td>\n",
              "      <td>0.405941</td>\n",
              "      <td>0.418914</td>\n",
              "      <td>0.380797</td>\n",
              "      <td>0.292135</td>\n",
              "      <td>0.288005</td>\n",
              "    </tr>\n",
              "    <tr>\n",
              "      <th>1</th>\n",
              "      <td>0.637681</td>\n",
              "      <td>0.32</td>\n",
              "      <td>0.000000</td>\n",
              "      <td>0.133333</td>\n",
              "      <td>0.390805</td>\n",
              "      <td>0.194577</td>\n",
              "      <td>0.181001</td>\n",
              "      <td>0.154861</td>\n",
              "      <td>0.65</td>\n",
              "      <td>0.389189</td>\n",
              "      <td>1.000000</td>\n",
              "      <td>0.841085</td>\n",
              "      <td>0.356231</td>\n",
              "      <td>0.697641</td>\n",
              "      <td>0.410213</td>\n",
              "      <td>0.465347</td>\n",
              "      <td>0.123964</td>\n",
              "      <td>0.213898</td>\n",
              "      <td>0.460674</td>\n",
              "      <td>0.380978</td>\n",
              "    </tr>\n",
              "    <tr>\n",
              "      <th>2</th>\n",
              "      <td>0.231884</td>\n",
              "      <td>0.56</td>\n",
              "      <td>0.300995</td>\n",
              "      <td>0.363636</td>\n",
              "      <td>0.641762</td>\n",
              "      <td>0.265422</td>\n",
              "      <td>0.464920</td>\n",
              "      <td>0.429180</td>\n",
              "      <td>0.75</td>\n",
              "      <td>0.385135</td>\n",
              "      <td>0.581633</td>\n",
              "      <td>0.372093</td>\n",
              "      <td>0.523644</td>\n",
              "      <td>0.710241</td>\n",
              "      <td>0.440077</td>\n",
              "      <td>0.475248</td>\n",
              "      <td>0.189573</td>\n",
              "      <td>0.303797</td>\n",
              "      <td>0.483146</td>\n",
              "      <td>0.322774</td>\n",
              "    </tr>\n",
              "    <tr>\n",
              "      <th>3</th>\n",
              "      <td>0.275362</td>\n",
              "      <td>0.36</td>\n",
              "      <td>0.161692</td>\n",
              "      <td>0.000000</td>\n",
              "      <td>0.618774</td>\n",
              "      <td>0.100396</td>\n",
              "      <td>0.159225</td>\n",
              "      <td>0.688073</td>\n",
              "      <td>0.40</td>\n",
              "      <td>0.271622</td>\n",
              "      <td>0.867347</td>\n",
              "      <td>0.569767</td>\n",
              "      <td>0.279588</td>\n",
              "      <td>0.680184</td>\n",
              "      <td>0.021753</td>\n",
              "      <td>0.336634</td>\n",
              "      <td>0.142855</td>\n",
              "      <td>0.126699</td>\n",
              "      <td>0.505618</td>\n",
              "      <td>0.343635</td>\n",
              "    </tr>\n",
              "    <tr>\n",
              "      <th>4</th>\n",
              "      <td>0.594203</td>\n",
              "      <td>0.46</td>\n",
              "      <td>0.208955</td>\n",
              "      <td>0.442424</td>\n",
              "      <td>0.392720</td>\n",
              "      <td>0.390013</td>\n",
              "      <td>0.482468</td>\n",
              "      <td>0.204570</td>\n",
              "      <td>0.60</td>\n",
              "      <td>0.528378</td>\n",
              "      <td>0.663265</td>\n",
              "      <td>0.441860</td>\n",
              "      <td>0.566620</td>\n",
              "      <td>0.752545</td>\n",
              "      <td>0.540521</td>\n",
              "      <td>0.455446</td>\n",
              "      <td>0.233241</td>\n",
              "      <td>0.335165</td>\n",
              "      <td>0.606742</td>\n",
              "      <td>0.520958</td>\n",
              "    </tr>\n",
              "  </tbody>\n",
              "</table>\n",
              "</div>\n",
              "      <button class=\"colab-df-convert\" onclick=\"convertToInteractive('df-9be1fc04-33c2-41db-973b-efa9d8f0c5f5')\"\n",
              "              title=\"Convert this dataframe to an interactive table.\"\n",
              "              style=\"display:none;\">\n",
              "        \n",
              "  <svg xmlns=\"http://www.w3.org/2000/svg\" height=\"24px\"viewBox=\"0 0 24 24\"\n",
              "       width=\"24px\">\n",
              "    <path d=\"M0 0h24v24H0V0z\" fill=\"none\"/>\n",
              "    <path d=\"M18.56 5.44l.94 2.06.94-2.06 2.06-.94-2.06-.94-.94-2.06-.94 2.06-2.06.94zm-11 1L8.5 8.5l.94-2.06 2.06-.94-2.06-.94L8.5 2.5l-.94 2.06-2.06.94zm10 10l.94 2.06.94-2.06 2.06-.94-2.06-.94-.94-2.06-.94 2.06-2.06.94z\"/><path d=\"M17.41 7.96l-1.37-1.37c-.4-.4-.92-.59-1.43-.59-.52 0-1.04.2-1.43.59L10.3 9.45l-7.72 7.72c-.78.78-.78 2.05 0 2.83L4 21.41c.39.39.9.59 1.41.59.51 0 1.02-.2 1.41-.59l7.78-7.78 2.81-2.81c.8-.78.8-2.07 0-2.86zM5.41 20L4 18.59l7.72-7.72 1.47 1.35L5.41 20z\"/>\n",
              "  </svg>\n",
              "      </button>\n",
              "      \n",
              "  <style>\n",
              "    .colab-df-container {\n",
              "      display:flex;\n",
              "      flex-wrap:wrap;\n",
              "      gap: 12px;\n",
              "    }\n",
              "\n",
              "    .colab-df-convert {\n",
              "      background-color: #E8F0FE;\n",
              "      border: none;\n",
              "      border-radius: 50%;\n",
              "      cursor: pointer;\n",
              "      display: none;\n",
              "      fill: #1967D2;\n",
              "      height: 32px;\n",
              "      padding: 0 0 0 0;\n",
              "      width: 32px;\n",
              "    }\n",
              "\n",
              "    .colab-df-convert:hover {\n",
              "      background-color: #E2EBFA;\n",
              "      box-shadow: 0px 1px 2px rgba(60, 64, 67, 0.3), 0px 1px 3px 1px rgba(60, 64, 67, 0.15);\n",
              "      fill: #174EA6;\n",
              "    }\n",
              "\n",
              "    [theme=dark] .colab-df-convert {\n",
              "      background-color: #3B4455;\n",
              "      fill: #D2E3FC;\n",
              "    }\n",
              "\n",
              "    [theme=dark] .colab-df-convert:hover {\n",
              "      background-color: #434B5C;\n",
              "      box-shadow: 0px 1px 3px 1px rgba(0, 0, 0, 0.15);\n",
              "      filter: drop-shadow(0px 1px 2px rgba(0, 0, 0, 0.3));\n",
              "      fill: #FFFFFF;\n",
              "    }\n",
              "  </style>\n",
              "\n",
              "      <script>\n",
              "        const buttonEl =\n",
              "          document.querySelector('#df-9be1fc04-33c2-41db-973b-efa9d8f0c5f5 button.colab-df-convert');\n",
              "        buttonEl.style.display =\n",
              "          google.colab.kernel.accessAllowed ? 'block' : 'none';\n",
              "\n",
              "        async function convertToInteractive(key) {\n",
              "          const element = document.querySelector('#df-9be1fc04-33c2-41db-973b-efa9d8f0c5f5');\n",
              "          const dataTable =\n",
              "            await google.colab.kernel.invokeFunction('convertToInteractive',\n",
              "                                                     [key], {});\n",
              "          if (!dataTable) return;\n",
              "\n",
              "          const docLinkHtml = 'Like what you see? Visit the ' +\n",
              "            '<a target=\"_blank\" href=https://colab.research.google.com/notebooks/data_table.ipynb>data table notebook</a>'\n",
              "            + ' to learn more about interactive tables.';\n",
              "          element.innerHTML = '';\n",
              "          dataTable['output_type'] = 'display_data';\n",
              "          await google.colab.output.renderOutput(dataTable, element);\n",
              "          const docLink = document.createElement('div');\n",
              "          docLink.innerHTML = docLinkHtml;\n",
              "          element.appendChild(docLink);\n",
              "        }\n",
              "      </script>\n",
              "    </div>\n",
              "  </div>\n",
              "  "
            ]
          },
          "metadata": {},
          "execution_count": 23
        }
      ]
    },
    {
      "cell_type": "code",
      "source": [
        "X_train, X_test, y_train, y_test = train_test_split(X, y, test_size=0.2, random_state=1, stratify=y)"
      ],
      "metadata": {
        "id": "nKnNzJepQfLo"
      },
      "execution_count": null,
      "outputs": []
    },
    {
      "cell_type": "code",
      "source": [
        "train_scores, valid_scores = validation_curve(RandomForestClassifier(random_state=1), X_train, y_train, param_name=\"n_estimators\", param_range=n_estimators, scoring='accuracy', cv=10)\n",
        "train_scores_mean = np.mean(train_scores, axis=1)\n",
        "valid_scores_mean = np.mean(valid_scores, axis=1)\n",
        "\n",
        "print(valid_scores_mean)\n",
        "plt.title(\"Validation Curve with Random Forest\")\n",
        "plt.xlabel(\"n_estimators\")\n",
        "plt.ylabel(\"Accuracy\")\n",
        "plt.xticks(np.arange(10,105,step=5))\n",
        "plt.plot(n_estimators, train_scores_mean, label=\"train accuracy\")\n",
        "plt.plot(n_estimators, valid_scores_mean, label=\"validation accuracy\")\n",
        "\n",
        "plt.legend()\n",
        "plt.show()"
      ],
      "metadata": {
        "colab": {
          "base_uri": "https://localhost:8080/",
          "height": 365
        },
        "id": "yDsa6eJlQhe5",
        "outputId": "243435d9-e493-4096-bb41-4cf208c9a865"
      },
      "execution_count": null,
      "outputs": [
        {
          "output_type": "stream",
          "name": "stdout",
          "text": [
            "[0.89335586 0.89962194 0.90501126 0.90592825 0.90594434 0.90325772\n",
            " 0.91130148 0.91220238 0.91399614 0.91401223 0.914889   0.91131757\n",
            " 0.91309524 0.91668275 0.91309524 0.9139881  0.91665058 0.91397201\n",
            " 0.91395592]\n"
          ]
        },
        {
          "output_type": "display_data",
          "data": {
            "text/plain": [
              "<Figure size 432x288 with 1 Axes>"
            ],
            "image/png": "[encoded data removed]"
          },
          "metadata": {
            "needs_background": "light"
          }
        }
      ]
    },
    {
      "cell_type": "code",
      "source": [
        "train_scores, valid_scores = validation_curve(RandomForestClassifier(random_state=1), X_train, y_train, param_name=\"n_estimators\", param_range=n_estimators, scoring='accuracy', cv=10)\n",
        "train_scores_std = np.std(train_scores, axis=1)\n",
        "valid_scores_std = np.std(valid_scores, axis=1)\n",
        "\n",
        "print(valid_scores_std)\n",
        "plt.title(\"Validation Curve with Random Forest\")\n",
        "plt.xlabel(\"n_estimators\")\n",
        "plt.ylabel(\"Std. Deviation\")\n",
        "plt.xticks(np.arange(10,105,step=5))\n",
        "plt.plot(n_estimators, train_scores_std, label=\"train accuracy\")\n",
        "plt.plot(n_estimators, valid_scores_std, label=\"validation accuracy\")\n",
        "\n",
        "plt.legend()\n",
        "plt.show()"
      ],
      "metadata": {
        "colab": {
          "base_uri": "https://localhost:8080/",
          "height": 365
        },
        "id": "wE-0XUK-Qmzp",
        "outputId": "37649c0d-4da7-4050-e1cf-0daf04995abf"
      },
      "execution_count": null,
      "outputs": [
        {
          "output_type": "stream",
          "name": "stdout",
          "text": [
            "[0.02352688 0.02156941 0.03230096 0.02883582 0.03118562 0.03055023\n",
            " 0.02690548 0.02609349 0.02528085 0.03064393 0.02367945 0.02657437\n",
            " 0.02492058 0.02615597 0.02523844 0.02435028 0.02343349 0.02341787\n",
            " 0.02245318]\n"
          ]
        },
        {
          "output_type": "display_data",
          "data": {
            "text/plain": [
              "<Figure size 432x288 with 1 Axes>"
            ],
            "image/png": "[encoded data removed]"
          },
          "metadata": {
            "needs_background": "light"
          }
        }
      ]
    },
    {
      "cell_type": "code",
      "source": [
        "RF = RandomForestClassifier(random_state=1, n_estimators=90)\n",
        "RF.fit(X_train, y_train)\n",
        "y_pred = RF.predict(X_test)\n",
        "cm = metrics.confusion_matrix(y_test, y_pred)"
      ],
      "metadata": {
        "id": "TkLbzLghAIE4"
      },
      "execution_count": null,
      "outputs": []
    },
    {
      "cell_type": "code",
      "source": [
        "plt.figure(figsize=(5,5))\n",
        "sns.heatmap(cm, annot=True, fmt=\".0f\", linewidths=.5, square = True, cmap = 'Blues_r');\n",
        "plt.ylabel('Actual label');\n",
        "plt.xlabel('Predicted label');\n",
        "all_sample_title = 'Accuracy Score: {0}'.format(round(accuracy_score(y_test, y_pred),3))\n",
        "plt.title(all_sample_title, size = 15);"
      ],
      "metadata": {
        "colab": {
          "base_uri": "https://localhost:8080/",
          "height": 309
        },
        "id": "iWNB8xe0jAJK",
        "outputId": "a8c26d8f-cfc2-43df-aa34-1de05a6915a8"
      },
      "execution_count": null,
      "outputs": [
        {
          "output_type": "display_data",
          "data": {
            "text/plain": [
              "<Figure size 360x360 with 2 Axes>"
            ],
            "image/png": "[encoded data removed]"
          },
          "metadata": {
            "needs_background": "light"
          }
        }
      ]
    },
    {
      "cell_type": "code",
      "source": [
        "tn, fp, fn, tp=cm.ravel()\n",
        "print (\"TP: \", tp,\"\\n\" \"FP: \",fp,\"\\n\" \"TN: \", tn,\"\\n\" \"FN: \",fn)\n",
        "print()\n",
        "print(classification_report(y_test, y_pred))"
      ],
      "metadata": {
        "colab": {
          "base_uri": "https://localhost:8080/"
        },
        "id": "TxjaIAIa5WmU",
        "outputId": "db04dbc5-b5c9-4133-f659-6530ffc6fbf3"
      },
      "execution_count": null,
      "outputs": [
        {
          "output_type": "stream",
          "name": "stdout",
          "text": [
            "TP:  130 \n",
            "FP:  11 \n",
            "TN:  125 \n",
            "FN:  14\n",
            "\n",
            "              precision    recall  f1-score   support\n",
            "\n",
            "           0       0.90      0.92      0.91       136\n",
            "           1       0.92      0.90      0.91       144\n",
            "\n",
            "    accuracy                           0.91       280\n",
            "   macro avg       0.91      0.91      0.91       280\n",
            "weighted avg       0.91      0.91      0.91       280\n",
            "\n"
          ]
        }
      ]
    }
  ]
}

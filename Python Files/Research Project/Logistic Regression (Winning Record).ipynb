{
  "nbformat": 4,
  "nbformat_minor": 0,
  "metadata": {
    "colab": {
      "provenance": []
    },
    "kernelspec": {
      "name": "python3",
      "display_name": "Python 3"
    },
    "language_info": {
      "name": "python"
    }
  },
  "cells": [
    {
      "cell_type": "code",
      "execution_count": 1,
      "metadata": {
        "id": "oxRABZKWx_fN"
      },
      "outputs": [],
      "source": [
        "import pandas as pd\n",
        "import numpy as np\n",
        "import matplotlib.pyplot as plt\n",
        "import seaborn as sns\n",
        "from sklearn.model_selection import train_test_split, StratifiedKFold, cross_val_predict, GridSearchCV, cross_validate\n",
        "from sklearn.metrics import confusion_matrix, classification_report, accuracy_score\n",
        "from sklearn.linear_model import LogisticRegression\n",
        "from sklearn.model_selection import KFold, cross_val_score, validation_curve, StratifiedShuffleSplit\n",
        "from sklearn import metrics"
      ]
    },
    {
      "cell_type": "code",
      "source": [
        "# The three datasets created during the feature selection process are uploaded. \n",
        "# Each dataset contains a different ordering of the feature variables based on their importance.\n",
        "\n",
        "featuresMIC = pd.read_csv('featuresRankedMIC.csv')\n",
        "featuresFC = pd.read_csv('featuresRankedFC.csv')\n",
        "featuresRFC = pd.read_csv('featuresRankedRFC.csv')"
      ],
      "metadata": {
        "id": "jgvNDUlUyNFR"
      },
      "execution_count": 2,
      "outputs": []
    },
    {
      "cell_type": "markdown",
      "source": [
        "# Mutual Information Gain"
      ],
      "metadata": {
        "id": "oZDyEyNZyRW5"
      }
    },
    {
      "cell_type": "code",
      "source": [
        "# The top 20 features will be selected from each dataset for machine learning.\n",
        "\n",
        "X = featuresMIC.iloc[:,0:20]\n",
        "y = featuresMIC['WinningRecord']"
      ],
      "metadata": {
        "id": "GNBvZLhjyQsB"
      },
      "execution_count": 6,
      "outputs": []
    },
    {
      "cell_type": "code",
      "source": [
        "featuresMIC.iloc[:,0:20].head()"
      ],
      "metadata": {
        "colab": {
          "base_uri": "https://localhost:8080/",
          "height": 305
        },
        "id": "7CAL5Y8gHusg",
        "outputId": "950b21ca-a629-4750-f4be-e58dc19edc4e"
      },
      "execution_count": 32,
      "outputs": [
        {
          "output_type": "execute_result",
          "data": {
            "text/plain": [
              "       ERA+  OPS+      RA/G        SV      1Run  Under500      BB_P       H_P  \\\n",
              "0  0.173913  0.44  0.477612  0.302094  0.559387  0.402703  0.429180  0.622353   \n",
              "1  0.637681  0.32  0.000000  0.194577  0.390805  0.389189  0.154861  0.181001   \n",
              "2  0.231884  0.56  0.300995  0.265422  0.641762  0.385135  0.429180  0.464920   \n",
              "3  0.275362  0.36  0.161692  0.100396  0.618774  0.271622  0.688073  0.159225   \n",
              "4  0.594203  0.46  0.208955  0.390013  0.392720  0.528378  0.204570  0.482468   \n",
              "\n",
              "        R/G  #a-tA-S    DefEff      HR_P    BatAge        BB        WP  \\\n",
              "0  0.339394     0.45  0.602041  0.418914  0.292135  0.465585  0.687796   \n",
              "1  0.133333     0.65  1.000000  0.123964  0.460674  0.410213  0.262041   \n",
              "2  0.363636     0.75  0.581633  0.189573  0.483146  0.440077  0.221357   \n",
              "3  0.000000     0.40  0.867347  0.142855  0.505618  0.021753  0.435667   \n",
              "4  0.442424     0.60  0.663265  0.233241  0.606742  0.540521  0.218771   \n",
              "\n",
              "         HR       SOS        IP      Rtot       IBB  \n",
              "0  0.380797  0.545455  0.678982  0.391473  0.288005  \n",
              "1  0.213898  0.454545  0.697641  0.841085  0.380978  \n",
              "2  0.303797  0.454545  0.710241  0.372093  0.322774  \n",
              "3  0.126699  0.454545  0.680184  0.569767  0.343635  \n",
              "4  0.335165  0.363636  0.752545  0.441860  0.520958  "
            ],
            "text/html": [
              "\n",
              "  <div id=\"df-ee5e17b8-f1c0-4227-9e80-a97ab569974a\">\n",
              "    <div class=\"colab-df-container\">\n",
              "      <div>\n",
              "<style scoped>\n",
              "    .dataframe tbody tr th:only-of-type {\n",
              "        vertical-align: middle;\n",
              "    }\n",
              "\n",
              "    .dataframe tbody tr th {\n",
              "        vertical-align: top;\n",
              "    }\n",
              "\n",
              "    .dataframe thead th {\n",
              "        text-align: right;\n",
              "    }\n",
              "</style>\n",
              "<table border=\"1\" class=\"dataframe\">\n",
              "  <thead>\n",
              "    <tr style=\"text-align: right;\">\n",
              "      <th></th>\n",
              "      <th>ERA+</th>\n",
              "      <th>OPS+</th>\n",
              "      <th>RA/G</th>\n",
              "      <th>SV</th>\n",
              "      <th>1Run</th>\n",
              "      <th>Under500</th>\n",
              "      <th>BB_P</th>\n",
              "      <th>H_P</th>\n",
              "      <th>R/G</th>\n",
              "      <th>#a-tA-S</th>\n",
              "      <th>DefEff</th>\n",
              "      <th>HR_P</th>\n",
              "      <th>BatAge</th>\n",
              "      <th>BB</th>\n",
              "      <th>WP</th>\n",
              "      <th>HR</th>\n",
              "      <th>SOS</th>\n",
              "      <th>IP</th>\n",
              "      <th>Rtot</th>\n",
              "      <th>IBB</th>\n",
              "    </tr>\n",
              "  </thead>\n",
              "  <tbody>\n",
              "    <tr>\n",
              "      <th>0</th>\n",
              "      <td>0.173913</td>\n",
              "      <td>0.44</td>\n",
              "      <td>0.477612</td>\n",
              "      <td>0.302094</td>\n",
              "      <td>0.559387</td>\n",
              "      <td>0.402703</td>\n",
              "      <td>0.429180</td>\n",
              "      <td>0.622353</td>\n",
              "      <td>0.339394</td>\n",
              "      <td>0.45</td>\n",
              "      <td>0.602041</td>\n",
              "      <td>0.418914</td>\n",
              "      <td>0.292135</td>\n",
              "      <td>0.465585</td>\n",
              "      <td>0.687796</td>\n",
              "      <td>0.380797</td>\n",
              "      <td>0.545455</td>\n",
              "      <td>0.678982</td>\n",
              "      <td>0.391473</td>\n",
              "      <td>0.288005</td>\n",
              "    </tr>\n",
              "    <tr>\n",
              "      <th>1</th>\n",
              "      <td>0.637681</td>\n",
              "      <td>0.32</td>\n",
              "      <td>0.000000</td>\n",
              "      <td>0.194577</td>\n",
              "      <td>0.390805</td>\n",
              "      <td>0.389189</td>\n",
              "      <td>0.154861</td>\n",
              "      <td>0.181001</td>\n",
              "      <td>0.133333</td>\n",
              "      <td>0.65</td>\n",
              "      <td>1.000000</td>\n",
              "      <td>0.123964</td>\n",
              "      <td>0.460674</td>\n",
              "      <td>0.410213</td>\n",
              "      <td>0.262041</td>\n",
              "      <td>0.213898</td>\n",
              "      <td>0.454545</td>\n",
              "      <td>0.697641</td>\n",
              "      <td>0.841085</td>\n",
              "      <td>0.380978</td>\n",
              "    </tr>\n",
              "    <tr>\n",
              "      <th>2</th>\n",
              "      <td>0.231884</td>\n",
              "      <td>0.56</td>\n",
              "      <td>0.300995</td>\n",
              "      <td>0.265422</td>\n",
              "      <td>0.641762</td>\n",
              "      <td>0.385135</td>\n",
              "      <td>0.429180</td>\n",
              "      <td>0.464920</td>\n",
              "      <td>0.363636</td>\n",
              "      <td>0.75</td>\n",
              "      <td>0.581633</td>\n",
              "      <td>0.189573</td>\n",
              "      <td>0.483146</td>\n",
              "      <td>0.440077</td>\n",
              "      <td>0.221357</td>\n",
              "      <td>0.303797</td>\n",
              "      <td>0.454545</td>\n",
              "      <td>0.710241</td>\n",
              "      <td>0.372093</td>\n",
              "      <td>0.322774</td>\n",
              "    </tr>\n",
              "    <tr>\n",
              "      <th>3</th>\n",
              "      <td>0.275362</td>\n",
              "      <td>0.36</td>\n",
              "      <td>0.161692</td>\n",
              "      <td>0.100396</td>\n",
              "      <td>0.618774</td>\n",
              "      <td>0.271622</td>\n",
              "      <td>0.688073</td>\n",
              "      <td>0.159225</td>\n",
              "      <td>0.000000</td>\n",
              "      <td>0.40</td>\n",
              "      <td>0.867347</td>\n",
              "      <td>0.142855</td>\n",
              "      <td>0.505618</td>\n",
              "      <td>0.021753</td>\n",
              "      <td>0.435667</td>\n",
              "      <td>0.126699</td>\n",
              "      <td>0.454545</td>\n",
              "      <td>0.680184</td>\n",
              "      <td>0.569767</td>\n",
              "      <td>0.343635</td>\n",
              "    </tr>\n",
              "    <tr>\n",
              "      <th>4</th>\n",
              "      <td>0.594203</td>\n",
              "      <td>0.46</td>\n",
              "      <td>0.208955</td>\n",
              "      <td>0.390013</td>\n",
              "      <td>0.392720</td>\n",
              "      <td>0.528378</td>\n",
              "      <td>0.204570</td>\n",
              "      <td>0.482468</td>\n",
              "      <td>0.442424</td>\n",
              "      <td>0.60</td>\n",
              "      <td>0.663265</td>\n",
              "      <td>0.233241</td>\n",
              "      <td>0.606742</td>\n",
              "      <td>0.540521</td>\n",
              "      <td>0.218771</td>\n",
              "      <td>0.335165</td>\n",
              "      <td>0.363636</td>\n",
              "      <td>0.752545</td>\n",
              "      <td>0.441860</td>\n",
              "      <td>0.520958</td>\n",
              "    </tr>\n",
              "  </tbody>\n",
              "</table>\n",
              "</div>\n",
              "      <button class=\"colab-df-convert\" onclick=\"convertToInteractive('df-ee5e17b8-f1c0-4227-9e80-a97ab569974a')\"\n",
              "              title=\"Convert this dataframe to an interactive table.\"\n",
              "              style=\"display:none;\">\n",
              "        \n",
              "  <svg xmlns=\"http://www.w3.org/2000/svg\" height=\"24px\"viewBox=\"0 0 24 24\"\n",
              "       width=\"24px\">\n",
              "    <path d=\"M0 0h24v24H0V0z\" fill=\"none\"/>\n",
              "    <path d=\"M18.56 5.44l.94 2.06.94-2.06 2.06-.94-2.06-.94-.94-2.06-.94 2.06-2.06.94zm-11 1L8.5 8.5l.94-2.06 2.06-.94-2.06-.94L8.5 2.5l-.94 2.06-2.06.94zm10 10l.94 2.06.94-2.06 2.06-.94-2.06-.94-.94-2.06-.94 2.06-2.06.94z\"/><path d=\"M17.41 7.96l-1.37-1.37c-.4-.4-.92-.59-1.43-.59-.52 0-1.04.2-1.43.59L10.3 9.45l-7.72 7.72c-.78.78-.78 2.05 0 2.83L4 21.41c.39.39.9.59 1.41.59.51 0 1.02-.2 1.41-.59l7.78-7.78 2.81-2.81c.8-.78.8-2.07 0-2.86zM5.41 20L4 18.59l7.72-7.72 1.47 1.35L5.41 20z\"/>\n",
              "  </svg>\n",
              "      </button>\n",
              "      \n",
              "  <style>\n",
              "    .colab-df-container {\n",
              "      display:flex;\n",
              "      flex-wrap:wrap;\n",
              "      gap: 12px;\n",
              "    }\n",
              "\n",
              "    .colab-df-convert {\n",
              "      background-color: #E8F0FE;\n",
              "      border: none;\n",
              "      border-radius: 50%;\n",
              "      cursor: pointer;\n",
              "      display: none;\n",
              "      fill: #1967D2;\n",
              "      height: 32px;\n",
              "      padding: 0 0 0 0;\n",
              "      width: 32px;\n",
              "    }\n",
              "\n",
              "    .colab-df-convert:hover {\n",
              "      background-color: #E2EBFA;\n",
              "      box-shadow: 0px 1px 2px rgba(60, 64, 67, 0.3), 0px 1px 3px 1px rgba(60, 64, 67, 0.15);\n",
              "      fill: #174EA6;\n",
              "    }\n",
              "\n",
              "    [theme=dark] .colab-df-convert {\n",
              "      background-color: #3B4455;\n",
              "      fill: #D2E3FC;\n",
              "    }\n",
              "\n",
              "    [theme=dark] .colab-df-convert:hover {\n",
              "      background-color: #434B5C;\n",
              "      box-shadow: 0px 1px 3px 1px rgba(0, 0, 0, 0.15);\n",
              "      filter: drop-shadow(0px 1px 2px rgba(0, 0, 0, 0.3));\n",
              "      fill: #FFFFFF;\n",
              "    }\n",
              "  </style>\n",
              "\n",
              "      <script>\n",
              "        const buttonEl =\n",
              "          document.querySelector('#df-ee5e17b8-f1c0-4227-9e80-a97ab569974a button.colab-df-convert');\n",
              "        buttonEl.style.display =\n",
              "          google.colab.kernel.accessAllowed ? 'block' : 'none';\n",
              "\n",
              "        async function convertToInteractive(key) {\n",
              "          const element = document.querySelector('#df-ee5e17b8-f1c0-4227-9e80-a97ab569974a');\n",
              "          const dataTable =\n",
              "            await google.colab.kernel.invokeFunction('convertToInteractive',\n",
              "                                                     [key], {});\n",
              "          if (!dataTable) return;\n",
              "\n",
              "          const docLinkHtml = 'Like what you see? Visit the ' +\n",
              "            '<a target=\"_blank\" href=https://colab.research.google.com/notebooks/data_table.ipynb>data table notebook</a>'\n",
              "            + ' to learn more about interactive tables.';\n",
              "          element.innerHTML = '';\n",
              "          dataTable['output_type'] = 'display_data';\n",
              "          await google.colab.output.renderOutput(dataTable, element);\n",
              "          const docLink = document.createElement('div');\n",
              "          docLink.innerHTML = docLinkHtml;\n",
              "          element.appendChild(docLink);\n",
              "        }\n",
              "      </script>\n",
              "    </div>\n",
              "  </div>\n",
              "  "
            ]
          },
          "metadata": {},
          "execution_count": 32
        }
      ]
    },
    {
      "cell_type": "code",
      "source": [
        "# A stratified train-test split is performed on the dataset, with 80% of the data assigned to training set and 20% assigned to testing set.\n",
        "\n",
        "X_train, X_test, y_train, y_test = train_test_split(X, y, test_size=0.2, random_state=1, stratify=y)\n"
      ],
      "metadata": {
        "id": "KSSMf2yyyTBS"
      },
      "execution_count": 7,
      "outputs": []
    },
    {
      "cell_type": "code",
      "source": [
        "clf = LogisticRegression()\n",
        "cross_val_score(clf, X_train, y_train, cv=10)\n",
        "np.mean(cross_val_score(clf, X_train, y_train, cv=10))"
      ],
      "metadata": {
        "colab": {
          "base_uri": "https://localhost:8080/"
        },
        "id": "KqoBj9bLJOUl",
        "outputId": "e724b97a-7d45-4839-81a8-cb08a76b7b80"
      },
      "execution_count": 8,
      "outputs": [
        {
          "output_type": "execute_result",
          "data": {
            "text/plain": [
              "0.917583655083655"
            ]
          },
          "metadata": {},
          "execution_count": 8
        }
      ]
    },
    {
      "cell_type": "code",
      "source": [
        "# Parameters for Logistic Regression algorithm\n",
        "\n",
        "penalty = ['l1','none', 'l2']\n",
        "solver = ['saga', 'liblinear', 'sag', 'lbfgs', 'newton-cg']"
      ],
      "metadata": {
        "id": "bLiNyoJUybqS"
      },
      "execution_count": 10,
      "outputs": []
    },
    {
      "cell_type": "code",
      "source": [
        "# 10-fold cross validation is performed on the training set for parameter tuning.\n",
        "# The l1 penalty term has shown to provide the highest accuracy results, and the solver algorithm will be tested for accuracy\n",
        "\n",
        "train_scores, valid_scores = validation_curve(LogisticRegression(max_iter=5000, penalty='l1'), X_train, y_train, param_name=\"solver\", param_range=solver, scoring='accuracy', cv=10)\n",
        "train_scores_mean = np.mean(train_scores, axis=1)\n",
        "valid_scores_mean = np.mean(valid_scores, axis=1)\n",
        "\n",
        "print(valid_scores_mean)\n",
        "plt.title(\"Validation Curve with Logistic Regression\")\n",
        "plt.xlabel(\"Solver\")\n",
        "plt.ylabel(\"Accuracy\")\n",
        "plt.plot(solver, train_scores_mean, label=\"train accuracy\")\n",
        "plt.plot(solver, valid_scores_mean, label=\"validation accuracy\")\n",
        "\n",
        "plt.legend()\n",
        "plt.show()"
      ],
      "metadata": {
        "colab": {
          "base_uri": "https://localhost:8080/",
          "height": 312
        },
        "id": "G4zYT-IU6OJU",
        "outputId": "11dac84d-3c44-49b0-8259-9e469689b1af"
      },
      "execution_count": 11,
      "outputs": [
        {
          "output_type": "stream",
          "name": "stdout",
          "text": [
            "[0.93371139 0.93550515        nan        nan        nan]\n"
          ]
        },
        {
          "output_type": "display_data",
          "data": {
            "text/plain": [
              "<Figure size 432x288 with 1 Axes>"
            ],
            "image/png": "[encoded data removed]"
          },
          "metadata": {
            "needs_background": "light"
          }
        }
      ]
    },
    {
      "cell_type": "code",
      "source": [
        "# The standard deviation also evaluated for each solver algorithm\n",
        "\n",
        "train_scores, valid_scores = validation_curve(LogisticRegression(max_iter=5000, penalty='l1'), X_train, y_train, param_name=\"solver\", param_range=solver, scoring='accuracy', cv=10)\n",
        "train_scores_std = np.std(train_scores, axis=1)\n",
        "valid_scores_std = np.std(valid_scores, axis=1)\n",
        "\n",
        "print(valid_scores_std)\n",
        "plt.title(\"Validation Curve with Logistic Regression\")\n",
        "plt.xlabel(\"Solver\")\n",
        "plt.ylabel(\"Std. Deviation\")\n",
        "plt.plot(solver, train_scores_std, label=\"train std. deviation\")\n",
        "plt.plot(solver, valid_scores_std, label=\"validation std. deviation\")\n",
        "\n",
        "plt.legend()\n",
        "plt.show()"
      ],
      "metadata": {
        "colab": {
          "base_uri": "https://localhost:8080/",
          "height": 312
        },
        "id": "1OIydN5ixw0n",
        "outputId": "5a7c7e16-6d3b-4112-c3c3-3f5732423c96"
      },
      "execution_count": 12,
      "outputs": [
        {
          "output_type": "stream",
          "name": "stdout",
          "text": [
            "[0.02154933 0.02178198        nan        nan        nan]\n"
          ]
        },
        {
          "output_type": "display_data",
          "data": {
            "text/plain": [
              "<Figure size 432x288 with 1 Axes>"
            ],
            "image/png": "[encoded data removed]"
          },
          "metadata": {
            "needs_background": "light"
          }
        }
      ]
    },
    {
      "cell_type": "code",
      "source": [
        "logreg = LogisticRegression(max_iter=5000, solver='liblinear', penalty='l1')\n",
        "logreg.fit(X_train, y_train)\n",
        "y_pred = logreg.predict(X_test)\n",
        "cm = metrics.confusion_matrix(y_test, y_pred)"
      ],
      "metadata": {
        "id": "wxIECQ5W56Y2"
      },
      "execution_count": 13,
      "outputs": []
    },
    {
      "cell_type": "code",
      "source": [
        "plt.figure(figsize=(5,5))\n",
        "sns.heatmap(cm, annot=True, fmt=\".0f\", linewidths=.5, square = True, cmap = 'Blues_r');\n",
        "plt.ylabel('Actual label');\n",
        "plt.xlabel('Predicted label');\n",
        "all_sample_title = 'Accuracy Score: {0}'.format(round(accuracy_score(y_test, y_pred),3))\n",
        "plt.title(all_sample_title, size = 15);"
      ],
      "metadata": {
        "colab": {
          "base_uri": "https://localhost:8080/",
          "height": 309
        },
        "id": "qv-PZjY06K3Q",
        "outputId": "a3a2cebf-ed15-4a52-ea87-5334fc9c1b2c"
      },
      "execution_count": 14,
      "outputs": [
        {
          "output_type": "display_data",
          "data": {
            "text/plain": [
              "<Figure size 360x360 with 2 Axes>"
            ],
            "image/png": "[encoded data removed]"
          },
          "metadata": {
            "needs_background": "light"
          }
        }
      ]
    },
    {
      "cell_type": "code",
      "source": [
        "tn, fp, fn, tp=cm.ravel()\n",
        "print (\"TP: \", tp,\"\\n\" \"FP: \",fp,\"\\n\" \"TN: \", tn,\"\\n\" \"FN: \",fn)\n",
        "print()\n",
        "print(classification_report(y_test, y_pred))"
      ],
      "metadata": {
        "colab": {
          "base_uri": "https://localhost:8080/"
        },
        "id": "fJcWrtEJxhGW",
        "outputId": "6e218d52-cf15-4b47-cd8d-1eb43431c583"
      },
      "execution_count": 15,
      "outputs": [
        {
          "output_type": "stream",
          "name": "stdout",
          "text": [
            "TP:  135 \n",
            "FP:  8 \n",
            "TN:  128 \n",
            "FN:  9\n",
            "\n",
            "              precision    recall  f1-score   support\n",
            "\n",
            "           0       0.93      0.94      0.94       136\n",
            "           1       0.94      0.94      0.94       144\n",
            "\n",
            "    accuracy                           0.94       280\n",
            "   macro avg       0.94      0.94      0.94       280\n",
            "weighted avg       0.94      0.94      0.94       280\n",
            "\n"
          ]
        }
      ]
    },
    {
      "cell_type": "markdown",
      "source": [
        "# ANOVA F-Test"
      ],
      "metadata": {
        "id": "gNd2p2zNxkvn"
      }
    },
    {
      "cell_type": "code",
      "source": [
        "# The above process is now repeated for the top 20 features as selected by the ANOVA F-test selection algorithm.\n",
        "\n",
        "X = featuresFC.iloc[:,0:20]\n",
        "y = featuresFC['WinningRecord']"
      ],
      "metadata": {
        "id": "HgEjrqo_xm2Q"
      },
      "execution_count": 16,
      "outputs": []
    },
    {
      "cell_type": "code",
      "source": [
        "featuresFC.iloc[:,0:20].head()"
      ],
      "metadata": {
        "colab": {
          "base_uri": "https://localhost:8080/",
          "height": 305
        },
        "id": "hD9w1gd5P4tm",
        "outputId": "030b38f8-f011-45c0-f8f8-d07134402fe6"
      },
      "execution_count": 17,
      "outputs": [
        {
          "output_type": "execute_result",
          "data": {
            "text/plain": [
              "       ERA+      RA/G  OPS+      1Run       H_P        SV      BB_P  #a-tA-S  \\\n",
              "0  0.173913  0.477612  0.44  0.559387  0.622353  0.302094  0.429180     0.45   \n",
              "1  0.637681  0.000000  0.32  0.390805  0.181001  0.194577  0.154861     0.65   \n",
              "2  0.231884  0.300995  0.56  0.641762  0.464920  0.265422  0.429180     0.75   \n",
              "3  0.275362  0.161692  0.36  0.618774  0.159225  0.100396  0.688073     0.40   \n",
              "4  0.594203  0.208955  0.46  0.392720  0.482468  0.390013  0.204570     0.60   \n",
              "\n",
              "        R/G    DefEff      Rtot  Under500        IP        BB      PAge  \\\n",
              "0  0.339394  0.602041  0.391473  0.402703  0.678982  0.465585  0.405941   \n",
              "1  0.133333  1.000000  0.841085  0.389189  0.697641  0.410213  0.465347   \n",
              "2  0.363636  0.581633  0.372093  0.385135  0.710241  0.440077  0.475248   \n",
              "3  0.000000  0.867347  0.569767  0.271622  0.680184  0.021753  0.336634   \n",
              "4  0.442424  0.663265  0.441860  0.528378  0.752545  0.540521  0.455446   \n",
              "\n",
              "         PA       IBB    BatAge      HR_P        SF  \n",
              "0  0.594126  0.288005  0.292135  0.418914  0.358281  \n",
              "1  0.356231  0.380978  0.460674  0.123964  0.398932  \n",
              "2  0.523644  0.322774  0.483146  0.189573  0.538171  \n",
              "3  0.279588  0.343635  0.505618  0.142855  0.124424  \n",
              "4  0.566620  0.520958  0.606742  0.233241  0.443268  "
            ],
            "text/html": [
              "\n",
              "  <div id=\"df-d30f8329-ef8e-4c98-8f0b-16d0e61ea874\">\n",
              "    <div class=\"colab-df-container\">\n",
              "      <div>\n",
              "<style scoped>\n",
              "    .dataframe tbody tr th:only-of-type {\n",
              "        vertical-align: middle;\n",
              "    }\n",
              "\n",
              "    .dataframe tbody tr th {\n",
              "        vertical-align: top;\n",
              "    }\n",
              "\n",
              "    .dataframe thead th {\n",
              "        text-align: right;\n",
              "    }\n",
              "</style>\n",
              "<table border=\"1\" class=\"dataframe\">\n",
              "  <thead>\n",
              "    <tr style=\"text-align: right;\">\n",
              "      <th></th>\n",
              "      <th>ERA+</th>\n",
              "      <th>RA/G</th>\n",
              "      <th>OPS+</th>\n",
              "      <th>1Run</th>\n",
              "      <th>H_P</th>\n",
              "      <th>SV</th>\n",
              "      <th>BB_P</th>\n",
              "      <th>#a-tA-S</th>\n",
              "      <th>R/G</th>\n",
              "      <th>DefEff</th>\n",
              "      <th>Rtot</th>\n",
              "      <th>Under500</th>\n",
              "      <th>IP</th>\n",
              "      <th>BB</th>\n",
              "      <th>PAge</th>\n",
              "      <th>PA</th>\n",
              "      <th>IBB</th>\n",
              "      <th>BatAge</th>\n",
              "      <th>HR_P</th>\n",
              "      <th>SF</th>\n",
              "    </tr>\n",
              "  </thead>\n",
              "  <tbody>\n",
              "    <tr>\n",
              "      <th>0</th>\n",
              "      <td>0.173913</td>\n",
              "      <td>0.477612</td>\n",
              "      <td>0.44</td>\n",
              "      <td>0.559387</td>\n",
              "      <td>0.622353</td>\n",
              "      <td>0.302094</td>\n",
              "      <td>0.429180</td>\n",
              "      <td>0.45</td>\n",
              "      <td>0.339394</td>\n",
              "      <td>0.602041</td>\n",
              "      <td>0.391473</td>\n",
              "      <td>0.402703</td>\n",
              "      <td>0.678982</td>\n",
              "      <td>0.465585</td>\n",
              "      <td>0.405941</td>\n",
              "      <td>0.594126</td>\n",
              "      <td>0.288005</td>\n",
              "      <td>0.292135</td>\n",
              "      <td>0.418914</td>\n",
              "      <td>0.358281</td>\n",
              "    </tr>\n",
              "    <tr>\n",
              "      <th>1</th>\n",
              "      <td>0.637681</td>\n",
              "      <td>0.000000</td>\n",
              "      <td>0.32</td>\n",
              "      <td>0.390805</td>\n",
              "      <td>0.181001</td>\n",
              "      <td>0.194577</td>\n",
              "      <td>0.154861</td>\n",
              "      <td>0.65</td>\n",
              "      <td>0.133333</td>\n",
              "      <td>1.000000</td>\n",
              "      <td>0.841085</td>\n",
              "      <td>0.389189</td>\n",
              "      <td>0.697641</td>\n",
              "      <td>0.410213</td>\n",
              "      <td>0.465347</td>\n",
              "      <td>0.356231</td>\n",
              "      <td>0.380978</td>\n",
              "      <td>0.460674</td>\n",
              "      <td>0.123964</td>\n",
              "      <td>0.398932</td>\n",
              "    </tr>\n",
              "    <tr>\n",
              "      <th>2</th>\n",
              "      <td>0.231884</td>\n",
              "      <td>0.300995</td>\n",
              "      <td>0.56</td>\n",
              "      <td>0.641762</td>\n",
              "      <td>0.464920</td>\n",
              "      <td>0.265422</td>\n",
              "      <td>0.429180</td>\n",
              "      <td>0.75</td>\n",
              "      <td>0.363636</td>\n",
              "      <td>0.581633</td>\n",
              "      <td>0.372093</td>\n",
              "      <td>0.385135</td>\n",
              "      <td>0.710241</td>\n",
              "      <td>0.440077</td>\n",
              "      <td>0.475248</td>\n",
              "      <td>0.523644</td>\n",
              "      <td>0.322774</td>\n",
              "      <td>0.483146</td>\n",
              "      <td>0.189573</td>\n",
              "      <td>0.538171</td>\n",
              "    </tr>\n",
              "    <tr>\n",
              "      <th>3</th>\n",
              "      <td>0.275362</td>\n",
              "      <td>0.161692</td>\n",
              "      <td>0.36</td>\n",
              "      <td>0.618774</td>\n",
              "      <td>0.159225</td>\n",
              "      <td>0.100396</td>\n",
              "      <td>0.688073</td>\n",
              "      <td>0.40</td>\n",
              "      <td>0.000000</td>\n",
              "      <td>0.867347</td>\n",
              "      <td>0.569767</td>\n",
              "      <td>0.271622</td>\n",
              "      <td>0.680184</td>\n",
              "      <td>0.021753</td>\n",
              "      <td>0.336634</td>\n",
              "      <td>0.279588</td>\n",
              "      <td>0.343635</td>\n",
              "      <td>0.505618</td>\n",
              "      <td>0.142855</td>\n",
              "      <td>0.124424</td>\n",
              "    </tr>\n",
              "    <tr>\n",
              "      <th>4</th>\n",
              "      <td>0.594203</td>\n",
              "      <td>0.208955</td>\n",
              "      <td>0.46</td>\n",
              "      <td>0.392720</td>\n",
              "      <td>0.482468</td>\n",
              "      <td>0.390013</td>\n",
              "      <td>0.204570</td>\n",
              "      <td>0.60</td>\n",
              "      <td>0.442424</td>\n",
              "      <td>0.663265</td>\n",
              "      <td>0.441860</td>\n",
              "      <td>0.528378</td>\n",
              "      <td>0.752545</td>\n",
              "      <td>0.540521</td>\n",
              "      <td>0.455446</td>\n",
              "      <td>0.566620</td>\n",
              "      <td>0.520958</td>\n",
              "      <td>0.606742</td>\n",
              "      <td>0.233241</td>\n",
              "      <td>0.443268</td>\n",
              "    </tr>\n",
              "  </tbody>\n",
              "</table>\n",
              "</div>\n",
              "      <button class=\"colab-df-convert\" onclick=\"convertToInteractive('df-d30f8329-ef8e-4c98-8f0b-16d0e61ea874')\"\n",
              "              title=\"Convert this dataframe to an interactive table.\"\n",
              "              style=\"display:none;\">\n",
              "        \n",
              "  <svg xmlns=\"http://www.w3.org/2000/svg\" height=\"24px\"viewBox=\"0 0 24 24\"\n",
              "       width=\"24px\">\n",
              "    <path d=\"M0 0h24v24H0V0z\" fill=\"none\"/>\n",
              "    <path d=\"M18.56 5.44l.94 2.06.94-2.06 2.06-.94-2.06-.94-.94-2.06-.94 2.06-2.06.94zm-11 1L8.5 8.5l.94-2.06 2.06-.94-2.06-.94L8.5 2.5l-.94 2.06-2.06.94zm10 10l.94 2.06.94-2.06 2.06-.94-2.06-.94-.94-2.06-.94 2.06-2.06.94z\"/><path d=\"M17.41 7.96l-1.37-1.37c-.4-.4-.92-.59-1.43-.59-.52 0-1.04.2-1.43.59L10.3 9.45l-7.72 7.72c-.78.78-.78 2.05 0 2.83L4 21.41c.39.39.9.59 1.41.59.51 0 1.02-.2 1.41-.59l7.78-7.78 2.81-2.81c.8-.78.8-2.07 0-2.86zM5.41 20L4 18.59l7.72-7.72 1.47 1.35L5.41 20z\"/>\n",
              "  </svg>\n",
              "      </button>\n",
              "      \n",
              "  <style>\n",
              "    .colab-df-container {\n",
              "      display:flex;\n",
              "      flex-wrap:wrap;\n",
              "      gap: 12px;\n",
              "    }\n",
              "\n",
              "    .colab-df-convert {\n",
              "      background-color: #E8F0FE;\n",
              "      border: none;\n",
              "      border-radius: 50%;\n",
              "      cursor: pointer;\n",
              "      display: none;\n",
              "      fill: #1967D2;\n",
              "      height: 32px;\n",
              "      padding: 0 0 0 0;\n",
              "      width: 32px;\n",
              "    }\n",
              "\n",
              "    .colab-df-convert:hover {\n",
              "      background-color: #E2EBFA;\n",
              "      box-shadow: 0px 1px 2px rgba(60, 64, 67, 0.3), 0px 1px 3px 1px rgba(60, 64, 67, 0.15);\n",
              "      fill: #174EA6;\n",
              "    }\n",
              "\n",
              "    [theme=dark] .colab-df-convert {\n",
              "      background-color: #3B4455;\n",
              "      fill: #D2E3FC;\n",
              "    }\n",
              "\n",
              "    [theme=dark] .colab-df-convert:hover {\n",
              "      background-color: #434B5C;\n",
              "      box-shadow: 0px 1px 3px 1px rgba(0, 0, 0, 0.15);\n",
              "      filter: drop-shadow(0px 1px 2px rgba(0, 0, 0, 0.3));\n",
              "      fill: #FFFFFF;\n",
              "    }\n",
              "  </style>\n",
              "\n",
              "      <script>\n",
              "        const buttonEl =\n",
              "          document.querySelector('#df-d30f8329-ef8e-4c98-8f0b-16d0e61ea874 button.colab-df-convert');\n",
              "        buttonEl.style.display =\n",
              "          google.colab.kernel.accessAllowed ? 'block' : 'none';\n",
              "\n",
              "        async function convertToInteractive(key) {\n",
              "          const element = document.querySelector('#df-d30f8329-ef8e-4c98-8f0b-16d0e61ea874');\n",
              "          const dataTable =\n",
              "            await google.colab.kernel.invokeFunction('convertToInteractive',\n",
              "                                                     [key], {});\n",
              "          if (!dataTable) return;\n",
              "\n",
              "          const docLinkHtml = 'Like what you see? Visit the ' +\n",
              "            '<a target=\"_blank\" href=https://colab.research.google.com/notebooks/data_table.ipynb>data table notebook</a>'\n",
              "            + ' to learn more about interactive tables.';\n",
              "          element.innerHTML = '';\n",
              "          dataTable['output_type'] = 'display_data';\n",
              "          await google.colab.output.renderOutput(dataTable, element);\n",
              "          const docLink = document.createElement('div');\n",
              "          docLink.innerHTML = docLinkHtml;\n",
              "          element.appendChild(docLink);\n",
              "        }\n",
              "      </script>\n",
              "    </div>\n",
              "  </div>\n",
              "  "
            ]
          },
          "metadata": {},
          "execution_count": 17
        }
      ]
    },
    {
      "cell_type": "code",
      "source": [
        "X_train, X_test, y_train, y_test = train_test_split(X, y, test_size=0.2, random_state=1, stratify=y)"
      ],
      "metadata": {
        "id": "GpgIeRj-xsQY"
      },
      "execution_count": 18,
      "outputs": []
    },
    {
      "cell_type": "code",
      "source": [
        "train_scores, valid_scores = validation_curve(LogisticRegression(max_iter=5000, penalty='l1'), X_train, y_train, param_name=\"solver\", param_range=solver, scoring='accuracy', cv=10)\n",
        "train_scores_mean = np.mean(train_scores, axis=1)\n",
        "valid_scores_mean = np.mean(valid_scores, axis=1)\n",
        "\n",
        "print(valid_scores_mean)\n",
        "plt.title(\"Validation Curve with Logistic Regression\")\n",
        "plt.xlabel(\"Solver\")\n",
        "plt.ylabel(\"Accuracy\")\n",
        "plt.plot(solver, train_scores_mean, label=\"train accuracy\")\n",
        "plt.plot(solver, valid_scores_mean, label=\"validation accuracy\")\n",
        "\n",
        "plt.legend()\n",
        "plt.show()"
      ],
      "metadata": {
        "colab": {
          "base_uri": "https://localhost:8080/",
          "height": 312
        },
        "id": "Mj1O5GigxuQo",
        "outputId": "c8789332-fff8-4d5a-db93-e2ecabeedcf5"
      },
      "execution_count": 19,
      "outputs": [
        {
          "output_type": "stream",
          "name": "stdout",
          "text": [
            "[0.93102477 0.93462033        nan        nan        nan]\n"
          ]
        },
        {
          "output_type": "display_data",
          "data": {
            "text/plain": [
              "<Figure size 432x288 with 1 Axes>"
            ],
            "image/png": "[encoded data removed]"
          },
          "metadata": {
            "needs_background": "light"
          }
        }
      ]
    },
    {
      "cell_type": "code",
      "source": [
        "train_scores, valid_scores = validation_curve(LogisticRegression(max_iter=5000, penalty='l1'), X_train, y_train, param_name=\"solver\", param_range=solver, scoring='accuracy', cv=10)\n",
        "train_scores_std = np.std(train_scores, axis=1)\n",
        "valid_scores_std = np.std(valid_scores, axis=1)\n",
        "\n",
        "print(valid_scores_std)\n",
        "plt.title(\"Validation Curve with Logistic Regression\")\n",
        "plt.xlabel(\"Solver\")\n",
        "plt.ylabel(\"Std. Deviation\")\n",
        "plt.plot(solver, train_scores_std, label=\"train std. deviation\")\n",
        "plt.plot(solver, valid_scores_std, label=\"validation std. deviation\")\n",
        "\n",
        "plt.legend()\n",
        "plt.show()"
      ],
      "metadata": {
        "colab": {
          "base_uri": "https://localhost:8080/",
          "height": 312
        },
        "id": "b9kyUG7HycjG",
        "outputId": "0ff10b4d-4423-4ad7-a93b-d680ba55bb59"
      },
      "execution_count": 20,
      "outputs": [
        {
          "output_type": "stream",
          "name": "stdout",
          "text": [
            "[0.02074305 0.02490883        nan        nan        nan]\n"
          ]
        },
        {
          "output_type": "display_data",
          "data": {
            "text/plain": [
              "<Figure size 432x288 with 1 Axes>"
            ],
            "image/png": "[encoded data removed]"
          },
          "metadata": {
            "needs_background": "light"
          }
        }
      ]
    },
    {
      "cell_type": "code",
      "source": [
        "logreg = LogisticRegression(max_iter=5000, solver='liblinear', penalty='l1')\n",
        "logreg.fit(X_train, y_train)\n",
        "y_pred = logreg.predict(X_test)\n",
        "cm = metrics.confusion_matrix(y_test, y_pred)"
      ],
      "metadata": {
        "id": "3S8Oi7Ksyson"
      },
      "execution_count": 21,
      "outputs": []
    },
    {
      "cell_type": "code",
      "source": [
        "plt.figure(figsize=(5,5))\n",
        "sns.heatmap(cm, annot=True, fmt=\".0f\", linewidths=.5, square = True, cmap = 'Blues_r');\n",
        "plt.ylabel('Actual label');\n",
        "plt.xlabel('Predicted label');\n",
        "all_sample_title = 'Accuracy Score: {0}'.format(round(accuracy_score(y_test, y_pred),3))\n",
        "plt.title(all_sample_title, size = 15);"
      ],
      "metadata": {
        "colab": {
          "base_uri": "https://localhost:8080/",
          "height": 309
        },
        "id": "H00GM9Jsyu6Q",
        "outputId": "3c24cc9c-4a76-4ef0-e566-81455a018527"
      },
      "execution_count": 22,
      "outputs": [
        {
          "output_type": "display_data",
          "data": {
            "text/plain": [
              "<Figure size 360x360 with 2 Axes>"
            ],
            "image/png": "[encoded data removed]"
          },
          "metadata": {
            "needs_background": "light"
          }
        }
      ]
    },
    {
      "cell_type": "code",
      "source": [
        "tn, fp, fn, tp=cm.ravel()\n",
        "print (\"TP: \", tp,\"\\n\" \"FP: \",fp,\"\\n\" \"TN: \", tn,\"\\n\" \"FN: \",fn)\n",
        "print()\n",
        "print(classification_report(y_test, y_pred))"
      ],
      "metadata": {
        "colab": {
          "base_uri": "https://localhost:8080/"
        },
        "id": "1leZogJ9yx4I",
        "outputId": "a82a15f2-4706-4524-8b61-9391b311c564"
      },
      "execution_count": 23,
      "outputs": [
        {
          "output_type": "stream",
          "name": "stdout",
          "text": [
            "TP:  135 \n",
            "FP:  8 \n",
            "TN:  128 \n",
            "FN:  9\n",
            "\n",
            "              precision    recall  f1-score   support\n",
            "\n",
            "           0       0.93      0.94      0.94       136\n",
            "           1       0.94      0.94      0.94       144\n",
            "\n",
            "    accuracy                           0.94       280\n",
            "   macro avg       0.94      0.94      0.94       280\n",
            "weighted avg       0.94      0.94      0.94       280\n",
            "\n"
          ]
        }
      ]
    },
    {
      "cell_type": "markdown",
      "source": [
        "# Random Forest"
      ],
      "metadata": {
        "id": "gN9TvU8uy51i"
      }
    },
    {
      "cell_type": "code",
      "source": [
        "# The above process is now repeated for the top 20 features as selected by the Random Forest selection algorithm.\n",
        "\n",
        "X = featuresRFC.iloc[:,0:20]\n",
        "y = featuresRFC['WinningRecord']"
      ],
      "metadata": {
        "id": "yW6jNN-6y1pQ"
      },
      "execution_count": 24,
      "outputs": []
    },
    {
      "cell_type": "code",
      "source": [
        "featuresRFC.iloc[:,0:20].head()"
      ],
      "metadata": {
        "colab": {
          "base_uri": "https://localhost:8080/",
          "height": 305
        },
        "id": "JiWs_XWTP8G-",
        "outputId": "eea90ad4-e789-44e2-e473-7ef66abf0c28"
      },
      "execution_count": 25,
      "outputs": [
        {
          "output_type": "execute_result",
          "data": {
            "text/plain": [
              "       ERA+  OPS+      RA/G       R/G      1Run        SV       H_P      BB_P  \\\n",
              "0  0.173913  0.44  0.477612  0.339394  0.559387  0.302094  0.622353  0.429180   \n",
              "1  0.637681  0.32  0.000000  0.133333  0.390805  0.194577  0.181001  0.154861   \n",
              "2  0.231884  0.56  0.300995  0.363636  0.641762  0.265422  0.464920  0.429180   \n",
              "3  0.275362  0.36  0.161692  0.000000  0.618774  0.100396  0.159225  0.688073   \n",
              "4  0.594203  0.46  0.208955  0.442424  0.392720  0.390013  0.482468  0.204570   \n",
              "\n",
              "   #a-tA-S  Under500    DefEff      Rtot        PA        IP        BB  \\\n",
              "0     0.45  0.402703  0.602041  0.391473  0.594126  0.678982  0.465585   \n",
              "1     0.65  0.389189  1.000000  0.841085  0.356231  0.697641  0.410213   \n",
              "2     0.75  0.385135  0.581633  0.372093  0.523644  0.710241  0.440077   \n",
              "3     0.40  0.271622  0.867347  0.569767  0.279588  0.680184  0.021753   \n",
              "4     0.60  0.528378  0.663265  0.441860  0.566620  0.752545  0.540521   \n",
              "\n",
              "       PAge      HR_P        HR    BatAge       IBB  \n",
              "0  0.405941  0.418914  0.380797  0.292135  0.288005  \n",
              "1  0.465347  0.123964  0.213898  0.460674  0.380978  \n",
              "2  0.475248  0.189573  0.303797  0.483146  0.322774  \n",
              "3  0.336634  0.142855  0.126699  0.505618  0.343635  \n",
              "4  0.455446  0.233241  0.335165  0.606742  0.520958  "
            ],
            "text/html": [
              "\n",
              "  <div id=\"df-b621b40f-4c64-42cd-952d-c1647ef2d601\">\n",
              "    <div class=\"colab-df-container\">\n",
              "      <div>\n",
              "<style scoped>\n",
              "    .dataframe tbody tr th:only-of-type {\n",
              "        vertical-align: middle;\n",
              "    }\n",
              "\n",
              "    .dataframe tbody tr th {\n",
              "        vertical-align: top;\n",
              "    }\n",
              "\n",
              "    .dataframe thead th {\n",
              "        text-align: right;\n",
              "    }\n",
              "</style>\n",
              "<table border=\"1\" class=\"dataframe\">\n",
              "  <thead>\n",
              "    <tr style=\"text-align: right;\">\n",
              "      <th></th>\n",
              "      <th>ERA+</th>\n",
              "      <th>OPS+</th>\n",
              "      <th>RA/G</th>\n",
              "      <th>R/G</th>\n",
              "      <th>1Run</th>\n",
              "      <th>SV</th>\n",
              "      <th>H_P</th>\n",
              "      <th>BB_P</th>\n",
              "      <th>#a-tA-S</th>\n",
              "      <th>Under500</th>\n",
              "      <th>DefEff</th>\n",
              "      <th>Rtot</th>\n",
              "      <th>PA</th>\n",
              "      <th>IP</th>\n",
              "      <th>BB</th>\n",
              "      <th>PAge</th>\n",
              "      <th>HR_P</th>\n",
              "      <th>HR</th>\n",
              "      <th>BatAge</th>\n",
              "      <th>IBB</th>\n",
              "    </tr>\n",
              "  </thead>\n",
              "  <tbody>\n",
              "    <tr>\n",
              "      <th>0</th>\n",
              "      <td>0.173913</td>\n",
              "      <td>0.44</td>\n",
              "      <td>0.477612</td>\n",
              "      <td>0.339394</td>\n",
              "      <td>0.559387</td>\n",
              "      <td>0.302094</td>\n",
              "      <td>0.622353</td>\n",
              "      <td>0.429180</td>\n",
              "      <td>0.45</td>\n",
              "      <td>0.402703</td>\n",
              "      <td>0.602041</td>\n",
              "      <td>0.391473</td>\n",
              "      <td>0.594126</td>\n",
              "      <td>0.678982</td>\n",
              "      <td>0.465585</td>\n",
              "      <td>0.405941</td>\n",
              "      <td>0.418914</td>\n",
              "      <td>0.380797</td>\n",
              "      <td>0.292135</td>\n",
              "      <td>0.288005</td>\n",
              "    </tr>\n",
              "    <tr>\n",
              "      <th>1</th>\n",
              "      <td>0.637681</td>\n",
              "      <td>0.32</td>\n",
              "      <td>0.000000</td>\n",
              "      <td>0.133333</td>\n",
              "      <td>0.390805</td>\n",
              "      <td>0.194577</td>\n",
              "      <td>0.181001</td>\n",
              "      <td>0.154861</td>\n",
              "      <td>0.65</td>\n",
              "      <td>0.389189</td>\n",
              "      <td>1.000000</td>\n",
              "      <td>0.841085</td>\n",
              "      <td>0.356231</td>\n",
              "      <td>0.697641</td>\n",
              "      <td>0.410213</td>\n",
              "      <td>0.465347</td>\n",
              "      <td>0.123964</td>\n",
              "      <td>0.213898</td>\n",
              "      <td>0.460674</td>\n",
              "      <td>0.380978</td>\n",
              "    </tr>\n",
              "    <tr>\n",
              "      <th>2</th>\n",
              "      <td>0.231884</td>\n",
              "      <td>0.56</td>\n",
              "      <td>0.300995</td>\n",
              "      <td>0.363636</td>\n",
              "      <td>0.641762</td>\n",
              "      <td>0.265422</td>\n",
              "      <td>0.464920</td>\n",
              "      <td>0.429180</td>\n",
              "      <td>0.75</td>\n",
              "      <td>0.385135</td>\n",
              "      <td>0.581633</td>\n",
              "      <td>0.372093</td>\n",
              "      <td>0.523644</td>\n",
              "      <td>0.710241</td>\n",
              "      <td>0.440077</td>\n",
              "      <td>0.475248</td>\n",
              "      <td>0.189573</td>\n",
              "      <td>0.303797</td>\n",
              "      <td>0.483146</td>\n",
              "      <td>0.322774</td>\n",
              "    </tr>\n",
              "    <tr>\n",
              "      <th>3</th>\n",
              "      <td>0.275362</td>\n",
              "      <td>0.36</td>\n",
              "      <td>0.161692</td>\n",
              "      <td>0.000000</td>\n",
              "      <td>0.618774</td>\n",
              "      <td>0.100396</td>\n",
              "      <td>0.159225</td>\n",
              "      <td>0.688073</td>\n",
              "      <td>0.40</td>\n",
              "      <td>0.271622</td>\n",
              "      <td>0.867347</td>\n",
              "      <td>0.569767</td>\n",
              "      <td>0.279588</td>\n",
              "      <td>0.680184</td>\n",
              "      <td>0.021753</td>\n",
              "      <td>0.336634</td>\n",
              "      <td>0.142855</td>\n",
              "      <td>0.126699</td>\n",
              "      <td>0.505618</td>\n",
              "      <td>0.343635</td>\n",
              "    </tr>\n",
              "    <tr>\n",
              "      <th>4</th>\n",
              "      <td>0.594203</td>\n",
              "      <td>0.46</td>\n",
              "      <td>0.208955</td>\n",
              "      <td>0.442424</td>\n",
              "      <td>0.392720</td>\n",
              "      <td>0.390013</td>\n",
              "      <td>0.482468</td>\n",
              "      <td>0.204570</td>\n",
              "      <td>0.60</td>\n",
              "      <td>0.528378</td>\n",
              "      <td>0.663265</td>\n",
              "      <td>0.441860</td>\n",
              "      <td>0.566620</td>\n",
              "      <td>0.752545</td>\n",
              "      <td>0.540521</td>\n",
              "      <td>0.455446</td>\n",
              "      <td>0.233241</td>\n",
              "      <td>0.335165</td>\n",
              "      <td>0.606742</td>\n",
              "      <td>0.520958</td>\n",
              "    </tr>\n",
              "  </tbody>\n",
              "</table>\n",
              "</div>\n",
              "      <button class=\"colab-df-convert\" onclick=\"convertToInteractive('df-b621b40f-4c64-42cd-952d-c1647ef2d601')\"\n",
              "              title=\"Convert this dataframe to an interactive table.\"\n",
              "              style=\"display:none;\">\n",
              "        \n",
              "  <svg xmlns=\"http://www.w3.org/2000/svg\" height=\"24px\"viewBox=\"0 0 24 24\"\n",
              "       width=\"24px\">\n",
              "    <path d=\"M0 0h24v24H0V0z\" fill=\"none\"/>\n",
              "    <path d=\"M18.56 5.44l.94 2.06.94-2.06 2.06-.94-2.06-.94-.94-2.06-.94 2.06-2.06.94zm-11 1L8.5 8.5l.94-2.06 2.06-.94-2.06-.94L8.5 2.5l-.94 2.06-2.06.94zm10 10l.94 2.06.94-2.06 2.06-.94-2.06-.94-.94-2.06-.94 2.06-2.06.94z\"/><path d=\"M17.41 7.96l-1.37-1.37c-.4-.4-.92-.59-1.43-.59-.52 0-1.04.2-1.43.59L10.3 9.45l-7.72 7.72c-.78.78-.78 2.05 0 2.83L4 21.41c.39.39.9.59 1.41.59.51 0 1.02-.2 1.41-.59l7.78-7.78 2.81-2.81c.8-.78.8-2.07 0-2.86zM5.41 20L4 18.59l7.72-7.72 1.47 1.35L5.41 20z\"/>\n",
              "  </svg>\n",
              "      </button>\n",
              "      \n",
              "  <style>\n",
              "    .colab-df-container {\n",
              "      display:flex;\n",
              "      flex-wrap:wrap;\n",
              "      gap: 12px;\n",
              "    }\n",
              "\n",
              "    .colab-df-convert {\n",
              "      background-color: #E8F0FE;\n",
              "      border: none;\n",
              "      border-radius: 50%;\n",
              "      cursor: pointer;\n",
              "      display: none;\n",
              "      fill: #1967D2;\n",
              "      height: 32px;\n",
              "      padding: 0 0 0 0;\n",
              "      width: 32px;\n",
              "    }\n",
              "\n",
              "    .colab-df-convert:hover {\n",
              "      background-color: #E2EBFA;\n",
              "      box-shadow: 0px 1px 2px rgba(60, 64, 67, 0.3), 0px 1px 3px 1px rgba(60, 64, 67, 0.15);\n",
              "      fill: #174EA6;\n",
              "    }\n",
              "\n",
              "    [theme=dark] .colab-df-convert {\n",
              "      background-color: #3B4455;\n",
              "      fill: #D2E3FC;\n",
              "    }\n",
              "\n",
              "    [theme=dark] .colab-df-convert:hover {\n",
              "      background-color: #434B5C;\n",
              "      box-shadow: 0px 1px 3px 1px rgba(0, 0, 0, 0.15);\n",
              "      filter: drop-shadow(0px 1px 2px rgba(0, 0, 0, 0.3));\n",
              "      fill: #FFFFFF;\n",
              "    }\n",
              "  </style>\n",
              "\n",
              "      <script>\n",
              "        const buttonEl =\n",
              "          document.querySelector('#df-b621b40f-4c64-42cd-952d-c1647ef2d601 button.colab-df-convert');\n",
              "        buttonEl.style.display =\n",
              "          google.colab.kernel.accessAllowed ? 'block' : 'none';\n",
              "\n",
              "        async function convertToInteractive(key) {\n",
              "          const element = document.querySelector('#df-b621b40f-4c64-42cd-952d-c1647ef2d601');\n",
              "          const dataTable =\n",
              "            await google.colab.kernel.invokeFunction('convertToInteractive',\n",
              "                                                     [key], {});\n",
              "          if (!dataTable) return;\n",
              "\n",
              "          const docLinkHtml = 'Like what you see? Visit the ' +\n",
              "            '<a target=\"_blank\" href=https://colab.research.google.com/notebooks/data_table.ipynb>data table notebook</a>'\n",
              "            + ' to learn more about interactive tables.';\n",
              "          element.innerHTML = '';\n",
              "          dataTable['output_type'] = 'display_data';\n",
              "          await google.colab.output.renderOutput(dataTable, element);\n",
              "          const docLink = document.createElement('div');\n",
              "          docLink.innerHTML = docLinkHtml;\n",
              "          element.appendChild(docLink);\n",
              "        }\n",
              "      </script>\n",
              "    </div>\n",
              "  </div>\n",
              "  "
            ]
          },
          "metadata": {},
          "execution_count": 25
        }
      ]
    },
    {
      "cell_type": "code",
      "source": [
        "X_train, X_test, y_train, y_test = train_test_split(X, y, test_size=0.2, random_state=1, stratify=y)"
      ],
      "metadata": {
        "id": "K0pCxTlgy9g7"
      },
      "execution_count": 26,
      "outputs": []
    },
    {
      "cell_type": "code",
      "source": [
        "train_scores, valid_scores = validation_curve(LogisticRegression(max_iter=5000, penalty='l1'), X_train, y_train, param_name=\"solver\", param_range=solver, scoring='accuracy', cv=10)\n",
        "train_scores_mean = np.mean(train_scores, axis=1)\n",
        "valid_scores_mean = np.mean(valid_scores, axis=1)\n",
        "\n",
        "print(valid_scores_mean)\n",
        "plt.title(\"Validation Curve with Logistic Regression\")\n",
        "plt.xlabel(\"Solver\")\n",
        "plt.ylabel(\"Accuracy\")\n",
        "plt.plot(solver, train_scores_mean, label=\"train accuracy\")\n",
        "plt.plot(solver, valid_scores_mean, label=\"validation accuracy\")\n",
        "\n",
        "plt.legend()\n",
        "plt.show()"
      ],
      "metadata": {
        "colab": {
          "base_uri": "https://localhost:8080/",
          "height": 312
        },
        "id": "-KoJxGX5y_c1",
        "outputId": "87aae61b-0835-40c0-f569-c82103279a70"
      },
      "execution_count": 27,
      "outputs": [
        {
          "output_type": "stream",
          "name": "stdout",
          "text": [
            "[0.93102477 0.93462033        nan        nan        nan]\n"
          ]
        },
        {
          "output_type": "display_data",
          "data": {
            "text/plain": [
              "<Figure size 432x288 with 1 Axes>"
            ],
            "image/png": "[encoded data removed]"
          },
          "metadata": {
            "needs_background": "light"
          }
        }
      ]
    },
    {
      "cell_type": "code",
      "source": [
        "train_scores, valid_scores = validation_curve(LogisticRegression(max_iter=5000, penalty='l1'), X_train, y_train, param_name=\"solver\", param_range=solver, scoring='accuracy', cv=10)\n",
        "train_scores_std = np.std(train_scores, axis=1)\n",
        "valid_scores_std = np.std(valid_scores, axis=1)\n",
        "\n",
        "print(valid_scores_std)\n",
        "plt.title(\"Validation Curve with Logistic Regression\")\n",
        "plt.xlabel(\"Solver\")\n",
        "plt.ylabel(\"Std. Deviation\")\n",
        "plt.plot(solver, train_scores_std, label=\"train std. deviation\")\n",
        "plt.plot(solver, valid_scores_std, label=\"validation std. deviation\")\n",
        "\n",
        "plt.legend()\n",
        "plt.show()"
      ],
      "metadata": {
        "colab": {
          "base_uri": "https://localhost:8080/",
          "height": 312
        },
        "id": "8XvlaXdFzCRD",
        "outputId": "f6b5a887-1a08-4106-ebf5-026e3eca4e22"
      },
      "execution_count": 28,
      "outputs": [
        {
          "output_type": "stream",
          "name": "stdout",
          "text": [
            "[0.02074305 0.02490883        nan        nan        nan]\n"
          ]
        },
        {
          "output_type": "display_data",
          "data": {
            "text/plain": [
              "<Figure size 432x288 with 1 Axes>"
            ],
            "image/png": "[encoded data removed]"
          },
          "metadata": {
            "needs_background": "light"
          }
        }
      ]
    },
    {
      "cell_type": "code",
      "source": [
        "logreg = LogisticRegression(max_iter=5000, solver='liblinear', penalty='l1')\n",
        "logreg.fit(X_train, y_train)\n",
        "y_pred = logreg.predict(X_test)\n",
        "cm = metrics.confusion_matrix(y_test, y_pred)"
      ],
      "metadata": {
        "id": "j-a4M8vpzFeT"
      },
      "execution_count": 29,
      "outputs": []
    },
    {
      "cell_type": "code",
      "source": [
        "plt.figure(figsize=(5,5))\n",
        "sns.heatmap(cm, annot=True, fmt=\".0f\", linewidths=.5, square = True, cmap = 'Blues_r');\n",
        "plt.ylabel('Actual label');\n",
        "plt.xlabel('Predicted label');\n",
        "all_sample_title = 'Accuracy Score: {0}'.format(round(accuracy_score(y_test, y_pred),3))\n",
        "plt.title(all_sample_title, size = 15);"
      ],
      "metadata": {
        "colab": {
          "base_uri": "https://localhost:8080/",
          "height": 309
        },
        "id": "7CCa79pyzImb",
        "outputId": "2f6facdd-9df2-4209-987b-6d50e0c58dba"
      },
      "execution_count": 30,
      "outputs": [
        {
          "output_type": "display_data",
          "data": {
            "text/plain": [
              "<Figure size 360x360 with 2 Axes>"
            ],
            "image/png": "[encoded data removed]"
          },
          "metadata": {
            "needs_background": "light"
          }
        }
      ]
    },
    {
      "cell_type": "code",
      "source": [
        "tn, fp, fn, tp=cm.ravel()\n",
        "print (\"TP: \", tp,\"\\n\" \"FP: \",fp,\"\\n\" \"TN: \", tn,\"\\n\" \"FN: \",fn)\n",
        "print()\n",
        "print(classification_report(y_test, y_pred))"
      ],
      "metadata": {
        "colab": {
          "base_uri": "https://localhost:8080/"
        },
        "id": "_klNvvzDzLHz",
        "outputId": "57f893f3-bbf4-4168-ec11-af9310ebf675"
      },
      "execution_count": 31,
      "outputs": [
        {
          "output_type": "stream",
          "name": "stdout",
          "text": [
            "TP:  135 \n",
            "FP:  8 \n",
            "TN:  128 \n",
            "FN:  9\n",
            "\n",
            "              precision    recall  f1-score   support\n",
            "\n",
            "           0       0.93      0.94      0.94       136\n",
            "           1       0.94      0.94      0.94       144\n",
            "\n",
            "    accuracy                           0.94       280\n",
            "   macro avg       0.94      0.94      0.94       280\n",
            "weighted avg       0.94      0.94      0.94       280\n",
            "\n"
          ]
        }
      ]
    }
  ]
}
